{
 "cells": [
  {
   "cell_type": "markdown",
   "id": "3ea70851-aa3f-40c2-aa57-8be2537ff6bd",
   "metadata": {},
   "source": [
    "# Práctica 1. Atributos de una imagen\n",
    "\n",
    "<div class=\"alert alert-block alert-success\">\n",
    "<b>Resumen:</b> El siguiente código muestra cómo acceder a los atributos de una imagen utilizando la librería OpenCV. \n",
    "</div>"
   ]
  },
  {
   "cell_type": "code",
   "execution_count": null,
   "id": "85c00eee-f513-4c6d-955b-8808fbc01aec",
   "metadata": {},
   "outputs": [],
   "source": [
    "# Importar las librerías necesarias\n",
    "import cv2"
   ]
  },
  {
   "cell_type": "markdown",
   "id": "1d45a5d3-1ed9-4c77-a87e-391d25adffde",
   "metadata": {},
   "source": [
    "Función para imprimir atributos de una imagen"
   ]
  },
  {
   "cell_type": "code",
   "execution_count": null,
   "id": "c5d5a611-0f43-46f2-bb11-845fd69155d2",
   "metadata": {},
   "outputs": [],
   "source": [
    "def printAttributes(img):\n",
    "    \"\"\"\n",
    "    Imprime los atributos de una imagen.\n",
    "\n",
    "    Este procedimiento muestra:\n",
    "        - El alto y el ancho (en píxeles).\n",
    "        - El número de canales (p. ej. 1 en escala de grises, 3 en color BGR).\n",
    "        - El tipo de dato de los píxeles (dtype).\n",
    "        - El número total de píxeles.\n",
    "        - El tamaño en bytes.\n",
    "        - Valores estadísticos (mínimo, máximo y promedio).\n",
    "\n",
    "    Parámetros:\n",
    "        img (numpy.ndarray): Imagen cargada en forma de arreglo NumPy.\n",
    "\n",
    "    Retorno:\n",
    "        None. La función imprime los datos en pantalla.\n",
    "    \"\"\"\n",
    "    print('Características de la imagen:')\n",
    "    print('-------')\n",
    "    print(f'Alto: {img.shape[0]} píxeles')\n",
    "    print(f'Ancho: {img.shape[1]} píxeles')\n",
    "    \n",
    "    # Número de canales\n",
    "    if len(img.shape) == 2:\n",
    "        num_canales = 1\n",
    "    else:\n",
    "        num_canales = img.shape[2]\n",
    "    print(f'Número de canales: {num_canales}')\n",
    "    \n",
    "    # Tipo de dato\n",
    "    print(f'Tipo de dato: {img.dtype}')\n",
    "    \n",
    "    # Número total de píxeles\n",
    "    num_pixeles = img.shape[0] * img.shape[1]\n",
    "    print(f'Número total de píxeles: {num_pixeles}')\n",
    "    \n",
    "    # Tamaño en bytes\n",
    "    print(f'Tamaño de la imagen en bytes: {img.nbytes}')\n",
    "    print('-------')"
   ]
  },
  {
   "cell_type": "markdown",
   "id": "eccce098-420f-4975-bac8-a119fc7653e0",
   "metadata": {},
   "source": [
    "Lectura de la imagen"
   ]
  },
  {
   "cell_type": "code",
   "execution_count": null,
   "id": "c4f90577-a1ae-437a-9a65-5ffd9211b44b",
   "metadata": {},
   "outputs": [],
   "source": [
    "im_01 = cv2.imread('.\\images\\circles.png')"
   ]
  },
  {
   "cell_type": "markdown",
   "id": "13c9a0f3-6a51-418b-b38d-ab97264932c8",
   "metadata": {},
   "source": [
    "Verificar si la imagen se ha leído correctamente"
   ]
  },
  {
   "cell_type": "code",
   "execution_count": null,
   "id": "9550d505-6929-4545-8bfc-d56bb0a55e58",
   "metadata": {},
   "outputs": [],
   "source": [
    "if im_01 is None:\n",
    "    print(\"Could not read the image.\")\n",
    "else:\n",
    "    printAttributes( im_01 )"
   ]
  },
  {
   "cell_type": "markdown",
   "id": "4d77c908-0666-426f-b5e5-bdc38841b1c6",
   "metadata": {},
   "source": [
    "<div style=\"text-align: center; margin: 20px 0;\">\n",
    "  <hr style=\"border: none; height: 2px; background: linear-gradient(to right, #bbb, #333, #bbb); width: 50%; margin: 0 auto;\" />\n",
    "</div>"
   ]
  }
 ],
 "metadata": {
  "kernelspec": {
   "display_name": "cv2-kernel",
   "language": "python",
   "name": "cv2-kernel"
  },
  "language_info": {
   "codemirror_mode": {
    "name": "ipython",
    "version": 3
   },
   "file_extension": ".py",
   "mimetype": "text/x-python",
   "name": "python",
   "nbconvert_exporter": "python",
   "pygments_lexer": "ipython3",
   "version": "3.8.18"
  }
 },
 "nbformat": 4,
 "nbformat_minor": 5
}
