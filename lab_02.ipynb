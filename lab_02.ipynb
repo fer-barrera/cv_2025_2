{
 "cells": [
  {
   "cell_type": "markdown",
   "id": "87f045a3-d50d-4592-9c83-f7955f57587d",
   "metadata": {},
   "source": [
    "# Práctica 2. Operaciones sobre imágenes binarias\n",
    "\n",
    "<div class=\"alert alert-block alert-success\">\n",
    "<b>Resumen:</b> El siguiente código muestra como realizar una serie de operaciones sobre imágenes binarias utilizando Python y OpenCV. Inicia con la lectura de una imagen binaria en escala de grises. Luego, se realiza la inversión de esta para obtener su negativo. A continuación, se dibujan líneas horizontales y verticales sobre la imagen invertida. Se crea una nueva imagen binaria vacía, en la que se define una región rectangular con valores de 1 (blanco). Finalmente, se ejecutan operaciones lógicas AND y OR entre las imágenes, mostrando el resultado de cada operación. Cada paso es visualizado para comprobar los efectos de las operaciones.\n",
    "</div>"
   ]
  },
  {
   "cell_type": "code",
   "execution_count": null,
   "id": "926fa5c1-ff2f-4221-922d-67e848c1caab",
   "metadata": {},
   "outputs": [],
   "source": [
    "# Importar las librerías necesarias\n",
    "import cv2\n",
    "import numpy as np\n",
    "import matplotlib.pyplot as plt"
   ]
  },
  {
   "cell_type": "markdown",
   "id": "78417b09-4dd4-4995-a568-b0bd64a91bdb",
   "metadata": {},
   "source": [
    "## 1. Imágenes binarias\n",
    "\n",
    "Lectura de una imagen binaria"
   ]
  },
  {
   "cell_type": "code",
   "execution_count": null,
   "id": "0a1a29cc-f684-4a49-931a-f8ac322fe9d5",
   "metadata": {},
   "outputs": [],
   "source": [
    "im_bw = cv2.imread('.\\images\\circles.png', cv2.IMREAD_GRAYSCALE)"
   ]
  },
  {
   "cell_type": "markdown",
   "id": "aa9a605e-a0a0-4d09-ba43-0054a45deb3d",
   "metadata": {},
   "source": [
    "Mostrar la imagen"
   ]
  },
  {
   "cell_type": "code",
   "execution_count": null,
   "id": "82338641-d1e4-4c31-908f-5e112e444c15",
   "metadata": {},
   "outputs": [],
   "source": [
    "plt.figure(figsize=(5,5))\n",
    "plt.imshow(im_bw, cmap='gray')\n",
    "plt.title('Imagen Binaria Original')\n",
    "plt.axis('off')\n",
    "plt.show()"
   ]
  },
  {
   "cell_type": "markdown",
   "id": "b5a661c9-70ac-4ad5-be13-315491a2b833",
   "metadata": {},
   "source": [
    "## 2. Operaciones\n",
    "### 2.1. Negativo de la imagen"
   ]
  },
  {
   "cell_type": "code",
   "execution_count": null,
   "id": "0dd19657-5c1a-459b-b6d0-1a4bad3041dd",
   "metadata": {},
   "outputs": [],
   "source": [
    "im_bw_not = cv2.bitwise_not(im_bw)"
   ]
  },
  {
   "cell_type": "markdown",
   "id": "776a8c4e-095b-4237-ad00-3135e5843815",
   "metadata": {},
   "source": [
    "Mostrar la imagen negativa"
   ]
  },
  {
   "cell_type": "code",
   "execution_count": null,
   "id": "1c598473-f64c-4e56-80bc-fbfce9fde2bb",
   "metadata": {},
   "outputs": [],
   "source": [
    "plt.figure(figsize=(5,5))\n",
    "plt.imshow(im_bw_not, cmap='gray')\n",
    "plt.title('Negativo de la Imagen')\n",
    "plt.axis('off')\n",
    "plt.show()"
   ]
  },
  {
   "cell_type": "markdown",
   "id": "58b9e5bb-effc-417d-b014-3963f3655c74",
   "metadata": {},
   "source": [
    "### 2.2. Operador :\n",
    "#### 2.2.1 Dibujo de una línea horizontal"
   ]
  },
  {
   "cell_type": "code",
   "execution_count": null,
   "id": "96f0b386-56ee-474f-9585-4b206d8fe660",
   "metadata": {},
   "outputs": [],
   "source": [
    "im_bw_not[75, :] = 1\n",
    "im_bw_not[175, :] = 1"
   ]
  },
  {
   "cell_type": "markdown",
   "id": "3b6c16d5-c272-42d1-900f-feca8cc3d13d",
   "metadata": {},
   "source": [
    "Mostrar la imagen con la línea horizontal"
   ]
  },
  {
   "cell_type": "code",
   "execution_count": null,
   "id": "3b5c594a-4537-4eb2-b3d9-3c76fec3dea8",
   "metadata": {},
   "outputs": [],
   "source": [
    "plt.figure(figsize=(5,5))\n",
    "plt.imshow(im_bw_not, cmap='gray')\n",
    "plt.title('Línea Horizontal Dibujada')\n",
    "plt.axis('on')\n",
    "plt.show()"
   ]
  },
  {
   "cell_type": "markdown",
   "id": "262a891f-74ea-4653-90af-b1235f630208",
   "metadata": {},
   "source": [
    "#### 2.2.2 Dibujo de una línea vertical"
   ]
  },
  {
   "cell_type": "code",
   "execution_count": null,
   "id": "c14c203c-2c5c-4a95-bea4-14f6574820e9",
   "metadata": {},
   "outputs": [],
   "source": [
    "im_bw_not[:, 100] = 0"
   ]
  },
  {
   "cell_type": "markdown",
   "id": "a21f3b89-5a55-4500-a4df-26f0f751be18",
   "metadata": {},
   "source": [
    "Mostrar la imagen con la línea vertical"
   ]
  },
  {
   "cell_type": "code",
   "execution_count": null,
   "id": "8035bd3d-e7a5-45f5-964a-377023719e2a",
   "metadata": {
    "scrolled": true
   },
   "outputs": [],
   "source": [
    "plt.figure(figsize=(5,5))\n",
    "plt.imshow(im_bw_not, cmap='gray')\n",
    "plt.title('Línea Vertical Dibujada')\n",
    "plt.axis('on')\n",
    "plt.show()"
   ]
  },
  {
   "cell_type": "markdown",
   "id": "3d684da2-2b30-4170-9d29-9878c1ff0bb3",
   "metadata": {},
   "source": [
    "### 2.3. Creación de una imagen binaria"
   ]
  },
  {
   "cell_type": "code",
   "execution_count": null,
   "id": "87fcf4af-63c4-4e7b-a33c-eda95559b018",
   "metadata": {},
   "outputs": [],
   "source": [
    "im_bw_2 = np.zeros((256, 256), dtype=np.uint8)"
   ]
  },
  {
   "cell_type": "markdown",
   "id": "05f7ddf1-25e1-4c98-befd-3f782c047363",
   "metadata": {},
   "source": [
    "Mostrar la imagen binaria creada"
   ]
  },
  {
   "cell_type": "code",
   "execution_count": null,
   "id": "115f042a-7cb4-44c7-95df-4ed6ccb6c11b",
   "metadata": {},
   "outputs": [],
   "source": [
    "plt.figure(figsize=(5,5))\n",
    "plt.imshow(im_bw_2, cmap='gray')\n",
    "plt.title('Nueva Imagen Binaria')\n",
    "plt.axis('off')\n",
    "plt.show()"
   ]
  },
  {
   "cell_type": "markdown",
   "id": "67b27caa-9919-46b5-accb-6952dd5e52cc",
   "metadata": {},
   "source": [
    "### 2.4. Operador a:b"
   ]
  },
  {
   "cell_type": "code",
   "execution_count": null,
   "id": "f2fc1b80-016c-487b-94b8-9a4c2ef44e5f",
   "metadata": {},
   "outputs": [],
   "source": [
    "im_bw_2[80:120, 10:150] = 255\n",
    "im_bw_2[20,80:150] = 255"
   ]
  },
  {
   "cell_type": "markdown",
   "id": "7ea34f80-602e-45da-be41-9babe99f22d4",
   "metadata": {},
   "source": [
    "Mostrar la imagen con la región modificada"
   ]
  },
  {
   "cell_type": "code",
   "execution_count": null,
   "id": "2fed12a5-6c39-430b-83cd-02d3e08d3b00",
   "metadata": {},
   "outputs": [],
   "source": [
    "plt.figure(figsize=(5,5))\n",
    "plt.imshow(im_bw_2, cmap='gray')\n",
    "plt.title('Operador a:b aplicado')\n",
    "plt.axis('on')\n",
    "plt.show()"
   ]
  },
  {
   "cell_type": "markdown",
   "id": "f0d17006-974e-47b4-8b5d-0220ed5d66b4",
   "metadata": {},
   "source": [
    "### 2.5. Operaciones binarias\n",
    "#### 2.5.1 AND"
   ]
  },
  {
   "cell_type": "code",
   "execution_count": null,
   "id": "54bd8a7e-d68a-4557-9919-f8d3e13a4e1d",
   "metadata": {},
   "outputs": [],
   "source": [
    "im_bw_3 = cv2.bitwise_and(im_bw_2, im_bw_not)"
   ]
  },
  {
   "cell_type": "markdown",
   "id": "348f6bd4-293c-494a-86c4-2bfef1097557",
   "metadata": {},
   "source": [
    "Mostrar la imagen resultante de la operación AND"
   ]
  },
  {
   "cell_type": "code",
   "execution_count": null,
   "id": "8f7731c8-deac-43d6-bb58-0c377339a410",
   "metadata": {},
   "outputs": [],
   "source": [
    "plt.figure(figsize=(5,5))\n",
    "plt.imshow(im_bw_3, cmap='gray')\n",
    "plt.title('Operación AND')\n",
    "plt.axis('off')\n",
    "plt.show()"
   ]
  },
  {
   "cell_type": "markdown",
   "id": "0428d2d7-ac18-4fa1-bbd9-3986722e581a",
   "metadata": {},
   "source": [
    "#### 2.5.2 OR"
   ]
  },
  {
   "cell_type": "code",
   "execution_count": null,
   "id": "fde2a48a-5c80-4576-9c97-6f633ad99fb8",
   "metadata": {},
   "outputs": [],
   "source": [
    "im_bw_3 = cv2.bitwise_or(im_bw_2, im_bw_not)"
   ]
  },
  {
   "cell_type": "markdown",
   "id": "49839e6f-f438-405d-a459-b30b556ded74",
   "metadata": {},
   "source": [
    "Mostrar la imagen resultante de la operación OR"
   ]
  },
  {
   "cell_type": "code",
   "execution_count": null,
   "id": "1a18d4b8-a678-4a86-932b-9a984cbdae24",
   "metadata": {},
   "outputs": [],
   "source": [
    "plt.figure(figsize=(5,5))\n",
    "plt.imshow(im_bw_3, cmap='gray')\n",
    "plt.title('Operación OR')\n",
    "plt.axis('off')\n",
    "plt.show()"
   ]
  },
  {
   "cell_type": "markdown",
   "id": "1e9e7703-a5a7-457d-b66a-5bae5da9aa4d",
   "metadata": {},
   "source": [
    "<div style=\"text-align: center; margin: 20px 0;\">\n",
    "  <hr style=\"border: none; height: 2px; background: linear-gradient(to right, #bbb, #333, #bbb); width: 50%; margin: 0 auto;\" />\n",
    "</div>"
   ]
  }
 ],
 "metadata": {
  "kernelspec": {
   "display_name": "cv2-kernel",
   "language": "python",
   "name": "cv2-kernel"
  },
  "language_info": {
   "codemirror_mode": {
    "name": "ipython",
    "version": 3
   },
   "file_extension": ".py",
   "mimetype": "text/x-python",
   "name": "python",
   "nbconvert_exporter": "python",
   "pygments_lexer": "ipython3",
   "version": "3.8.18"
  }
 },
 "nbformat": 4,
 "nbformat_minor": 5
}
