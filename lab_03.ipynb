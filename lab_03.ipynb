{
 "cells": [
  {
   "cell_type": "markdown",
   "id": "cd606a52-a3ed-44fc-ada1-324b399d2339",
   "metadata": {},
   "source": [
    "# Práctica 3. Operaciones sobre imágenes en escala de gris\n",
    "\n",
    "<div class=\"alert alert-block alert-success\">\n",
    "<b>Resumen:</b> Esta práctica presenta un código que realiza operaciones básicas sobre una imagen en escala de grises utilizando Python y OpenCV. Incluye la lectura y visualización de una imagen de prueba, la creación de una copia, la manipulación de píxeles para dibujar líneas horizontales y verticales, la modificación de subregiones específicas de la imagen, y su segmentación en función de umbrales unilaterales y bilaterales.\n",
    "</div>"
   ]
  },
  {
   "cell_type": "code",
   "execution_count": null,
   "id": "3d6d7d5f-a6e7-4a75-a5af-4dfa70bc4d1e",
   "metadata": {},
   "outputs": [],
   "source": [
    "import cv2\n",
    "import numpy as np\n",
    "from matplotlib import pyplot as plt"
   ]
  },
  {
   "cell_type": "markdown",
   "id": "a52d3940-83c0-420b-b7a4-929f07be1b76",
   "metadata": {},
   "source": [
    "## 1. Imágenes en escala de grises\n",
    "\n",
    "Lectura de la imagen"
   ]
  },
  {
   "cell_type": "code",
   "execution_count": null,
   "id": "0b0cdc03-e1f9-492d-a164-8757be625646",
   "metadata": {},
   "outputs": [],
   "source": [
    "im_gray = cv2.imread('.\\images\\cameraman.tif', cv2.IMREAD_UNCHANGED)"
   ]
  },
  {
   "cell_type": "markdown",
   "id": "88bf7098-96fc-42d6-a9b1-b1036a2c7343",
   "metadata": {},
   "source": [
    "Atributos de la imagen"
   ]
  },
  {
   "cell_type": "code",
   "execution_count": null,
   "id": "933d267d-11b9-4711-aee9-9c75d78290f4",
   "metadata": {},
   "outputs": [],
   "source": [
    "print(f'Forma de la imagen: {im_gray.shape}')\n",
    "print(f'Tipo de datos: {im_gray.dtype}')"
   ]
  },
  {
   "cell_type": "markdown",
   "id": "bc09e480-87d0-41a2-a433-61c9a0b1c83b",
   "metadata": {},
   "source": [
    "Visualización de la imagen"
   ]
  },
  {
   "cell_type": "code",
   "execution_count": null,
   "id": "27659c50-8654-405e-ad26-449e5c56d683",
   "metadata": {},
   "outputs": [],
   "source": [
    "plt.imshow(im_gray, cmap='gray')\n",
    "plt.title('Imagen Original')\n",
    "plt.axis('off')\n",
    "plt.show()"
   ]
  },
  {
   "cell_type": "markdown",
   "id": "1d8f1cfa-ac58-425b-a114-4e1cbdf79de1",
   "metadata": {},
   "source": [
    "## 2. Operaciones\n",
    "### 2.1 Copia de la imagen"
   ]
  },
  {
   "cell_type": "code",
   "execution_count": null,
   "id": "653350c3-e8e1-4519-9141-9d852252180d",
   "metadata": {},
   "outputs": [],
   "source": [
    "im_gray_2 = im_gray.copy()"
   ]
  },
  {
   "cell_type": "markdown",
   "id": "7cb3e23d-900e-40eb-9664-3c2ddd3a4a3a",
   "metadata": {},
   "source": [
    "### 2.2 Operador :\n",
    "#### 2.2.1 Dibujo de una línea horizontal\n",
    "\n",
    "Dado que la imagen es tipo UINT8 los valores de los píxeles varían entre [0, 255]"
   ]
  },
  {
   "cell_type": "code",
   "execution_count": null,
   "id": "bd4b3fa2-bbe8-4c02-95f0-9bd05726b68c",
   "metadata": {},
   "outputs": [],
   "source": [
    "im_gray_2[50, :] = 0"
   ]
  },
  {
   "cell_type": "code",
   "execution_count": null,
   "id": "246a714a-1b1f-4570-b929-09d46b154781",
   "metadata": {},
   "outputs": [],
   "source": [
    "plt.imshow(im_gray_2, cmap='gray')\n",
    "plt.title('Línea Horizontal')\n",
    "#plt.axis('off')\n",
    "plt.show()"
   ]
  },
  {
   "cell_type": "markdown",
   "id": "23d1e57d-90fe-4a21-92b6-c24d6dfdfb43",
   "metadata": {},
   "source": [
    "#### 2.2.2 Dibujo de una línea vertical"
   ]
  },
  {
   "cell_type": "code",
   "execution_count": null,
   "id": "977f90ce-bbc9-47aa-a1e9-2a2a49ee8ede",
   "metadata": {},
   "outputs": [],
   "source": [
    "im_gray_2[:, 100] = 0"
   ]
  },
  {
   "cell_type": "code",
   "execution_count": null,
   "id": "c2874f87-0516-43a3-a748-ce7cd14aefff",
   "metadata": {},
   "outputs": [],
   "source": [
    "plt.imshow(im_gray_2, cmap='gray')\n",
    "plt.title('Línea Vertical')\n",
    "plt.axis('off')\n",
    "plt.show()"
   ]
  },
  {
   "cell_type": "markdown",
   "id": "6ec784ee-b7b6-45c4-9416-c01a74eef38c",
   "metadata": {},
   "source": [
    "### 2.3 Operador a:b"
   ]
  },
  {
   "cell_type": "code",
   "execution_count": null,
   "id": "45e97a77-3197-49a9-b614-6706847f29c7",
   "metadata": {},
   "outputs": [],
   "source": [
    "im_gray_2[80:120, 10:150] = 200"
   ]
  },
  {
   "cell_type": "code",
   "execution_count": null,
   "id": "16e1bbb7-64ba-498d-baf7-fc58b0c58cfa",
   "metadata": {},
   "outputs": [],
   "source": [
    "plt.imshow(im_gray_2, cmap='gray')\n",
    "plt.title('Operador a:b')\n",
    "plt.axis('on')\n",
    "plt.show()"
   ]
  },
  {
   "cell_type": "markdown",
   "id": "364f1691-e915-4b06-9383-fd56e6df2fca",
   "metadata": {},
   "source": [
    "### 2.4 Segmentación \n",
    "#### 2.4.1 Uni-lateral"
   ]
  },
  {
   "cell_type": "code",
   "execution_count": null,
   "id": "915027c0-f1eb-411e-9429-599234fc60db",
   "metadata": {},
   "outputs": [],
   "source": [
    "im_bw_s1 = im_gray > 20"
   ]
  },
  {
   "cell_type": "code",
   "execution_count": null,
   "id": "7bf5c32a-e974-430f-a27b-d0d75bb77821",
   "metadata": {},
   "outputs": [],
   "source": [
    "plt.imshow(im_bw_s1, cmap='gray')\n",
    "plt.title('Segmentación Uni-lateral (im_gray > 20)')\n",
    "plt.axis('off')\n",
    "plt.show()\n",
    "\n",
    "# propiedades de im_bw_s1\n",
    "print(f'\\nForma de la imagen: {im_bw_s1.shape}')\n",
    "print(f'Tipo de datos: {im_bw_s1.dtype}')"
   ]
  },
  {
   "cell_type": "code",
   "execution_count": null,
   "id": "690d2bc1-15a4-44af-ab4f-a67c951b183d",
   "metadata": {},
   "outputs": [],
   "source": [
    "im_bw_s2 = np.logical_not(im_bw_s1)"
   ]
  },
  {
   "cell_type": "code",
   "execution_count": null,
   "id": "8e8a0cb2-6635-4017-b44d-0c0ec7c14deb",
   "metadata": {},
   "outputs": [],
   "source": [
    "plt.imshow(im_bw_s2, cmap='gray')\n",
    "plt.title('Segmentación Uni-lateral (invertida)')\n",
    "plt.axis('off')\n",
    "plt.show()"
   ]
  },
  {
   "cell_type": "markdown",
   "id": "7def9bb8-74f4-4f59-9061-113f992f9b4a",
   "metadata": {},
   "source": [
    "#### 2.4.2 Bi-lateral"
   ]
  },
  {
   "cell_type": "code",
   "execution_count": null,
   "id": "f88b8111-dc9c-4094-a17b-bb8d7d6b3b04",
   "metadata": {},
   "outputs": [],
   "source": [
    "im_bw_s3 = (im_gray > 10) & (im_gray < 50)"
   ]
  },
  {
   "cell_type": "code",
   "execution_count": null,
   "id": "54d68459-a8af-4376-aa2b-59bd426e7bb3",
   "metadata": {},
   "outputs": [],
   "source": [
    "plt.imshow(im_bw_s3, cmap='gray')\n",
    "plt.title('Segmentación Bi-lateral (10 < im_gray < 50)')\n",
    "plt.axis('off')\n",
    "plt.show()"
   ]
  },
  {
   "cell_type": "markdown",
   "id": "8a44fdda-c629-4a74-b2b4-f6bf1e76e4dd",
   "metadata": {},
   "source": [
    "<div style=\"text-align: center; margin: 20px 0;\">\n",
    "  <hr style=\"border: none; height: 2px; background: linear-gradient(to right, #bbb, #333, #bbb); width: 50%; margin: 0 auto;\" />\n",
    "</div>"
   ]
  }
 ],
 "metadata": {
  "kernelspec": {
   "display_name": "cv2-kernel",
   "language": "python",
   "name": "cv2-kernel"
  },
  "language_info": {
   "codemirror_mode": {
    "name": "ipython",
    "version": 3
   },
   "file_extension": ".py",
   "mimetype": "text/x-python",
   "name": "python",
   "nbconvert_exporter": "python",
   "pygments_lexer": "ipython3",
   "version": "3.8.18"
  }
 },
 "nbformat": 4,
 "nbformat_minor": 5
}
