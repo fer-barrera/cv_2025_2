{
 "cells": [
  {
   "cell_type": "markdown",
   "id": "529dde7a-af57-4416-b636-9400122ae452",
   "metadata": {},
   "source": [
    "# Práctica 4. Operaciones sobre imágenes rgb\n",
    "\n",
    "<div class=\"alert alert-block alert-success\">\n",
    "<b>Resumen:</b> En esta práctica se realizan varias operaciones sobre una imagen RGB utilizando OpenCV y NumPy. Se inicia cargando y visualizando la imagen original. Luego, se obtiene una copia para manipularla sin afectar la inicial. Las manipulaciones incluyen el trazo de líneas horizontales y verticales en coordenadas especificas, así como la alteración de una región particular de la imagen mediante un operador de rango. A continuación, se extrae y visualiza individualmente los canales de color rojo, verde y azul. Finalmente, el notebook realiza segmentaciones de la imagen utilizando umbrales unilaterales y bilaterales, permitiendo aislar regiones específicas del canal rojo de la imagen en escala de grises. Estas operaciones son fundamentales para el análisis y manipulación de imágenes en aplicaciones de procesamiento digital.\n",
    "</div>"
   ]
  },
  {
   "cell_type": "code",
   "execution_count": null,
   "id": "352427b9-dcfa-4da7-90d2-64a30371ad56",
   "metadata": {},
   "outputs": [],
   "source": [
    "import cv2\n",
    "import numpy as np\n",
    "import matplotlib.pyplot as plt"
   ]
  },
  {
   "cell_type": "markdown",
   "id": "2ceb6088-dd19-4721-b2e4-897eed2adc64",
   "metadata": {},
   "source": [
    "## 1. Imágenes RGB o color\n",
    "\n",
    "Lectura de la imagen"
   ]
  },
  {
   "cell_type": "code",
   "execution_count": null,
   "id": "4e9263d5-9c25-461a-a898-9a7b71c43abd",
   "metadata": {},
   "outputs": [],
   "source": [
    "im_bgr = cv2.imread('.\\images\\peppers.png')\n",
    "im_rgb = cv2.cvtColor(im_bgr, cv2.COLOR_BGR2RGB)"
   ]
  },
  {
   "cell_type": "markdown",
   "id": "f69d1108-d535-4036-ab31-87e2c160b74e",
   "metadata": {},
   "source": [
    "Atributos de la imagen"
   ]
  },
  {
   "cell_type": "code",
   "execution_count": null,
   "id": "2dd602b0-2efd-44aa-81f3-f0f8a74d116e",
   "metadata": {},
   "outputs": [],
   "source": [
    "print(\"Atributos de la imagen:\", im_rgb.shape, im_rgb.dtype)"
   ]
  },
  {
   "cell_type": "markdown",
   "id": "ce98a6d4-bfe5-4899-a953-0b322e57354d",
   "metadata": {},
   "source": [
    "Visualización de la imagen"
   ]
  },
  {
   "cell_type": "code",
   "execution_count": null,
   "id": "98258e2b-f4ee-40d4-9e9f-04be14bb189d",
   "metadata": {},
   "outputs": [],
   "source": [
    "plt.figure()\n",
    "plt.imshow(im_rgb)\n",
    "plt.title('Imagen Original')\n",
    "plt.show()"
   ]
  },
  {
   "cell_type": "markdown",
   "id": "edd4e16f-e441-4d97-b77f-e01d0ccd7350",
   "metadata": {},
   "source": [
    "## 2. Operaciones\n",
    "### 2.1 Copia de la imagen"
   ]
  },
  {
   "cell_type": "code",
   "execution_count": null,
   "id": "62444c08-e390-4dda-a578-2c3c3564086e",
   "metadata": {},
   "outputs": [],
   "source": [
    "im_rgb_2 = im_rgb.copy()"
   ]
  },
  {
   "cell_type": "markdown",
   "id": "17bd1724-2540-494f-97f2-9a81ad501a15",
   "metadata": {},
   "source": [
    "### 2.2. Operador :\n",
    "\n",
    "#### 2.2.1 Dibujo de una linea horizontal\n",
    "Dado que la imagen es indexada los índices varían entre [0, 255]"
   ]
  },
  {
   "cell_type": "code",
   "execution_count": null,
   "id": "773858d7-7f42-4db2-bc70-9c05bb4a869b",
   "metadata": {},
   "outputs": [],
   "source": [
    "im_rgb_2[50, :, 0] = 0   # R\n",
    "im_rgb_2[50, :, 1] = 0   # G\n",
    "im_rgb_2[50, :, 2] = 255 # B"
   ]
  },
  {
   "cell_type": "markdown",
   "id": "0eb177e6-46f7-48fd-9558-ebaa9faac77e",
   "metadata": {},
   "source": [
    "Visualización de la imagen"
   ]
  },
  {
   "cell_type": "code",
   "execution_count": null,
   "id": "fee42a1c-a4b0-4e3d-81ca-4c9282a0484b",
   "metadata": {},
   "outputs": [],
   "source": [
    "plt.figure()\n",
    "plt.imshow(im_rgb_2)\n",
    "plt.title('Línea Horizontal en color azul')\n",
    "plt.show()"
   ]
  },
  {
   "cell_type": "markdown",
   "id": "b07ad546-0e6b-42ec-9d7d-038994a8550c",
   "metadata": {},
   "source": [
    "#### 2.2.2. Dibujo de una linea vertical"
   ]
  },
  {
   "cell_type": "code",
   "execution_count": null,
   "id": "aa37269b-6323-475b-afa2-b552fed8aeee",
   "metadata": {},
   "outputs": [],
   "source": [
    "im_rgb_2[:, 100, 0] = 0   # R\n",
    "im_rgb_2[:, 100, 1] = 0   # G\n",
    "im_rgb_2[:, 100, 2] = 255 # B"
   ]
  },
  {
   "cell_type": "markdown",
   "id": "a0a72acc-8e29-4c61-b431-13f1b0911ef7",
   "metadata": {},
   "source": [
    "Visualización de la imagen"
   ]
  },
  {
   "cell_type": "code",
   "execution_count": null,
   "id": "554ad6db-a683-42ae-af0a-49c979e71113",
   "metadata": {},
   "outputs": [],
   "source": [
    "plt.figure()\n",
    "plt.imshow(im_rgb_2)\n",
    "plt.title('Línea Vertical en color azul')\n",
    "plt.show()"
   ]
  },
  {
   "cell_type": "markdown",
   "id": "a5fdc3e8-9628-4514-942b-02a5c5602502",
   "metadata": {},
   "source": [
    "### 2.3. Operador a:b"
   ]
  },
  {
   "cell_type": "code",
   "execution_count": null,
   "id": "62672a4a-1162-4990-a71d-44aec8bf128e",
   "metadata": {},
   "outputs": [],
   "source": [
    "im_rgb_2[80:120, 10:150, 0] = 158 # R\n",
    "im_rgb_2[80:120, 10:150, 1] = 26  # G\n",
    "im_rgb_2[80:120, 10:150, 2] = 196 # B"
   ]
  },
  {
   "cell_type": "markdown",
   "id": "82f8d045-6264-45ea-bb97-2eba87f5e01b",
   "metadata": {},
   "source": [
    "Visualización de la imagen"
   ]
  },
  {
   "cell_type": "code",
   "execution_count": null,
   "id": "b3a45aec-dbbb-4b47-85bb-e10b10bde676",
   "metadata": {},
   "outputs": [],
   "source": [
    "plt.figure()\n",
    "plt.imshow(im_rgb_2)\n",
    "plt.title('Operador a:b')\n",
    "plt.show()"
   ]
  },
  {
   "cell_type": "markdown",
   "id": "ab1a3825-5dee-4808-a5f6-eb44f642e193",
   "metadata": {},
   "source": [
    "### 2.4 Extracción de los canales de color\n",
    "\n",
    "Extracción de los canales de color r, g, b de la imagen"
   ]
  },
  {
   "cell_type": "code",
   "execution_count": null,
   "id": "0df8c418-4dd7-46f7-b837-58bc98e1805e",
   "metadata": {},
   "outputs": [],
   "source": [
    "im_r = im_rgb[:, :, 0]\n",
    "im_g = im_rgb[:, :, 1]\n",
    "im_b = im_rgb[:, :, 2]"
   ]
  },
  {
   "cell_type": "markdown",
   "id": "61501a1b-575c-4491-be58-f6f250e7ce50",
   "metadata": {},
   "source": [
    "Características de la nueva imagen"
   ]
  },
  {
   "cell_type": "code",
   "execution_count": null,
   "id": "97446104-6b0c-4ef2-a358-7310047f8e7b",
   "metadata": {},
   "outputs": [],
   "source": [
    "print(\"Características del canal R:\", im_r.shape, im_r.dtype)"
   ]
  },
  {
   "cell_type": "markdown",
   "id": "2cbeed0d-3823-4d7b-91e2-4f49737badda",
   "metadata": {},
   "source": [
    "### 2.3 Visualización por canal\n",
    "\n",
    "Canal rojo"
   ]
  },
  {
   "cell_type": "code",
   "execution_count": null,
   "id": "969fc669-c97b-4c30-a18b-8921dbd28a19",
   "metadata": {},
   "outputs": [],
   "source": [
    "plt.figure()\n",
    "plt.imshow(im_r, cmap='gray')\n",
    "plt.title('Canal Rojo')\n",
    "plt.show()"
   ]
  },
  {
   "cell_type": "markdown",
   "id": "c1bb2817-7d53-4fc8-8de0-c806280a1a74",
   "metadata": {},
   "source": [
    "Canal verde"
   ]
  },
  {
   "cell_type": "code",
   "execution_count": null,
   "id": "388fd112-62b5-4b1f-b868-dab0a72c4c47",
   "metadata": {},
   "outputs": [],
   "source": [
    "plt.figure()\n",
    "plt.imshow(im_g, cmap='gray')\n",
    "plt.title('Canal Verde')\n",
    "plt.show()"
   ]
  },
  {
   "cell_type": "markdown",
   "id": "ce5354f3-ee1f-41db-b593-c6b6120075db",
   "metadata": {},
   "source": [
    "Canal azul"
   ]
  },
  {
   "cell_type": "code",
   "execution_count": null,
   "id": "456dfba0-3efa-44c3-b844-89ce22bd908c",
   "metadata": {},
   "outputs": [],
   "source": [
    "plt.figure()\n",
    "plt.imshow(im_b, cmap='gray')\n",
    "plt.title('Canal Azul')\n",
    "plt.show()"
   ]
  },
  {
   "cell_type": "markdown",
   "id": "953af53d-2db2-4674-91e2-4a5562b60cec",
   "metadata": {},
   "source": [
    "### 2.4. Segmentación por umbrales de imágenes RGB\n",
    "\n",
    "#### 2.4.1 Uni-lateral"
   ]
  },
  {
   "cell_type": "code",
   "execution_count": null,
   "id": "c738dd70-3839-4d3e-8213-e893263cb56e",
   "metadata": {},
   "outputs": [],
   "source": [
    "umbral_uni = 160\n",
    "im_bw_s1 = im_r > umbral_uni  # imagen binaria"
   ]
  },
  {
   "cell_type": "markdown",
   "id": "cc87e473-bb4a-4489-ba59-883d1b1e07f8",
   "metadata": {},
   "source": [
    "Visualización de la imagen"
   ]
  },
  {
   "cell_type": "code",
   "execution_count": null,
   "id": "28e4c5bf-0cd5-4ca3-93f4-fcb7c4206838",
   "metadata": {},
   "outputs": [],
   "source": [
    "plt.figure()\n",
    "plt.imshow(im_bw_s1, cmap='gray')\n",
    "plt.title('Segmentación Uni-lateral en el canal rojo')\n",
    "plt.show()"
   ]
  },
  {
   "cell_type": "markdown",
   "id": "fe85c541-7ae2-4356-8343-941a7dd9e788",
   "metadata": {},
   "source": [
    "#### 2.4.2 Bi-lateral"
   ]
  },
  {
   "cell_type": "code",
   "execution_count": null,
   "id": "5ec10af1-1f5d-4d97-b8a5-f692288e2d53",
   "metadata": {},
   "outputs": [],
   "source": [
    "umbral_sup = 200\n",
    "umbral_inf = 160\n",
    "im_bw_s2 = (im_r > umbral_inf) & (im_r < umbral_sup)"
   ]
  },
  {
   "cell_type": "markdown",
   "id": "caa759a6-796d-4449-ad54-c7bb07b672f9",
   "metadata": {},
   "source": [
    "Visualización de la imagen"
   ]
  },
  {
   "cell_type": "code",
   "execution_count": null,
   "id": "fe99f2c0-bac1-4dec-be17-894583f177b8",
   "metadata": {},
   "outputs": [],
   "source": [
    "plt.figure()\n",
    "plt.imshow(im_bw_s2, cmap='gray')\n",
    "plt.title('Segmentación Bi-lateral en R')\n",
    "plt.show()"
   ]
  },
  {
   "cell_type": "markdown",
   "id": "ca2072be-dc2e-432b-880c-5a5d0e366613",
   "metadata": {},
   "source": [
    "### Recomendación\n",
    "\n",
    "<div class=\"alert alert-block alert-info\">\n",
    " \n",
    "En la práctica, y según el dominio de aplicación, usualmente alguno de los canales nos proporcionará más información que otro. Por lo tanto, es posible segmentar el canal R, G, y B en forma independiente y luego combinar sus segmentaciones con algún operador binario,\n",
    "por ejemplo: AND, OR, NAND, etc. Más si nembargo, en el sentido extricto, esta operación no es muy útil para realizar una segmentación por color. En su lugar, es recomendable convertir la imagen a otro espacio de color y en este realizar la segmentació\n",
    "</div>."
   ]
  },
  {
   "cell_type": "markdown",
   "id": "2d7d341d-388e-46b2-a18a-18029cac6210",
   "metadata": {},
   "source": [
    "<div style=\"text-align: center; margin: 20px 0;\">\n",
    "  <hr style=\"border: none; height: 2px; background: linear-gradient(to right, #bbb, #333, #bbb); width: 50%; margin: 0 auto;\" />\n",
    "</div>"
   ]
  }
 ],
 "metadata": {
  "kernelspec": {
   "display_name": "cv2-kernel",
   "language": "python",
   "name": "cv2-kernel"
  },
  "language_info": {
   "codemirror_mode": {
    "name": "ipython",
    "version": 3
   },
   "file_extension": ".py",
   "mimetype": "text/x-python",
   "name": "python",
   "nbconvert_exporter": "python",
   "pygments_lexer": "ipython3",
   "version": "3.8.18"
  }
 },
 "nbformat": 4,
 "nbformat_minor": 5
}
