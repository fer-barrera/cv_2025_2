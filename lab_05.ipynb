{
 "cells": [
  {
   "cell_type": "markdown",
   "id": "76770e9c-a117-49a6-824b-debd176d7dec",
   "metadata": {},
   "source": [
    "# Práctica 5. Operaciones con máscaras binarias\n",
    "\n",
    "<div class=\"alert alert-block alert-success\">\n",
    "<b>Resumen:</b> Este notebook explora técnicas básicas de manipulación y procesamiento de imágenes utilizando Python y OpenCV. Inicia con la lectura de una imagen en escala de grises y procede a realizar una segmentación mediante umbrales, generando una máscara binaria. A través de esta máscara, se aplican operaciones como enmascaramiento lógico y aritmético, lo que permite modificar selectivamente la imagen en función de regiones específicas. Estas operaciones son fundamentales en el campo de la visión por computadora, donde la capacidad de aislar y destacar elementos de una imagen tiene aplicaciones críticas en reconocimiento de patrones, análisis de objetos y procesamiento automatizado de imágenes. El enfoque en la manipulación mediante máscaras resalta la importancia de las técnicas de segmentación en tareas como la detección de bordes, la identificación de objetos y el preprocesamiento para algoritmos de aprendizaje automático.\n",
    "</div>"
   ]
  },
  {
   "cell_type": "markdown",
   "id": "a5c77a89-a109-4e8f-97a6-c5cda7234af4",
   "metadata": {},
   "source": [
    "***\n",
    "Instrucciones utilizadas:\n",
    "\n",
    "- `cv2.imread()`: Lectura de imágenes en diferentes formatos.\n",
    "- `plt.imshow()`: Visualización de datos de imagen en una representación gráfica.\n",
    "- `plt.figure()`: Configuración avanzada de gráficos, permitiendo el control de la disposición visual.\n",
    "- `plt.subplot()`: Creación de diseños de gráficos múltiples, facilitando comparaciones visuales.\n",
    "- `np.uint8()`: Conversión de tipos de datos, esencial para operaciones eficientes en imágenes.\n",
    "- `im_gray.copy()`: Clonación de datos de imagen para preservación y manipulación simultánea.\n",
    "- `* (multiplicación)`: Operación fundamental en el ajuste de imágenes, utilizada aquí para aplicar máscaras.\n",
    "- `im_bw.astype()`: Conversión de booleanos a enteros para operaciones de enmascaramiento."
   ]
  },
  {
   "cell_type": "markdown",
   "id": "7448b64d-1c1c-4aa4-841a-8eba3e5757bb",
   "metadata": {},
   "source": [
    "Temas relacionados:\n",
    "\n",
    "- <b>Procesamiento de imágenes en OpenCV:</b> Técnicas clave para la manipulación de imágenes en entornos de producción.\n",
    "- <b>Máscaras binarias:</b> Herramienta esencial en la segmentación y en la preparación de imágenes para análisis más profundos.\n",
    "- <b>Visualización de imágenes en Matplotlib:</b> Métodos para la presentación efectiva de datos visuales.\n",
    "- <b>Operaciones aritméticas en imágenes:</b> Fundamentos de la manipulación directa de datos visuales.\n",
    "- <b>Tipos de datos en imágenes:</b> Comprensión de las representaciones de datos y su impacto en el procesamiento y la eficiencia.\n",
    "***"
   ]
  },
  {
   "cell_type": "code",
   "execution_count": null,
   "id": "35decd5c-9083-4217-8974-10e3d67c7079",
   "metadata": {},
   "outputs": [],
   "source": [
    "import cv2\n",
    "import numpy as np\n",
    "import matplotlib.pyplot as plt"
   ]
  },
  {
   "cell_type": "markdown",
   "id": "4685a395-3369-4b86-89e0-f551af0eb0d4",
   "metadata": {},
   "source": [
    "## 1. Lectura de la imagen\n",
    "\n",
    "Lectura y visualización de la imagen de prueba"
   ]
  },
  {
   "cell_type": "code",
   "execution_count": null,
   "id": "9ec413e5-3083-48bd-897b-eea1338c4a90",
   "metadata": {},
   "outputs": [],
   "source": [
    "im_gray = cv2.imread('.\\images\\coins.png', cv2.IMREAD_GRAYSCALE)\n",
    "\n",
    "# Mostrar imagen\n",
    "plt.figure(figsize=(3,3))\n",
    "plt.imshow(im_gray, cmap='gray')\n",
    "plt.title('Imagen en escala de gris')\n",
    "plt.axis('off')\n",
    "plt.show()"
   ]
  },
  {
   "cell_type": "markdown",
   "id": "abdddbc2-5572-4437-84e1-60702b94b30f",
   "metadata": {},
   "source": [
    "## 2. Segmentación por umbral\n",
    "\n",
    "<b>Actividad:</b> identifique los mejores valores que segmentan las monedas."
   ]
  },
  {
   "cell_type": "code",
   "execution_count": null,
   "id": "721c60a1-863a-4961-ae46-61cc8292ca6c",
   "metadata": {},
   "outputs": [],
   "source": [
    "umbral_sup = 255\n",
    "umbral_inf = 100\n",
    "im_bw = (umbral_inf < im_gray) & (im_gray < umbral_sup)\n",
    "\n",
    "# máscara\n",
    "print(\"\\nAtributos de la máscara (im_bw): \", im_bw.shape, im_bw.dtype, \"\\n\")\n",
    "\n",
    "# Mostrar imagen\n",
    "plt.figure(figsize=(3,3))\n",
    "plt.imshow(im_bw, cmap='gray')\n",
    "plt.title('Imagen segmentada por umbral')\n",
    "plt.axis('off')\n",
    "plt.show()"
   ]
  },
  {
   "cell_type": "markdown",
   "id": "f120e95b-0ba7-4f91-aa2f-310a4dd9fb75",
   "metadata": {},
   "source": [
    "### 2.1 Visualización de las imágenes\n",
    "\n",
    "Visualización de las imágenes con un subplot"
   ]
  },
  {
   "cell_type": "code",
   "execution_count": null,
   "id": "21540282-787d-4185-9f38-4c84690cbd66",
   "metadata": {},
   "outputs": [],
   "source": [
    "# plot 1\n",
    "plt.figure(figsize=(6,6))\n",
    "plt.subplot(1,2,1)\n",
    "plt.imshow(im_gray, cmap='gray')\n",
    "plt.title('Imagen Segmentada')\n",
    "plt.axis('off')\n",
    "\n",
    "# plot 2\n",
    "plt.subplot(1,2,2)\n",
    "plt.imshow(im_bw, cmap='gray')\n",
    "plt.title('Imagen Original')\n",
    "plt.axis('off')\n",
    "\n",
    "# muestra las dos imágenes\n",
    "plt.show()"
   ]
  },
  {
   "cell_type": "markdown",
   "id": "bc11c125-3e2f-4686-b1fa-13cd0ddd7be3",
   "metadata": {},
   "source": [
    "## 3. Operación de masking (máscaras binarias)\n",
    "### 3.1 Operaciones lógicas\n",
    "\n",
    "Operaciones lógicas sobre la máscara"
   ]
  },
  {
   "cell_type": "code",
   "execution_count": null,
   "id": "86f017ea-5da0-44e7-a333-e7ea74cc79fe",
   "metadata": {},
   "outputs": [],
   "source": [
    "# máscara inicial\n",
    "plt.figure(figsize=(6,6))\n",
    "plt.subplot(1,2,1)\n",
    "plt.imshow(im_bw, cmap='gray')\n",
    "plt.title('Máscara binaria')\n",
    "plt.axis('off')\n",
    "\n",
    "# máscara inicial negada\n",
    "plt.subplot(1,2,2)\n",
    "plt.imshow(~im_bw, cmap='gray')\n",
    "plt.title('Negación de la máscara')\n",
    "plt.axis('off')\n",
    "plt.show()"
   ]
  },
  {
   "cell_type": "markdown",
   "id": "bab06c8e-f4a9-4f13-b0a9-bcce7cca00e0",
   "metadata": {},
   "source": [
    "### 3.2 Indexado mediante máscaras binarias\n",
    "\n",
    "Indexado mediante máscaras binarias"
   ]
  },
  {
   "cell_type": "code",
   "execution_count": null,
   "id": "8c9957b4-b8fd-456b-bb3c-d5a0a547b547",
   "metadata": {},
   "outputs": [],
   "source": [
    "im_gray_mask_1 = im_gray.copy() # copia de la imagen original\n",
    "im_gray_mask_1[im_bw == 0] = 255\n",
    "\n",
    "# mostrar imagen\n",
    "plt.figure(figsize=(3,3))\n",
    "plt.imshow(im_gray_mask_1, cmap='gray')\n",
    "plt.title('Imagen indexada con una máscara binaria')\n",
    "plt.axis('off')\n",
    "plt.show()"
   ]
  },
  {
   "cell_type": "markdown",
   "id": "d564b9e4-d822-4def-b110-2d64a39b7a45",
   "metadata": {},
   "source": [
    "### 3.3 Operaciones aritméticas con máscaras\n",
    "\n",
    "El comando `im_gray_mask_2 = im_gray * im_bw.astype(np.uint8)` realiza una operación de enmascaramiento en la que se multiplica cada píxel de la imagen original en escala de grises (im_gray) por una máscara binaria (im_bw). La máscara se convierte de booleano a enteros (uint8), donde True es 1 y False es 0. Como resultado, los píxeles correspondientes a 1 en la máscara conservan su valor original, mientras que los píxeles donde la máscara es 0 se establecen a 0, creando así una imagen donde solo se muestran las regiones deseadas."
   ]
  },
  {
   "cell_type": "code",
   "execution_count": null,
   "id": "77809d10-c0db-4943-ad32-f04ac7deda55",
   "metadata": {},
   "outputs": [],
   "source": [
    "# Operaciones aritméticas con máscaras\n",
    "im_gray_mask_2 = im_gray * im_bw.astype(np.uint8)\n",
    "\n",
    "plt.figure(figsize=(3,3))\n",
    "plt.imshow(im_gray_mask_2, cmap='gray')\n",
    "plt.title('Máscara aritmética')\n",
    "plt.axis('off')\n",
    "plt.show()"
   ]
  },
  {
   "cell_type": "markdown",
   "id": "c7ac8d26-feef-4ea8-9b25-667a06f7be68",
   "metadata": {},
   "source": [
    "### 3.4 Actividad"
   ]
  },
  {
   "cell_type": "markdown",
   "id": "e670b460-d9da-4f5a-8703-10314ae572e7",
   "metadata": {},
   "source": [
    "Invierta las intensidades de la anterior imagen."
   ]
  },
  {
   "cell_type": "code",
   "execution_count": null,
   "id": "970d544d-9740-40fb-8081-f51a721a857e",
   "metadata": {},
   "outputs": [],
   "source": [
    "# escriba aquí su código"
   ]
  },
  {
   "cell_type": "markdown",
   "id": "8275c290-a807-417a-8aa6-b7d2bbd3537f",
   "metadata": {},
   "source": [
    "### 3.5 Indexado mediante máscara binaria"
   ]
  },
  {
   "cell_type": "code",
   "execution_count": null,
   "id": "42ca62c0-3415-4d77-89a8-88faaff8fec6",
   "metadata": {},
   "outputs": [],
   "source": [
    "im_gray_mask_3 = im_gray.copy() # copiamos la imagen original\n",
    "im_gray_mask_3[im_bw] = 255\n",
    "\n",
    "plt.figure(figsize=(3,3))\n",
    "plt.imshow(im_gray_mask_3, cmap='gray')\n",
    "plt.title('Imagen con máscara binaria modificada')\n",
    "plt.axis('off')\n",
    "plt.show()"
   ]
  },
  {
   "cell_type": "markdown",
   "id": "4a1afee5-43ae-452a-992c-43023b9a7354",
   "metadata": {},
   "source": [
    "<div style=\"text-align: center; margin: 20px 0;\">\n",
    "  <hr style=\"border: none; height: 2px; background: linear-gradient(to right, #bbb, #333, #bbb); width: 50%; margin: 0 auto;\" />\n",
    "</div>"
   ]
  }
 ],
 "metadata": {
  "kernelspec": {
   "display_name": "cv2-kernel",
   "language": "python",
   "name": "cv2-kernel"
  },
  "language_info": {
   "codemirror_mode": {
    "name": "ipython",
    "version": 3
   },
   "file_extension": ".py",
   "mimetype": "text/x-python",
   "name": "python",
   "nbconvert_exporter": "python",
   "pygments_lexer": "ipython3",
   "version": "3.8.18"
  }
 },
 "nbformat": 4,
 "nbformat_minor": 5
}
