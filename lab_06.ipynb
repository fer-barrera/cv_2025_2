{
 "cells": [
  {
   "cell_type": "markdown",
   "id": "1432723a-d524-48dd-9fce-23a5a3678c78",
   "metadata": {},
   "source": [
    "# Práctica 6. Histograma de frecuencia de intensidades\n",
    "\n",
    "<div class=\"alert alert-block alert-success\">\n",
    "<b>Resumen:</b> Esta práctica explora la creación y análisis de histogramas de imágenes utilizando Python, OpenCV y Numpy. Inicia con el calculo de histogramas para imágenes en escala de grises, donde se visualizan las intensidades de los píxeles. Luego,se  aborda el calculo de histogramas para imágenes RGB, destacando cómo se pueden analizar los diferentes canales de color por separado. Además, se muestra cómo ajustar el número de contenedores (bins) para personalizar el histograma.\n",
    "</div>"
   ]
  },
  {
   "cell_type": "markdown",
   "id": "8aa4adb7-4b6e-4c1a-9365-b41550e178bc",
   "metadata": {},
   "source": [
    "***"
   ]
  },
  {
   "cell_type": "markdown",
   "id": "f3a31c37-ee76-4404-868e-87f2befc55a9",
   "metadata": {},
   "source": [
    "Lista de instrucciones utilizadas:\n",
    " \n",
    "1. Lectura y visualización de imágenes:\n",
    "   - `cv2.imread()`: Lectura de imágenes en diferentes formatos y escalas.\n",
    "   - `plt.imshow()`: Visualización de imágenes utilizando Matplotlib.\n",
    "   - `plt.figure()`: Configuración del tamaño y propiedades de las figuras.\n",
    "   - `plt.subplot()`: Creación de subplots para mostrar múltiples imágenes o gráficos en una sola figura.\n",
    "2. Generación de histogramas:\n",
    "   - `cv2.calcHist()`: Cálculo del histograma de una imagen utilizando OpenCV.\n",
    "   - `plt.hist()`: Cálculo de histogramas utilizando Matplotlib para mostrar la distribución de intensidades de píxeles.\n",
    "   - `np.histogram()`: Cálculo del histograma de una imagen utilizando Numpy, que devuelve los conteos de los contenedores y los bordes de los contenedores.\n",
    "   - `plt.stem()`: Visualización de datos discretos en gráficos deao.\n",
    "3. Manipulacne arrays:\n",
    "   - `im_gray.ravel()`: Aplanamiento de una matriz 2D en un array 1D.\n",
    "   - `bin_edges[:-1]`: Selección de todos los elementos de un array excepto el último, comúnmente utilizado para eliminar el borde extra generado por `np.histogram()`.\n",
    "4. Segmentación de imágenes:\n",
    "   - Operaciones lógicas (`<`, `>`, `&`): Utilizadas para crear máscaras binarias que segmentan regiones específicas de la imagen en función de valores intensidad.\n",
    "5. Conversión espacios de color:\n",
    "   - `cv2.cvtColor()`: Conversión de la imagen RGB de OpenCV de formato BGR a RGB para visualización adrísticas visuales clave.\n"
   ]
  },
  {
   "cell_type": "markdown",
   "id": "c965913b-d4a7-4086-a99f-f0f8b4a804ca",
   "metadata": {},
   "source": [
    "Temas relacionados:\n",
    "\n",
    "- Análisis e interpretación de histogramas en imágenes.\n",
    "- Visualización histogramas datos.\n",
    "- Segmentación de objetos y fondos."
   ]
  },
  {
   "cell_type": "markdown",
   "id": "c2e84e94-6888-4d54-b7b7-d68a0711e338",
   "metadata": {},
   "source": [
    "***\n",
    "## 1. Calculo del histograma \n",
    "\n",
    "### 1.1. Calculo del histograma con opencv"
   ]
  },
  {
   "cell_type": "markdown",
   "id": "d682efd5-e558-4cf6-a180-c224fc56b1eb",
   "metadata": {},
   "source": [
    "La función `cv.calcHist()` calcula el histograma de una imagen (arreglo). Sus parámetros son:\n",
    "\n",
    "`cv.calcHist(images, channels, mask, histSize, ranges[, hist[, accumulate]])`\n",
    "\n",
    "- `images`: es la imagen fuente, de tipo `uint8` o `float32`. Debe proporcionarse entre corchetes, es decir, `[img]`.\n",
    "- `channels`: también entre corchetes. Es el índice del canal para el cual calculamos el histograma. Por ejemplo, si la imagen de entrada es en escala de grises, su valor es `[0]`. Para una imagen en color, puedes pasar `[0]`, `[1]` o `[2]` para calcular el histograma del canal azul (blue), verde (green) o rojo (red), respectivamente.\n",
    "- `mask`: imagen de máscara. Para encontrar el histograma de toda la imagen, se proporciona como `None`. Pero si deseas encontrar el histograma de una región particular de la imagen, debes crear una imagen de máscara para esa región y pasarla como máscara.\n",
    "- `histSize`: esto representa el número de contenedores (BIN). Debe proporcionarse entre corchetes. Para la escala completa, `[256]`. \n",
    "- `ranges`: este RANGO es normalmente `[0,256]`."
   ]
  },
  {
   "cell_type": "markdown",
   "id": "faaa1dc9-2f1a-4585-81bd-68792746e2de",
   "metadata": {},
   "source": [
    "***\n",
    "### 1.2. Calculo del histograma con Numpy"
   ]
  },
  {
   "cell_type": "markdown",
   "id": "dda840ff-c287-41e5-9312-07b630837a79",
   "metadata": {},
   "source": [
    "Numpy también ofrece la función, `np.histogram()`. Así que, en lugar de la función `calcHist()` se puede utilizar la siguiente línea:\n",
    "\n",
    "`hist, bins = np.histogram(img.ravel(), 256, [0, 256])`\n",
    "\n",
    "similar a la función anterior. Pero `bins` tendrá 257 elementos, porque Numpy calcula los contenedores (bins) como 0-0.99, 1-1.99, 2-2.99, etc. Así que el rango final sería 255-255.99. Para representarlo en memoria, añade 256 al final de `bins`. Pero no necesitamos ese 256. Hasta 255 es suficiente."
   ]
  },
  {
   "cell_type": "markdown",
   "id": "66755633-a8c9-4a79-8613-373ae7427a11",
   "metadata": {},
   "source": [
    "***\n",
    "\n",
    "### 1.3 Calculo del histograma con Matplotlib"
   ]
  },
  {
   "cell_type": "markdown",
   "id": "f3e2fd0a-2b03-49a2-9c26-b8c1d1b8c626",
   "metadata": {},
   "source": [
    "La libreria Matplotlib incluye la función `matplotlib.pyplot.hist()` que directamente calcula el histograma y lo gráfica.\n",
    "***"
   ]
  },
  {
   "cell_type": "code",
   "execution_count": null,
   "id": "0914b06f-23c3-4b0d-8776-d46e31f2abb3",
   "metadata": {},
   "outputs": [],
   "source": [
    "import cv2\n",
    "import numpy as np\n",
    "from matplotlib import pyplot as plt"
   ]
  },
  {
   "cell_type": "markdown",
   "id": "dc2ab11d-57a7-4d55-8637-19b459f0d53d",
   "metadata": {},
   "source": [
    "***\n",
    "## 2. Histograma de imágenes en escala de grises\n",
    "Lectura y visualización de la imagen:"
   ]
  },
  {
   "cell_type": "code",
   "execution_count": null,
   "id": "48c1ec57-b37a-4314-94b3-634aca548824",
   "metadata": {},
   "outputs": [],
   "source": [
    "# Lectura de la imagen\n",
    "im_gray = cv2.imread('.\\images\\cameraman.tif', cv2.IMREAD_GRAYSCALE)\n",
    "\n",
    "# Visualización de la imagen\n",
    "plt.figure(figsize=(3,3))\n",
    "plt.imshow(im_gray, cmap='gray')\n",
    "plt.title('Imagen en escala de grises')\n",
    "plt.axis('off')\n",
    "plt.show()"
   ]
  },
  {
   "cell_type": "markdown",
   "id": "8fc7e4ea-82cf-4de7-897f-c2c8814e38ce",
   "metadata": {},
   "source": [
    "### 2.1 Histograma de intensidades (opencv)"
   ]
  },
  {
   "cell_type": "code",
   "execution_count": null,
   "id": "3f4781b7-869f-4f09-9e9f-a26c408dc090",
   "metadata": {},
   "outputs": [],
   "source": [
    "hist = cv2.calcHist([im_gray],[0],None,[256],[0,256])\n",
    "\n",
    "# Visualización de la imagen\n",
    "plt.figure(figsize=(5,3))\n",
    "plt.plot(hist)\n",
    "plt.title('Histograma')\n",
    "plt.xlabel('Intensidad de los píxeles')\n",
    "plt.ylabel('Frecuencia')\n",
    "plt.show()"
   ]
  },
  {
   "cell_type": "markdown",
   "id": "c9dd5205-f569-48d1-89bb-3258f3968a5f",
   "metadata": {},
   "source": [
    "### 2.2. Histograma a partir de un número de contenedores (Numpy)"
   ]
  },
  {
   "cell_type": "code",
   "execution_count": null,
   "id": "f56d2fb3-6e90-4d79-8357-d32320d75564",
   "metadata": {},
   "outputs": [],
   "source": [
    "# Histograma con un número específico de contenedores (bins)\n",
    "hist, bin_edges = np.histogram(im_gray, bins=50, range=(0, 256))\n",
    "\n",
    "#hist,bin_edges = np.histogram(im_gray.ravel(),256,[0,256])"
   ]
  },
  {
   "cell_type": "code",
   "execution_count": null,
   "id": "81f236a6-e6b8-4bce-8453-9e6c8ff57146",
   "metadata": {},
   "outputs": [],
   "source": [
    "plt.figure(figsize=(5,3))\n",
    "plt.stem(bin_edges[:-1], hist) # todos los elementos del array excepto el último.\n",
    "plt.title('Histograma con 50 contenedores (o bins)')\n",
    "plt.xlabel('Intensidad de los píxeles')\n",
    "plt.ylabel('Frecuencia')\n",
    "plt.show()"
   ]
  },
  {
   "cell_type": "markdown",
   "id": "92bd992e-337a-4b50-b4d8-ec03ece5762d",
   "metadata": {},
   "source": [
    "### 2.3. Histograma de intensidades (por Matplotlib)\n",
    "\n",
    "La función `im_gray.ravel()` en Python convierte la matriz de la imagen im_gray en un arreglo unidimensional (una lista o vector) sin cambiar los datos subyacentes. Es decir, toma todos los píxeles de la imagen, que originalmente están organizados en una matriz bidimensional, y los \"aplana\" en un solo vector.\n",
    "\n",
    "Esto es útil cuando se necesita realizar operaciones que requieren un arreglo unidimensional, como la creación de un histograma, donde cada valor de píxel se cuenta independientemente de su posición en la imagen original."
   ]
  },
  {
   "cell_type": "code",
   "execution_count": null,
   "id": "8abf7796-c101-4fc8-8ad4-df44fb3e71d6",
   "metadata": {},
   "outputs": [],
   "source": [
    "# crea la figura\n",
    "plt.figure(figsize=(5,3))\n",
    "\n",
    "# calcula el histograma de intensidades\n",
    "plt.hist(im_gray.ravel(), 256, [0,256])\n",
    "\n",
    "# propiedades de la figura\n",
    "plt.title('Histograma de intensidades')\n",
    "plt.xlabel('Intensidad de los píxeles')\n",
    "plt.ylabel('Frecuencia')\n",
    "plt.show()"
   ]
  },
  {
   "cell_type": "markdown",
   "id": "9a0007b7-4eb7-4995-b41b-06da53de01ce",
   "metadata": {},
   "source": [
    "## 3. Histograma de imágenes RGB\n",
    "\n",
    "Lectura y visualización de la imagen:"
   ]
  },
  {
   "cell_type": "code",
   "execution_count": null,
   "id": "4c252fb3-181e-45d9-a0e2-f4f29e8bb296",
   "metadata": {},
   "outputs": [],
   "source": [
    "# Lectura de la imagen RGB\n",
    "im_bgr = cv2.imread('.\\images\\peppers.png')\n",
    "im_rgb = cv2.cvtColor(im_bgr, cv2.COLOR_BGR2RGB)\n",
    "\n",
    "# Visualización de la imagen\n",
    "plt.figure(figsize=(4,4))\n",
    "plt.imshow(im_rgb)\n",
    "plt.title('Imagen RGB')\n",
    "plt.axis('off')\n",
    "plt.show()"
   ]
  },
  {
   "cell_type": "markdown",
   "id": "23e61f19-23f6-449e-9769-781420fdde1a",
   "metadata": {},
   "source": [
    "### 3.1. Histograma de intensidades (opencv)\n",
    "\n",
    "El siguiente código parte de que la imagen es rgb."
   ]
  },
  {
   "cell_type": "code",
   "execution_count": null,
   "id": "23e591dd-31bb-42e1-8e79-f49c8019ed90",
   "metadata": {},
   "outputs": [],
   "source": [
    "# Para calcular y mostrar el histograma de intensidades de cada canal\n",
    "colors = ('r', 'g', 'b')\n",
    "plt.figure(figsize=(12,3))\n",
    "\n",
    "for i, color in enumerate(colors):\n",
    "    plt.subplot(1, 3, i+1)\n",
    "    hist = cv2.calcHist([im_rgb], [i], None, [256], [0, 256])\n",
    "    plt.plot(hist, color=color)\n",
    "    plt.title(f'Histograma - Canal {color.upper()}')\n",
    "    plt.xlabel('Intensidad de los píxeles')\n",
    "    plt.ylabel('Frecuencia')\n",
    "\n",
    "plt.show()"
   ]
  },
  {
   "cell_type": "markdown",
   "id": "281212f0-6623-4859-bed1-bcf96c4f15ec",
   "metadata": {},
   "source": [
    "Calcula el histograma en cada canal (r, g, b), y luego los grafica en un único eje"
   ]
  },
  {
   "cell_type": "code",
   "execution_count": null,
   "id": "7a6db0e7-45d9-45b9-b44c-c49f6c4a3cb7",
   "metadata": {},
   "outputs": [],
   "source": [
    "plt.figure(figsize=(5,3))\n",
    "\n",
    "for i,col in enumerate(colors):\n",
    "    histr = cv2.calcHist([im_rgb],[i],None,[256],[0,256])\n",
    "    plt.plot(histr,color = col)\n",
    "    plt.xlim([0,256])\n",
    "    \n",
    "plt.show()"
   ]
  },
  {
   "cell_type": "markdown",
   "id": "15f6d5a2-24b7-4524-8885-4912961c33b8",
   "metadata": {},
   "source": [
    "### 3.2. Histograma a partir del número de contenedores (Numpy)"
   ]
  },
  {
   "cell_type": "code",
   "execution_count": null,
   "id": "3c2fe385-d99b-4253-b047-ca52bd385aad",
   "metadata": {},
   "outputs": [],
   "source": [
    "# Histograma con un número específico de contenedores para cada canal\n",
    "plt.figure(figsize=(12,3))\n",
    "\n",
    "for i, color in enumerate(colors):\n",
    "    hist, bin_edges = np.histogram(im_rgb[:,:,i], bins=50, range=(0, 256))\n",
    "    plt.subplot(1, 3, i+1)\n",
    "    plt.stem(bin_edges[:-1], hist, linefmt=color, markerfmt=color+'o')\n",
    "    plt.title(f'Histograma - Canal {color.upper()}')\n",
    "    plt.xlabel('Intensidad de los píxeles')\n",
    "    plt.ylabel('Frecuencia')\n",
    "\n",
    "plt.show()"
   ]
  },
  {
   "cell_type": "markdown",
   "id": "13841cda-3750-48a3-a7f6-d5f58cf07eca",
   "metadata": {},
   "source": [
    "<div style=\"text-align: center; margin: 20px 0;\">\n",
    "  <hr style=\"border: none; height: 2px; background: linear-gradient(to right, #bbb, #333, #bbb); width: 50%; margin: 0 auto;\" />\n",
    "</div>"
   ]
  }
 ],
 "metadata": {
  "kernelspec": {
   "display_name": "cv2-kernel",
   "language": "python",
   "name": "cv2-kernel"
  },
  "language_info": {
   "codemirror_mode": {
    "name": "ipython",
    "version": 3
   },
   "file_extension": ".py",
   "mimetype": "text/x-python",
   "name": "python",
   "nbconvert_exporter": "python",
   "pygments_lexer": "ipython3",
   "version": "3.8.18"
  }
 },
 "nbformat": 4,
 "nbformat_minor": 5
}
