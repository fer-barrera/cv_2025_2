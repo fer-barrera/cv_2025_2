{
 "cells": [
  {
   "cell_type": "markdown",
   "id": "a6e6d819-c07c-4a29-b5f7-aa1eb3be65da",
   "metadata": {},
   "source": [
    "# Práctica 7. Aplicación de los histogramas de frecuencia de intensidades\n",
    "\n",
    "<div class=\"alert alert-block alert-success\">\n",
    "<b>Resumen:</b> Esta práctica demuestra la utilidad de los histogramas para la segmentación de imágenes, donde se diferencia tanto el fondo como el primer plano de una imagen en función de los valores de intensidad de los píxeles. Estas técnicas son fundamentales en el procesamiento de imágenes para la identificación y separación de elementos específicos dentro de una imagen, utilizando la distribución de las intensidades capturadas en el histograma.\n",
    "</div>\n",
    "\n",
    "***\n"
   ]
  },
  {
   "cell_type": "code",
   "execution_count": null,
   "id": "b463fb67-1861-4461-a682-258a7cdd31b7",
   "metadata": {},
   "outputs": [],
   "source": [
    "import cv2\n",
    "import numpy as np\n",
    "import matplotlib.pyplot as plt"
   ]
  },
  {
   "cell_type": "markdown",
   "id": "27cc76e8-bc41-4db3-9c1f-35f919c22e1c",
   "metadata": {},
   "source": [
    "## 1. Utilidad de los histogramas\n",
    "### 1.1. Segmentación de objetos sobre un fondo homogéneo no texturado\n",
    "\n",
    "Lectura y visualización de la imagen:"
   ]
  },
  {
   "cell_type": "code",
   "execution_count": null,
   "id": "df4c3a04-7655-4ed9-9d1e-2ae4045ac9da",
   "metadata": {},
   "outputs": [],
   "source": [
    "# Lectura de la imagen en escala de grises\n",
    "im_gray_coins = cv2.imread('.\\images\\coins.png', cv2.IMREAD_GRAYSCALE)\n",
    "\n",
    "# Visualización de la imagen\n",
    "plt.figure(figsize=(8,8))\n",
    "plt.imshow(im_gray_coins, cmap='gray')\n",
    "plt.title('Imagen de Monedas en Escala de Grises')\n",
    "plt.axis('off')\n",
    "plt.show()"
   ]
  },
  {
   "cell_type": "markdown",
   "id": "574a0702-a563-45bf-9502-b7cdbfdedf4d",
   "metadata": {},
   "source": [
    "### 1.2. Histograma"
   ]
  },
  {
   "cell_type": "code",
   "execution_count": null,
   "id": "9d82e96f-a242-462f-9d32-50cd3fa34a1b",
   "metadata": {},
   "outputs": [],
   "source": [
    "# Para calcular y mostrar el histograma de la imagen de monedas\n",
    "plt.figure(figsize=(6,4))\n",
    "plt.hist(im_gray_coins.ravel(), 256, [0,256])\n",
    "plt.title('Histograma de la Imagen de Monedas')\n",
    "plt.xlabel('Intensidad de los píxeles')\n",
    "plt.ylabel('Frecuencia')\n",
    "plt.show()"
   ]
  },
  {
   "cell_type": "markdown",
   "id": "f36dae43-51af-4853-b3ae-3ff8ec231da6",
   "metadata": {},
   "source": [
    "### 1.3. Segmentación del 'background'"
   ]
  },
  {
   "cell_type": "code",
   "execution_count": null,
   "id": "198f4344-1c7a-43ae-816b-1aeb9b511e60",
   "metadata": {},
   "outputs": [],
   "source": [
    "# Segmentación del fondo (background) mediante umbral\n",
    "umbral_sup = 0 # escriba el valor correcto aquí\n",
    "umbral_inf = 1 # escriba el valor correcto aquí\n",
    "im_bw_s1 = (umbral_inf < im_gray_coins) & (im_gray_coins < umbral_sup)\n",
    "\n",
    "plt.figure(figsize=(4,4))\n",
    "plt.imshow(im_bw_s1, cmap='gray')\n",
    "plt.title('Segmentación del Background')\n",
    "plt.axis('off')\n",
    "plt.show()"
   ]
  },
  {
   "cell_type": "markdown",
   "id": "00fde924-cf78-4cb4-a132-3c6d100c7c87",
   "metadata": {},
   "source": [
    "### 1.4. Segmentación del 'foreground'"
   ]
  },
  {
   "cell_type": "code",
   "execution_count": null,
   "id": "ee5e1437-15e1-4c21-90c1-af93e1715b14",
   "metadata": {},
   "outputs": [],
   "source": [
    "# Segmentación del primer plano (foreground) mediante umbral\n",
    "umbral_sup = 0 # escriba el valor correcto aquí\n",
    "umbral_inf = 1 # escriba el valor correcto aquí\n",
    "im_bw_s2 = (umbral_inf < im_gray_coins) & (im_gray_coins < umbral_sup)\n",
    "\n",
    "plt.figure(figsize=(4,4))\n",
    "plt.imshow(im_bw_s2, cmap='gray')\n",
    "plt.title('Segmentación del Foreground')\n",
    "plt.axis('off')\n",
    "plt.show()"
   ]
  },
  {
   "cell_type": "markdown",
   "id": "fc81c580-99dd-4b8f-abc9-45fbdba6535e",
   "metadata": {},
   "source": [
    "<div style=\"text-align: center; margin: 20px 0;\">\n",
    "  <hr style=\"border: none; height: 2px; background: linear-gradient(to right, #bbb, #333, #bbb); width: 50%; margin: 0 auto;\" />\n",
    "</div>"
   ]
  }
 ],
 "metadata": {
  "kernelspec": {
   "display_name": "cv2-kernel",
   "language": "python",
   "name": "cv2-kernel"
  },
  "language_info": {
   "codemirror_mode": {
    "name": "ipython",
    "version": 3
   },
   "file_extension": ".py",
   "mimetype": "text/x-python",
   "name": "python",
   "nbconvert_exporter": "python",
   "pygments_lexer": "ipython3",
   "version": "3.8.18"
  }
 },
 "nbformat": 4,
 "nbformat_minor": 5
}
