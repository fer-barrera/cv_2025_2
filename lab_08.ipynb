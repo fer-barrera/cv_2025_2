{
 "cells": [
  {
   "cell_type": "markdown",
   "id": "6610cdc6-b40f-46cc-a30d-4dd6d4e0245d",
   "metadata": {},
   "source": [
    "# Práctica 8. Ecualización por histograma parte I\n",
    "\n",
    "<div class=\"alert alert-block alert-success\">\n",
    "<b>Resumen:</b> Esta práctica resalta la importancia de la ecualización de histograma como una técnica inicial en el procesamiento de imágenes, especialmente en la mejora del contraste y la visualización de detalles en imágenes con niveles de brillo (intensidad) poco uniformes. También, demuestra cómo una transformación simple en el dominio de la intensidad pueden tener un impacto significativo en la calidad de la imagen, y facilitar la interpretación de la información visual contenida en ella.\n",
    "</div>\n",
    "\n",
    "***\n"
   ]
  },
  {
   "cell_type": "code",
   "execution_count": null,
   "id": "37e93991-a806-417a-a389-2509b1296093",
   "metadata": {},
   "outputs": [],
   "source": [
    "# Importar las bibliotecas necesarias\n",
    "import cv2\n",
    "import numpy as np\n",
    "import matplotlib.pyplot as plt"
   ]
  },
  {
   "cell_type": "markdown",
   "id": "de5fb3fb-7fcc-4d94-a968-67c464e3ccc1",
   "metadata": {},
   "source": [
    "## 1. Lectura de la imagen\n",
    "\n",
    "Lectura de imágenes en escala de grises"
   ]
  },
  {
   "cell_type": "code",
   "execution_count": null,
   "id": "75f7e0b8-0a73-4e14-9e46-fa73db421cfc",
   "metadata": {},
   "outputs": [],
   "source": [
    "im_gray_1 = cv2.imread('.\\images\\cameraman.tif', cv2.IMREAD_GRAYSCALE)\n",
    "im_gray_2 = cv2.imread('.\\images\\circuit.tif', cv2.IMREAD_GRAYSCALE)"
   ]
  },
  {
   "cell_type": "markdown",
   "id": "4e2e1f8d-8663-4764-83e0-03e37f149c5a",
   "metadata": {},
   "source": [
    "## 2. Visualización de las imágenes originales"
   ]
  },
  {
   "cell_type": "code",
   "execution_count": null,
   "id": "529df1f7-0ce9-4763-820f-845267b037c0",
   "metadata": {},
   "outputs": [],
   "source": [
    "plt.figure(figsize=(7, 4))\n",
    "plt.subplot(1, 2, 1)\n",
    "plt.imshow(im_gray_1, cmap='gray')\n",
    "plt.title('Imagen 1: Cameraman')\n",
    "plt.axis('off')\n",
    "\n",
    "plt.subplot(1, 2, 2)\n",
    "plt.imshow(im_gray_2, cmap='gray')\n",
    "plt.title('Imagen 2: Circuito')\n",
    "plt.axis('off')\n",
    "plt.show()"
   ]
  },
  {
   "cell_type": "markdown",
   "id": "b26949bf-2e52-4ba5-8c03-7f4151e7df7e",
   "metadata": {},
   "source": [
    "## 3. Histograma inicial\n",
    "\n",
    "Visualización de los histogramas originales (método rápido)"
   ]
  },
  {
   "cell_type": "code",
   "execution_count": null,
   "id": "f4c38a5b-ce7e-4946-be29-dfa2b081c322",
   "metadata": {},
   "outputs": [],
   "source": [
    "plt.figure(figsize=(7, 3))\n",
    "plt.subplot(1, 2, 1)\n",
    "plt.hist(im_gray_1.ravel(), 256, [0, 256])\n",
    "plt.title('Histograma de la Imagen 1')\n",
    "\n",
    "plt.subplot(1, 2, 2)\n",
    "plt.hist(im_gray_2.ravel(), 256, [0, 256])\n",
    "plt.title('Histograma de la Imagen 2')\n",
    "plt.show()"
   ]
  },
  {
   "cell_type": "markdown",
   "id": "b2d8b76e-3b47-4434-bef1-657a540aec5e",
   "metadata": {},
   "source": [
    "## 4. Ecualización del histograma\n",
    "\n",
    "Ecualización del histograma de ambas imágenes"
   ]
  },
  {
   "cell_type": "code",
   "execution_count": null,
   "id": "e2c939c8-08d3-48b1-bdea-a339ae3664e8",
   "metadata": {},
   "outputs": [],
   "source": [
    "im_hist_1 = cv2.equalizeHist(im_gray_1)\n",
    "im_hist_2 = cv2.equalizeHist(im_gray_2)"
   ]
  },
  {
   "cell_type": "markdown",
   "id": "ff2854a5-2905-4bb0-8271-7ce499fe24f3",
   "metadata": {},
   "source": [
    "## 5. Comparación de histogramas\n",
    "\n",
    "Comparación de los histogramas antes y después de la ecualización"
   ]
  },
  {
   "cell_type": "code",
   "execution_count": null,
   "id": "15769c3e-db43-4c7f-9d20-334765687c73",
   "metadata": {},
   "outputs": [],
   "source": [
    "plt.figure(figsize=(7, 7))\n",
    "plt.subplot(2, 2, 1)\n",
    "plt.hist(im_gray_1.ravel(), 256, [0, 256])\n",
    "plt.title('Histograma Original Imagen 1')\n",
    "\n",
    "plt.subplot(2, 2, 2)\n",
    "plt.hist(im_hist_1.ravel(), 256, [0, 256])\n",
    "plt.title('Histograma Ecualizado Imagen 1')\n",
    "\n",
    "plt.subplot(2, 2, 3)\n",
    "plt.hist(im_gray_2.ravel(), 256, [0, 256])\n",
    "plt.title('Histograma Original Imagen 2')\n",
    "\n",
    "plt.subplot(2, 2, 4)\n",
    "plt.hist(im_hist_2.ravel(), 256, [0, 256])\n",
    "plt.title('Histograma Ecualizado Imagen 2')\n",
    "plt.show()"
   ]
  },
  {
   "cell_type": "markdown",
   "id": "33a8d000-a0cc-43ec-b8f6-8c8864bceb20",
   "metadata": {},
   "source": [
    "## 6. Resultados visuales\n",
    "\n",
    "Visualización comparativa de las imágenes antes y después de la ecualización"
   ]
  },
  {
   "cell_type": "code",
   "execution_count": null,
   "id": "75f85f09-b70c-485f-ad55-0a479b9d621a",
   "metadata": {},
   "outputs": [],
   "source": [
    "plt.figure(figsize=(7, 4))\n",
    "plt.subplot(1, 2, 1)\n",
    "plt.imshow(im_gray_1, cmap='gray')\n",
    "plt.title('Imagen Original 1')\n",
    "plt.axis('off')\n",
    "\n",
    "plt.subplot(1, 2, 2)\n",
    "plt.imshow(im_hist_1, cmap='gray')\n",
    "plt.title('Imagen Ecualizada 1')\n",
    "plt.axis('off')\n",
    "plt.show()\n",
    "\n",
    "plt.figure(figsize=(7, 4))\n",
    "plt.subplot(1, 2, 1)\n",
    "plt.imshow(im_gray_2, cmap='gray')\n",
    "plt.title('Imagen Original 2')\n",
    "plt.axis('off')\n",
    "\n",
    "plt.subplot(1, 2, 2)\n",
    "plt.imshow(im_hist_2, cmap='gray')\n",
    "plt.title('Imagen Ecualizada 2')\n",
    "plt.axis('off')\n",
    "plt.show()"
   ]
  },
  {
   "cell_type": "markdown",
   "id": "890c6a29-d735-4d09-96aa-a6d2e7e579e3",
   "metadata": {},
   "source": [
    "## 7. Otros resultados\n",
    "\n",
    "Lectura de una tercera imagen y ecualización por histograma"
   ]
  },
  {
   "cell_type": "code",
   "execution_count": null,
   "id": "defe58ce-8b97-4af5-a257-89f22be28f65",
   "metadata": {},
   "outputs": [],
   "source": [
    "I = cv2.imread('./images/tire.tif', cv2.IMREAD_GRAYSCALE)\n",
    "\n",
    "# Ecualización del histograma de la tercera imagen\n",
    "J = cv2.equalizeHist(I)\n",
    "\n",
    "# Comparación visual de la imagen original y ecualizada\n",
    "plt.figure(figsize=(10, 5))\n",
    "plt.imshow(np.hstack((I, J)), cmap='gray')\n",
    "\n",
    "plt.title('Comparación de la Imagen Original y Ecualizada')\n",
    "plt.axis('off')\n",
    "plt.show()"
   ]
  },
  {
   "cell_type": "markdown",
   "id": "7ec5425e-5383-49b2-92bd-6fc81f96e613",
   "metadata": {},
   "source": [
    "<b>Actividad.</b> Muestre el histograma antes y después de la transformación"
   ]
  },
  {
   "cell_type": "code",
   "execution_count": null,
   "id": "3e25aa0c-31c1-477b-a541-162379a72001",
   "metadata": {},
   "outputs": [],
   "source": [
    "# su código aquí"
   ]
  },
  {
   "cell_type": "markdown",
   "id": "999b618d",
   "metadata": {},
   "source": [
    "<div style=\"text-align: center; margin: 20px 0;\">\n",
    "  <hr style=\"border: none; height: 2px; background: linear-gradient(to right, #bbb, #333, #bbb); width: 50%; margin: 0 auto;\" />\n",
    "</div>"
   ]
  }
 ],
 "metadata": {
  "kernelspec": {
   "display_name": "cv2-kernel",
   "language": "python",
   "name": "cv2-kernel"
  },
  "language_info": {
   "codemirror_mode": {
    "name": "ipython",
    "version": 3
   },
   "file_extension": ".py",
   "mimetype": "text/x-python",
   "name": "python",
   "nbconvert_exporter": "python",
   "pygments_lexer": "ipython3",
   "version": "3.8.18"
  }
 },
 "nbformat": 4,
 "nbformat_minor": 5
}
