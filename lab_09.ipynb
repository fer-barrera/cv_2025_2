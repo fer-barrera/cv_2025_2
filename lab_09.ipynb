{
 "cells": [
  {
   "cell_type": "markdown",
   "id": "dca6f97d-0ad5-4875-b687-98ea77f2021d",
   "metadata": {},
   "source": [
    "# Práctica 9. Ecualización por histograma parte II\n",
    "\n",
    "<div class=\"alert alert-block alert-success\">\n",
    "<b>Resumen:</b> En esta práctica se explora la ecualización por histograma utilizando funciones preexistentes en la libreria OpenCV. Estas funciones estan orientadas a mejorar el contraste de las imágenes. Particularmente, se estudiara el método CLAHE (Contrast Limited Adaptive Histogram Equalization), el cual permite ajustar el contraste local de una imagen al operar sobre pequeñas regiones. Este enfoque mejora la visibilidad de los detalles, especialmente en imágenes con bajo contraste.\n",
    "</div>\n",
    "\n",
    "***\n"
   ]
  },
  {
   "cell_type": "code",
   "execution_count": null,
   "id": "920be3ee-dd4f-4473-afa2-8c0b6c7b10b1",
   "metadata": {},
   "outputs": [],
   "source": [
    "# Importar las bibliotecas necesarias\n",
    "import cv2\n",
    "import numpy as np\n",
    "import matplotlib.pyplot as plt"
   ]
  },
  {
   "cell_type": "markdown",
   "id": "4ea79d5a-7754-47bc-b887-d1234c26c74c",
   "metadata": {},
   "source": [
    "## 1. Lectura y visualización de imágenes\n",
    "Lectura y visualización de las imágenes"
   ]
  },
  {
   "cell_type": "code",
   "execution_count": null,
   "id": "c3f7a963-a267-488d-9ea2-625bcb4096de",
   "metadata": {},
   "outputs": [],
   "source": [
    "im_gray_1 = cv2.imread('.\\images\\cameraman.tif', cv2.IMREAD_GRAYSCALE)\n",
    "im_gray_2 = cv2.imread('.\\images\\circuit.tif', cv2.IMREAD_GRAYSCALE)\n",
    "\n",
    "# Mostrar las imágenes originales\n",
    "plt.figure(figsize=(7, 4))\n",
    "plt.subplot(1, 2, 1)\n",
    "plt.imshow(im_gray_1, cmap='gray')\n",
    "plt.title('Cameraman')\n",
    "plt.axis('off')\n",
    "\n",
    "plt.subplot(1, 2, 2)\n",
    "plt.imshow(im_gray_2, cmap='gray')\n",
    "plt.title('Circuit')\n",
    "plt.axis('off')\n",
    "plt.show()"
   ]
  },
  {
   "cell_type": "markdown",
   "id": "aa398cfb-3264-41e0-8090-c680a722f7fa",
   "metadata": {},
   "source": [
    "## 2. Histograma inicial\n",
    "Mostrar los histogramas iniciales de las imágenes"
   ]
  },
  {
   "cell_type": "code",
   "execution_count": null,
   "id": "ec53116d-2cd7-4ced-ad74-4560bec38a53",
   "metadata": {},
   "outputs": [],
   "source": [
    "plt.figure(figsize=(7, 3))\n",
    "plt.subplot(1, 2, 1)\n",
    "plt.hist(im_gray_1.ravel(), bins=256, range=(0, 256))\n",
    "plt.title('Histograma de Cameraman')\n",
    "\n",
    "plt.subplot(1, 2, 2)\n",
    "plt.hist(im_gray_2.ravel(), bins=256, range=(0, 256))\n",
    "plt.title('Histograma de Circuit')\n",
    "plt.show()"
   ]
  },
  {
   "cell_type": "markdown",
   "id": "f7898965-1aaf-4c12-acb6-6b2319b90e0a",
   "metadata": {},
   "source": [
    "## 3. Ecualización del histograma\n",
    "Aplicación del algoritmo CLAHE (Contrast Limited Adaptive Histogram Equalization)\n",
    "\n",
    "[CLAHE](https://en.wikipedia.org/wiki/Adaptive_histogram_equalization)"
   ]
  },
  {
   "cell_type": "code",
   "execution_count": null,
   "id": "c3686e38-30f8-4f42-8352-7fc1b1c404cb",
   "metadata": {},
   "outputs": [],
   "source": [
    "clahe = cv2.createCLAHE(clipLimit=3, tileGridSize=(8, 8))\n",
    "im_hist_1 = clahe.apply(im_gray_1)\n",
    "im_hist_2 = clahe.apply(im_gray_2)"
   ]
  },
  {
   "cell_type": "markdown",
   "id": "ba85beae-5ccc-41e2-8423-69f7389c0c6f",
   "metadata": {},
   "source": [
    "## 4. Comparación de histogramas\n",
    "Comparar los histogramas antes y después de la ecualización"
   ]
  },
  {
   "cell_type": "code",
   "execution_count": null,
   "id": "a48edeee-4503-4f68-ad9f-5ad652b3d379",
   "metadata": {},
   "outputs": [],
   "source": [
    "plt.figure(figsize=(7, 7))\n",
    "\n",
    "plt.subplot(2, 2, 1)\n",
    "plt.hist(im_gray_1.ravel(), bins=256, range=(0, 256))\n",
    "plt.title('Histograma Original de Cameraman')\n",
    "\n",
    "plt.subplot(2, 2, 2)\n",
    "plt.hist(im_hist_1.ravel(), bins=256, range=(0, 256))\n",
    "plt.title('Histograma Ecualizado de Cameraman')\n",
    "\n",
    "plt.subplot(2, 2, 3)\n",
    "plt.hist(im_gray_2.ravel(), bins=256, range=(0, 256))\n",
    "plt.title('Histograma Original de Circuit')\n",
    "\n",
    "plt.subplot(2, 2, 4)\n",
    "plt.hist(im_hist_2.ravel(), bins=256, range=(0, 256))\n",
    "plt.title('Histograma Ecualizado de Circuit')\n",
    "\n",
    "plt.show()"
   ]
  },
  {
   "cell_type": "markdown",
   "id": "c1ed98c1-5ea7-45be-912d-018bcc3cdf5a",
   "metadata": {},
   "source": [
    "# 5. Resultados visuales\n",
    "Mostrar las imágenes antes y después de la ecualización"
   ]
  },
  {
   "cell_type": "code",
   "execution_count": null,
   "id": "23110872-af35-4227-b877-0505fe1d5004",
   "metadata": {},
   "outputs": [],
   "source": [
    "plt.figure(figsize=(7, 3))\n",
    "plt.subplot(1, 2, 1)\n",
    "plt.imshow(im_gray_1, cmap='gray')\n",
    "plt.title('Original Cameraman')\n",
    "plt.axis('off')\n",
    "\n",
    "plt.subplot(1, 2, 2)\n",
    "plt.imshow(im_hist_1, cmap='gray')\n",
    "plt.title('Ecualizado Cameraman')\n",
    "plt.axis('off')\n",
    "plt.show()\n",
    "\n",
    "plt.figure(figsize=(7, 3))\n",
    "plt.subplot(1, 2, 1)\n",
    "plt.imshow(im_gray_2, cmap='gray')\n",
    "plt.title('Original Circuit')\n",
    "plt.axis('off')\n",
    "\n",
    "plt.subplot(1, 2, 2)\n",
    "plt.imshow(im_hist_2, cmap='gray')\n",
    "plt.title('Ecualizado Circuit')\n",
    "plt.axis('off')\n",
    "plt.show()"
   ]
  },
  {
   "cell_type": "markdown",
   "id": "5860931c-bdea-4e36-827a-8e4d543af665",
   "metadata": {},
   "source": [
    "# 6. Otros resultados\n",
    "Lectura de una tercera imagen y ecualización por histograma"
   ]
  },
  {
   "cell_type": "code",
   "execution_count": null,
   "id": "8328c2d5-04f0-45cc-9417-bebc76459b78",
   "metadata": {},
   "outputs": [],
   "source": [
    "I = cv2.imread('./images/tire.tif', cv2.IMREAD_GRAYSCALE)\n",
    "\n",
    "# Aplicar CLAHE\n",
    "J = clahe.apply(I)\n",
    "\n",
    "# Comparación visual de las imágenes\n",
    "plt.figure(figsize=(10, 5))\n",
    "plt.imshow(np.hstack((I, J)), cmap='gray')\n",
    "plt.title('Comparación Original vs Ecualizado (Tire)')\n",
    "plt.axis('off')\n",
    "plt.show()"
   ]
  },
  {
   "cell_type": "markdown",
   "id": "6da2937c-081a-40d3-bebd-ac0919ff2d83",
   "metadata": {},
   "source": [
    "<div style=\"text-align: center; margin: 20px 0;\">\n",
    "  <hr style=\"border: none; height: 2px; background: linear-gradient(to right, #bbb, #333, #bbb); width: 50%; margin: 0 auto;\" />\n",
    "</div>"
   ]
  }
 ],
 "metadata": {
  "kernelspec": {
   "display_name": "cv2-kernel",
   "language": "python",
   "name": "cv2-kernel"
  },
  "language_info": {
   "codemirror_mode": {
    "name": "ipython",
    "version": 3
   },
   "file_extension": ".py",
   "mimetype": "text/x-python",
   "name": "python",
   "nbconvert_exporter": "python",
   "pygments_lexer": "ipython3",
   "version": "3.8.18"
  }
 },
 "nbformat": 4,
 "nbformat_minor": 5
}
