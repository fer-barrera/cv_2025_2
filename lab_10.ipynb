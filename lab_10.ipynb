{
 "cells": [
  {
   "cell_type": "markdown",
   "id": "1769e81c-d598-4512-be55-c4de5de52384",
   "metadata": {},
   "source": [
    "# Práctica 10. Espacios de color\n",
    "\n",
    "<div class=\"alert alert-block alert-success\">\n",
    "<b>Resumen:</b> Este notebook explora diferentes espacios de color utilizados en procesamiento digital de imágenes, tales como RGB, HSV, LAB y escala de grises. Se presentan técnicas para la manipulación de imágenes en estos espacios, así como visualizaciones en 2D y 3D de los componentes de color. La práctica tiene como objetivo proporcionar una comprensión profunda de cómo se representan y transforman los colores en imágenes digitales.\n",
    "</div>\n",
    "\n",
    "***"
   ]
  },
  {
   "cell_type": "code",
   "execution_count": null,
   "id": "b4a93263-7846-45d4-94da-06f72b201d02",
   "metadata": {},
   "outputs": [],
   "source": [
    "# Importar las bibliotecas necesarias\n",
    "import cv2\n",
    "import numpy as np\n",
    "import matplotlib.pyplot as plt\n",
    "from mpl_toolkits.mplot3d import Axes3D"
   ]
  },
  {
   "cell_type": "markdown",
   "id": "dc9af365-3495-4018-aaa0-b0c5e00ac2e4",
   "metadata": {},
   "source": [
    "<b>Cargar la imagen de prueba</b>\n",
    "\n",
    "Se carga la imagen de prueba coloredChips.png utilizando la función `cv2.imread`, que permite leer la imagen en su formato BGR, el cual es estándar en OpenCV."
   ]
  },
  {
   "cell_type": "code",
   "execution_count": null,
   "id": "e54ba17b-1a9d-4cc7-82ac-d45620032882",
   "metadata": {},
   "outputs": [],
   "source": [
    "im_1 = cv2.imread('.\\images\\coloredChips.png')"
   ]
  },
  {
   "cell_type": "markdown",
   "id": "10301b06-a302-470a-b124-9c4ea3f1f8b4",
   "metadata": {},
   "source": [
    "## 1. Espacio de color RGB\n",
    "\n",
    "El espacio de color RGB (Red, Green, Blue) es un modelo aditivo donde los colores se crean combinando diferentes intensidades de los tres colores primarios: rojo, verde y azul. En OpenCV, el formato de imagen estándar es BGR (Blue, Green, Red), por lo que es común convertir imágenes a RGB para facilitar la visualización y manipulación en Python. Este espacio de color es ampliamente utilizado en procesamiento de imágenes debido a su simplicidad y a su correspondencia directa con la percepción humana del color.\n",
    "\n",
    "### 1.1. Conversión de formato BGR a RGB"
   ]
  },
  {
   "cell_type": "code",
   "execution_count": null,
   "id": "5cd292fb-bdb3-4311-a9ac-8f289b99c8fe",
   "metadata": {},
   "outputs": [],
   "source": [
    "im_1_rgb = cv2.cvtColor(im_1, cv2.COLOR_BGR2RGB)"
   ]
  },
  {
   "cell_type": "markdown",
   "id": "ee2bde01-5098-4a96-ab88-e38f49d2ee44",
   "metadata": {},
   "source": [
    "Separación de canales RGB"
   ]
  },
  {
   "cell_type": "code",
   "execution_count": null,
   "id": "9f059484-553b-47b0-b697-104e26e20e7a",
   "metadata": {},
   "outputs": [],
   "source": [
    "(im_1_B, im_1_G, im_1_R) = cv2.split(im_1)"
   ]
  },
  {
   "cell_type": "markdown",
   "id": "bfe607e4-b034-471e-bf08-a68ddfdb81cb",
   "metadata": {},
   "source": [
    "### 1.2. Visualización de los canales individuales"
   ]
  },
  {
   "cell_type": "code",
   "execution_count": null,
   "id": "0a44029b-8c6a-49d7-808c-d5f950d8ccc6",
   "metadata": {},
   "outputs": [],
   "source": [
    "# show each channel individually\n",
    "plt.figure(figsize = (7, 4))\n",
    "plt.subplot(2, 2, 1)\n",
    "plt.imshow(im_1_R, cmap='gray')\n",
    "plt.title('Red')\n",
    "plt.axis('off')\n",
    "\n",
    "plt.subplot(2, 2, 2)\n",
    "plt.imshow(im_1_G, cmap='gray')\n",
    "plt.title('Green')\n",
    "plt.axis('off')\n",
    "\n",
    "plt.subplot(2, 2, 3)\n",
    "plt.imshow(im_1_B, cmap='gray')\n",
    "plt.title('Blue')\n",
    "plt.axis('off')\n",
    "\n",
    "plt.subplot(2, 2, 4)\n",
    "plt.imshow(im_1_rgb)\n",
    "plt.title('RGB')\n",
    "plt.axis('off')\n",
    "plt.show()"
   ]
  },
  {
   "cell_type": "markdown",
   "id": "b5d7720c-0021-4e03-b798-65b30cb657e0",
   "metadata": {},
   "source": [
    "<b>Combinación de colores Red, Green, y Blue</b>\n",
    "\n",
    "La figura muestra la combinación de los colores primarios (Rojo, Verde, Azul) en el espacio RGB y los distintos tonos generados.\n",
    "\n",
    "<img src=\"color_combining.jpg\" width=\"200\">"
   ]
  },
  {
   "cell_type": "markdown",
   "id": "b991fddb-c042-4db1-b154-7c0f500d1f1e",
   "metadata": {},
   "source": [
    "Para unir los canales"
   ]
  },
  {
   "cell_type": "code",
   "execution_count": null,
   "id": "202810e1-92f2-4150-b5fb-12a2f86062c5",
   "metadata": {},
   "outputs": [],
   "source": [
    "im_1_merged = cv2.merge([im_1_B, im_1_G, im_1_R])"
   ]
  },
  {
   "cell_type": "markdown",
   "id": "f2f95e9a-822b-46e1-92f1-bb9f746fcdbe",
   "metadata": {},
   "source": [
    "### 1.3.  Gráfico tridimensional del espacio de color RGB\n",
    "\n",
    "Gráfico tridimensional de los píxeles de la imagen en el espacio RGB. Esta visualización permite observar la distribución de los tonos en un eje 3d."
   ]
  },
  {
   "cell_type": "code",
   "execution_count": null,
   "id": "0fd5c92f-7a2d-4f55-a010-ca715c276fb6",
   "metadata": {},
   "outputs": [],
   "source": [
    "def plot_rgb_color_space(im_bgr):\n",
    "    # Convertir la imagen de BGR a RGB\n",
    "    imagen_rgb = cv2.cvtColor(im_bgr, cv2.COLOR_BGR2RGB)\n",
    "\n",
    "    # Separar los canales RGB utilizando cv2.split()\n",
    "    R, G, B = cv2.split(imagen_rgb)\n",
    "\n",
    "    # Aplanar los canales para obtener vectores unidimensionales\n",
    "    R = R.flatten()\n",
    "    G = G.flatten()\n",
    "    B = B.flatten()\n",
    "\n",
    "    # Crear una figura 3D\n",
    "    fig = plt.figure()\n",
    "    ax = fig.add_subplot(111, projection='3d')\n",
    "\n",
    "    # Graficar cada píxel en el espacio RGB\n",
    "    ax.scatter(R, G, B, c=imagen_rgb.reshape(-1, 3)/255, marker='.', s=1)\n",
    "\n",
    "    # Etiquetas de los ejes\n",
    "    ax.set_xlabel('Rojo (R)')\n",
    "    ax.set_ylabel('Verde (G)')\n",
    "    ax.set_zlabel('Azul (B)')\n",
    "\n",
    "    # Ajustar manualmente la vista\n",
    "    ax.view_init(elev=40, azim=15)  # Cambia estos valores para rotar el gráfico\n",
    "\n",
    "    # Mostrar el gráfico\n",
    "    plt.show()"
   ]
  },
  {
   "cell_type": "code",
   "execution_count": null,
   "id": "40e5c310-ceb4-4061-9dfd-8c0700001143",
   "metadata": {},
   "outputs": [],
   "source": [
    "plot_rgb_color_space(im_1)"
   ]
  },
  {
   "cell_type": "markdown",
   "id": "0c3510f0-93e9-4003-9ec2-960eddb13d47",
   "metadata": {},
   "source": [
    "***\n",
    "\n",
    "## Actividad\n",
    "\n",
    "Genera un gráfico tridimensional del espacio de color RGB de una de las imágenes de color de la actividad anterior."
   ]
  },
  {
   "cell_type": "code",
   "execution_count": null,
   "id": "b448fe86-8305-436e-b9e3-76237ea9184d",
   "metadata": {},
   "outputs": [],
   "source": [
    "# escriba aquí su código"
   ]
  },
  {
   "cell_type": "markdown",
   "id": "2d7e01f9-ad2f-4377-aa84-141aea7703ca",
   "metadata": {},
   "source": [
    "***\n",
    "\n",
    "## 2. Espacio de color HSV\n",
    "\n",
    "El espacio de color HSV (Hue, Saturation, Value) es un modelo de color que separa la información cromática (tono) de la intensidad y la pureza del color. En OpenCV, este espacio se utiliza frecuentemente para tareas de procesamiento de imágenes donde es importante manipular los colores de manera independiente a su iluminación. HSV facilita operaciones como la detección de colores específicos y segmentación, ya que permite una representación más intuitiva de los colores comparada con el modelo RGB."
   ]
  },
  {
   "cell_type": "markdown",
   "id": "151f0bda-f8f3-4b2a-81ca-1e7a7b0d1b61",
   "metadata": {},
   "source": [
    "<img src=\"HSV_colorspace.jpg\" width=\"350\">\n",
    "\n",
    "La imagen muestra una representación tridimensional del espacio de color HSV (Hue, Saturation, Value). El modelo se visualiza como un cilindro, donde:\n",
    "\n",
    "- Hue (Tono): Representado en el borde exterior del cilindro, indica el color, variando de 0 a 360 grados, donde 0 es rojo, 120 es verde y 240 es azul.\n",
    "- Saturation (Saturación): Representada en el eje radial, indica la pureza del color, con valores que van desde 0 (gris, sin color) en el centro hasta 1 (color más puro) en el borde exterior.\n",
    "- Value (Valor o Brillo): Representado en el eje vertical del cilindro, indica la luminosidad del color, con valores que van desde 0 (negro) en la parte inferior hasta 1 (color más brillante) en la parte superior.\n",
    "\n",
    "***"
   ]
  },
  {
   "cell_type": "markdown",
   "id": "0224ac12-4b19-4823-b2cc-4aaefa064919",
   "metadata": {},
   "source": [
    "<img src=\"HSV_plane.png\" width=\"350\">\n",
    "\n",
    "La imagen muestra una representación bidimensional de una sección del espacio de color HSV, donde se fija la saturación en su valor máximo $S_{HSV}=1$\n",
    "\n",
    "- Eje horizontal (H): Representa el tono (Hue) variando de 0° a 360°. Este eje muestra la transición continua de colores, comenzando desde el rojo (0°), pasando por verde (120°), azul (240°), y volviendo al rojo (360°).\n",
    "- Eje vertical (V): Representa el valor o brillo (Value), variando de 0 a 1. En la parte inferior del gráfico, donde V=0, todos los colores son negros, mientras que en la parte superior, donde V=1, los colores son más brillantes y saturados.\n",
    "\n",
    "***\n",
    "\n",
    "### 2.1. Conversión de formato BGR a HSV"
   ]
  },
  {
   "cell_type": "code",
   "execution_count": null,
   "id": "a9081710-5dd3-4217-85ed-76483006b1b3",
   "metadata": {},
   "outputs": [],
   "source": [
    "im_1_HSV = cv2.cvtColor(im_1, cv2.COLOR_BGR2HSV)"
   ]
  },
  {
   "cell_type": "markdown",
   "id": "dfd05b46-b523-4173-9f0b-e38c0007a28b",
   "metadata": {},
   "source": [
    "Separación de canales HSV"
   ]
  },
  {
   "cell_type": "code",
   "execution_count": null,
   "id": "a4250ecc-bda9-4bb6-bd92-8dfd1c104cc8",
   "metadata": {},
   "outputs": [],
   "source": [
    "(im_1_H, im_1_S, im_1_V) = cv2.split(im_1_HSV)"
   ]
  },
  {
   "cell_type": "markdown",
   "id": "8db4f3c2-d916-497c-aaf2-aa8e79d1d5f6",
   "metadata": {},
   "source": [
    "### 2.2. Visualización de los canales individuales"
   ]
  },
  {
   "cell_type": "code",
   "execution_count": null,
   "id": "298fe5fd-09f0-4d2b-9297-c9e4a0c934f9",
   "metadata": {},
   "outputs": [],
   "source": [
    "# show each channel individually\n",
    "plt.figure(figsize = (7, 4))\n",
    "plt.subplot(2, 2, 1)\n",
    "plt.imshow(im_1_H, cmap='gray')\n",
    "plt.title('Hue')\n",
    "plt.axis('off')\n",
    "\n",
    "plt.subplot(2, 2, 2)\n",
    "plt.imshow(im_1_S, cmap='gray')\n",
    "plt.title('Saturation')\n",
    "plt.axis('off')\n",
    "\n",
    "plt.subplot(2, 2, 3)\n",
    "plt.imshow(im_1_V, cmap='gray')\n",
    "plt.title('Value')\n",
    "plt.axis('off')\n",
    "\n",
    "plt.subplot(2, 2, 4)\n",
    "plt.imshow(im_1_HSV)\n",
    "plt.title('HSV')\n",
    "plt.axis('off')\n",
    "plt.show()"
   ]
  },
  {
   "cell_type": "markdown",
   "id": "be79b7ea-95a4-4eef-b223-9791be3d253a",
   "metadata": {},
   "source": [
    "### 2.3.  Gráfico tridimensional del espacio de color HSV\n",
    "\n",
    "Gráfico tridimensional de los píxeles de la imagen en el espacio HSV. Esta visualización permite observar la distribución de los tonos en un eje 3d."
   ]
  },
  {
   "cell_type": "code",
   "execution_count": null,
   "id": "02828a5a-9500-48b5-830f-b7c4093a7e91",
   "metadata": {},
   "outputs": [],
   "source": [
    "def plot_hsv_color_space(image_hsv):\n",
    "    # Separar los canales RGB utilizando cv2.split()\n",
    "    H, S, V = cv2.split(image_hsv)\n",
    "    \n",
    "    # Convertir los valores a un rango adecuado\n",
    "    H = np.deg2rad(H.flatten())*2 # Convertir H de grados a radianes\n",
    "    S = S.flatten() / 255.0  # Normalizar S a [0, 1]\n",
    "    V = V.flatten() / 255.0  # Normalizar V a [0, 1]\n",
    "\n",
    "    # Convertir coordenadas cilíndricas (H, S, V) a cartesianas (x, y, z)\n",
    "    x = S * np.cos(H)\n",
    "    y = S * np.sin(H)\n",
    "    z = V\n",
    "\n",
    "    # Crear figura 3D\n",
    "    fig = plt.figure()\n",
    "    ax = fig.add_subplot(111, projection='3d')\n",
    "    \n",
    "    # Graficar los puntos en el espacio 3D\n",
    "    # Escalar el color de los puntos utilizando el espacio HSV normalizado\n",
    "    colors = cv2.cvtColor(image_hsv, cv2.COLOR_HSV2RGB).reshape(-1, 3) / 255.0\n",
    "    ax.scatter(x, y, z, c = colors, marker='.', s=1)\n",
    "\n",
    "    # Etiquetas de los ejes\n",
    "    ax.set_xlabel('X (S * cos(H))')\n",
    "    ax.set_ylabel('Y (S * sin(H))')\n",
    "    ax.set_zlabel('V (Value)')\n",
    "\n",
    "    # Ajustar manualmente la vista\n",
    "    ax.view_init(elev=90, azim=270)  # Cambia estos valores para rotar el gráfico\n",
    "    \n",
    "    # Mostrar el gráfico\n",
    "    plt.show()"
   ]
  },
  {
   "cell_type": "code",
   "execution_count": null,
   "id": "2d66c381-b0e2-455d-be97-1af8a34abaf8",
   "metadata": {},
   "outputs": [],
   "source": [
    "plot_hsv_color_space(im_1_HSV)"
   ]
  },
  {
   "cell_type": "markdown",
   "id": "05c083bf-8f3d-4dd4-b1e5-e781a6362b53",
   "metadata": {},
   "source": [
    "***\n",
    "\n",
    "## Actividad\n",
    "\n",
    "Genera un gráfico tridimensional del espacio de color HSV de una de las imágenes de color de la actividad anterior."
   ]
  },
  {
   "cell_type": "code",
   "execution_count": null,
   "id": "932de759-0622-41ab-ac4c-6b5d0a6fee88",
   "metadata": {},
   "outputs": [],
   "source": [
    "# escriba aquí su código"
   ]
  },
  {
   "cell_type": "markdown",
   "id": "0fa3cd7e-5a20-422b-9f13-57aad11aca46",
   "metadata": {},
   "source": [
    "***\n",
    "\n",
    "## 3. Espacio de color LAB\n",
    "\n",
    "El espacio de color LAB es un modelo de color perceptualmente uniforme, diseñado para aproximar la visión del color humano. En este espacio, el canal **L** representa la luminosidad, mientras que los canales **A** y **B** contienen la información cromática, indicando los colores en los ejes verde-rojo y azul-amarillo, respectivamente. LAB es ampliamente utilizado en aplicaciones donde la percepción del color es necesaria, como en la corrección de color y la comparación de imágenes. \n",
    "\n",
    "<img src=\"lab_sphere.png\" width=\"350\">"
   ]
  },
  {
   "cell_type": "markdown",
   "id": "429f7b02-fc79-4144-8f18-dbe3954977ae",
   "metadata": {},
   "source": [
    "### 3.1. Conversión de formato BGR a LAB"
   ]
  },
  {
   "cell_type": "code",
   "execution_count": null,
   "id": "e5cafa16-5012-4e98-a5f4-8a4ead6c6a67",
   "metadata": {},
   "outputs": [],
   "source": [
    "im_1_LAB = cv2.cvtColor(im_1, cv2.COLOR_BGR2LAB)"
   ]
  },
  {
   "cell_type": "markdown",
   "id": "4902f1d3-f2b8-443d-9f29-6d88e9328293",
   "metadata": {},
   "source": [
    "Separación de canales Lab"
   ]
  },
  {
   "cell_type": "code",
   "execution_count": null,
   "id": "7bf8b71d-8222-48c7-85b8-5665666749bb",
   "metadata": {},
   "outputs": [],
   "source": [
    "(im_1_L, im_1_A, im_1_B) = cv2.split(im_1_LAB)"
   ]
  },
  {
   "cell_type": "markdown",
   "id": "79eff7cd-2ec9-4535-bace-ce9823ca9a44",
   "metadata": {},
   "source": [
    "### 3.2. Visualización de los canales individuales"
   ]
  },
  {
   "cell_type": "code",
   "execution_count": null,
   "id": "880686ed-9266-4596-882b-ec7dabae5c50",
   "metadata": {},
   "outputs": [],
   "source": [
    "# show each channel individually\n",
    "plt.figure(figsize = (7, 4))\n",
    "plt.subplot(2, 2, 1)\n",
    "plt.imshow(im_1_L, cmap='gray')\n",
    "plt.title('L')\n",
    "plt.axis('off')\n",
    "\n",
    "plt.subplot(2, 2, 2)\n",
    "plt.imshow(im_1_A, cmap='gray')\n",
    "plt.title('a')\n",
    "plt.axis('off')\n",
    "\n",
    "plt.subplot(2, 2, 3)\n",
    "plt.imshow(im_1_B, cmap='gray')\n",
    "plt.title('b')\n",
    "plt.axis('off')\n",
    "\n",
    "plt.subplot(2, 2, 4)\n",
    "plt.imshow(im_1_LAB)\n",
    "plt.title('LAB')\n",
    "plt.axis('off')\n",
    "plt.show()"
   ]
  },
  {
   "cell_type": "markdown",
   "id": "86d41be4-2404-4697-8a07-9154057584cc",
   "metadata": {},
   "source": [
    "### 3.3.  Gráfico tridimensional del espacio de color LAB\n",
    "\n",
    "Gráfico tridimensional de los píxeles de la imagen en el espacio LAB. Esta visualización permite observar la distribución de los tonos en un eje 3d."
   ]
  },
  {
   "cell_type": "code",
   "execution_count": null,
   "id": "b704c228-f1f8-4a39-9b40-9c39b91cdd19",
   "metadata": {},
   "outputs": [],
   "source": [
    "def plot_lab_color_space(image_lab):\n",
    "    # Separar los canales L, A y B\n",
    "    L, A, B = cv2.split(image_lab)\n",
    "    \n",
    "    # Convertir A y B al rango [-128, 127]\n",
    "    L = L.flatten()\n",
    "    A = A.flatten()\n",
    "    B = B.flatten()\n",
    "\n",
    "    # Crear figura 3D\n",
    "    fig = plt.figure()\n",
    "    ax = fig.add_subplot(111, projection='3d')\n",
    "    \n",
    "    # Graficar los puntos en el espacio 3D\n",
    "    # Escalar el color de los puntos utilizando el espacio HSV normalizado\n",
    "    colors = cv2.cvtColor(image_lab, cv2.COLOR_LAB2RGB).reshape(-1, 3) / 255.0\n",
    "    ax.scatter(A, B, L, c = colors, marker='.', s=1)\n",
    "\n",
    "    # Etiquetas de los ejes\n",
    "    ax.set_xlabel('A')\n",
    "    ax.set_ylabel('B')\n",
    "    ax.set_zlabel('L')\n",
    "\n",
    "    # Ajustar manualmente la vista\n",
    "    ax.view_init(elev=45, azim=70)  # Cambia estos valores para rotar el gráfico\n",
    "    \n",
    "    # Mostrar el gráfico\n",
    "    plt.show()"
   ]
  },
  {
   "cell_type": "code",
   "execution_count": null,
   "id": "4f48131d-f48b-4099-be75-a1bfcbe3b1c6",
   "metadata": {},
   "outputs": [],
   "source": [
    "plot_lab_color_space(im_1_LAB)"
   ]
  },
  {
   "cell_type": "markdown",
   "id": "5d54388c-f4d6-4bab-8320-df55b087c1dc",
   "metadata": {},
   "source": [
    "***\n",
    "\n",
    "## 4. Espacio de color Grayscale\n",
    "\n",
    "El espacio de color Grayscale (escala de grises) es una representación en la que cada píxel de una imagen tiene un valor de luminancia, sin contener información cromática. Este valor varía desde el negro (0) hasta el blanco (255), pasando por diferentes tonos de gris. En OpenCV, la conversión de una imagen en color a escala de grises es una operación común, utilizada para simplificar el procesamiento de imágenes, como en la detección de bordes y el análisis de texturas. Trabajar en escala de grises reduce la complejidad computacional, permitiendo un análisis más eficiente en muchas aplicaciones de visión por computadora.\n",
    "\n",
    "Las fórmulas para convertir una imagen en color al espacio de color Grayscale (escala de grises) se basan en una combinación ponderada de los canales de color (Rojo, Verde y Azul). La fórmula comúnmente utilizada es:\n",
    "\n",
    "$$ gray = 0.299 \\times R + 0.587 \\times G + 0.114 \\times B $$\n",
    "\n",
    "\r\n",
    "Donde:\r\n",
    "\r\n",
    "- **R** es la intensidad del canal rojo.\r\n",
    "- **G** es la intensidad del canal verde.\r\n",
    "- **B** es la intensidad del canal azul.\r\n",
    "\r\n",
    "Estas ponderaciones se eligen porque reflejan la sensibilidad del ojo humano a los diferentes colores, siendo el verde el más perceptible, seguido del rojo y lueagen original."
   ]
  },
  {
   "cell_type": "markdown",
   "id": "ef19302f-3213-4104-83f5-a190d210251a",
   "metadata": {},
   "source": [
    "### 4.1. Conversión de formato BGR a LAB"
   ]
  },
  {
   "cell_type": "code",
   "execution_count": null,
   "id": "545870eb-dc7e-43ba-9ecb-a96d91752a36",
   "metadata": {},
   "outputs": [],
   "source": [
    "im_1_gray = cv2.cvtColor(im_1, cv2.COLOR_BGR2GRAY)"
   ]
  },
  {
   "cell_type": "markdown",
   "id": "fa02b360-1710-41c0-92f4-23f952203437",
   "metadata": {},
   "source": [
    "### 4.2. Visualización de los canales individuales"
   ]
  },
  {
   "cell_type": "code",
   "execution_count": null,
   "id": "d89d26b6-2ba3-4d31-8b24-3253532a4540",
   "metadata": {},
   "outputs": [],
   "source": [
    "# show each channel individually\n",
    "plt.figure(figsize = (7, 4))\n",
    "plt.subplot(1, 2, 1)\n",
    "plt.imshow(im_1_rgb)\n",
    "plt.title('RGB')\n",
    "plt.axis('off')\n",
    "\n",
    "plt.subplot(1, 2, 2)\n",
    "plt.imshow(im_1_gray, cmap='gray')\n",
    "plt.title('Grayscale')\n",
    "plt.axis('off')\n",
    "plt.show()"
   ]
  }
 ],
 "metadata": {
  "kernelspec": {
   "display_name": "cv2-kernel",
   "language": "python",
   "name": "cv2-kernel"
  },
  "language_info": {
   "codemirror_mode": {
    "name": "ipython",
    "version": 3
   },
   "file_extension": ".py",
   "mimetype": "text/x-python",
   "name": "python",
   "nbconvert_exporter": "python",
   "pygments_lexer": "ipython3",
   "version": "3.8.18"
  }
 },
 "nbformat": 4,
 "nbformat_minor": 5
}
