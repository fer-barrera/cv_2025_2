{
 "cells": [
  {
   "cell_type": "markdown",
   "id": "c75e9209-d9c3-4143-a0ef-e0c6e76b2f94",
   "metadata": {},
   "source": [
    "# Práctica 11. Transformaciones de intensidad (pixelwise)\n",
    "\n",
    "<div class=\"alert alert-block alert-success\">\n",
    "<b>Resumen:</b> En esta práctica se estudiarán una serie de operaciones de procesamiento de imágenes utilizando Python, enfocándose en la manipulación y análisis de imágenes en escala de grises. Las tareas incluirán la carga y visualización de imágenes, el cálculo de imágenes negativas, la aplicación de transformaciones logarítmicas y corrección gamma, así como la normalización de los resultados para una visualización adecuada. Estas técnicas permitirán resaltar detalles específicos y ajustar la luminancia de las imágenes de manera no lineal, facilitando un análisis más profundo de sus características.\n",
    "</div>\n",
    "\n",
    "***"
   ]
  },
  {
   "cell_type": "code",
   "execution_count": null,
   "id": "bbdae56a-c1a4-4760-b35f-2925203942d7",
   "metadata": {},
   "outputs": [],
   "source": [
    "# Preámbulo\n",
    "import cv2\n",
    "import numpy as np\n",
    "import matplotlib.pyplot as plt"
   ]
  },
  {
   "cell_type": "markdown",
   "id": "fdc98c2d-f604-4e1b-b0e6-28cd195ba6b1",
   "metadata": {},
   "source": [
    "***\n",
    "\n",
    "### Lectura de imágenes\n",
    "\n",
    "Se procede a leer las imágenes en escala de grises y a visualizarlas. Además, se calcula el rango de intensidades para cada imagen."
   ]
  },
  {
   "cell_type": "code",
   "execution_count": null,
   "id": "c29dcba9-4106-47ec-b87c-84755634f26d",
   "metadata": {},
   "outputs": [],
   "source": [
    "# Lectura de las imágenes en escala de grises\n",
    "im_gray_1 = cv2.imread('.\\images\\cameraman.tif')\n",
    "im_gray_2 = cv2.imread('.\\images\\circuit.tif')\n",
    "\n",
    "# Visualización de las imágenes\n",
    "fig, axes = plt.subplots(1, 2, figsize=(7, 3))\n",
    "plt.subplot(1, 2, 1)\n",
    "plt.imshow(im_gray_1, cmap='gray')\n",
    "plt.title('Cameraman')\n",
    "plt.axis('off')\n",
    "\n",
    "plt.subplot(1, 2, 2)\n",
    "plt.imshow(im_gray_2, cmap='gray')\n",
    "plt.title('Circuit')\n",
    "plt.axis('off')\n",
    "\n",
    "plt.show()"
   ]
  },
  {
   "cell_type": "markdown",
   "id": "1c4c6393-eb04-41bb-ad8d-7a29f3efc0f1",
   "metadata": {},
   "source": [
    "Rango de intensidades"
   ]
  },
  {
   "cell_type": "code",
   "execution_count": null,
   "id": "4d808de6-ed0b-43bb-8e8f-1ae3586f3f5f",
   "metadata": {},
   "outputs": [],
   "source": [
    "# Cálculo del rango de intensidades\n",
    "def intensity_range(im_gray):\n",
    "    l_max = im_gray.max()\n",
    "    l_min = im_gray.min()\n",
    "\n",
    "    print(f\"Imagen: min = {l_min}, max = {l_max}\")"
   ]
  },
  {
   "cell_type": "code",
   "execution_count": null,
   "id": "f87abbc1-5fb7-442c-a29a-2075a82a8cde",
   "metadata": {},
   "outputs": [],
   "source": [
    "# intensidades máximas y mínimas\n",
    "intensity_range(im_gray_1)\n",
    "intensity_range(im_gray_2)"
   ]
  },
  {
   "cell_type": "markdown",
   "id": "f2053cde-9c0f-4364-8391-969f007374ee",
   "metadata": {},
   "source": [
    "## 1. Negativo de una imagen\n",
    "\n",
    "Se calcula el negativo de las imágenes y se visualizan los resultados obtenidos."
   ]
  },
  {
   "cell_type": "code",
   "execution_count": null,
   "id": "d2b4c41d-083b-4592-834a-5fe104f38d19",
   "metadata": {},
   "outputs": [],
   "source": [
    "# Cálculo del negativo de las imágenes\n",
    "im_neg_1 = im_gray_1.max() - im_gray_1\n",
    "im_neg_2 = im_gray_2.max() - im_gray_2"
   ]
  },
  {
   "cell_type": "code",
   "execution_count": null,
   "id": "8698d46d-d70e-44ec-bf9e-4f84d668e68f",
   "metadata": {},
   "outputs": [],
   "source": [
    "# Visualización de las imágenes en negativo\n",
    "fig, axes = plt.subplots(1, 2, figsize=(7, 3))\n",
    "plt.subplot(1, 2, 1)\n",
    "plt.imshow(im_neg_1, cmap='gray')\n",
    "plt.title('Cameraman')\n",
    "plt.axis('off')\n",
    "\n",
    "plt.subplot(1, 2, 2)\n",
    "plt.imshow(im_neg_2, cmap='gray')\n",
    "plt.title('Circuit')\n",
    "plt.axis('off')\n",
    "\n",
    "plt.show()"
   ]
  },
  {
   "cell_type": "code",
   "execution_count": null,
   "id": "3f5cac27-75fd-4611-a132-b90a686a9a55",
   "metadata": {},
   "outputs": [],
   "source": [
    "# intensidades máximas y mínimas\n",
    "intensity_range(im_neg_1)\n",
    "intensity_range(im_neg_2)"
   ]
  },
  {
   "cell_type": "markdown",
   "id": "9ab8694b-7038-4b0c-8d53-6cefbfb32d00",
   "metadata": {},
   "source": [
    "## 2. Logaritmo de una imagen\n",
    "\n",
    "Se aplica una transformación logarítmica en base diez a las imágenes y se visualizan los resultados normalizados. Este proceso permite resaltar detalles en regiones de baja intensidad."
   ]
  },
  {
   "cell_type": "code",
   "execution_count": null,
   "id": "59e9611d-4e37-4cd2-bad2-d147fcbfdc4a",
   "metadata": {},
   "outputs": [],
   "source": [
    "# Aplicación del logaritmo en base diez\n",
    "# Conversión de las imágenes a tipo float para evitar problemas con el logaritmo\n",
    "im_gray_1_float = im_gray_1.astype(np.float64)\n",
    "im_gray_2_float = im_gray_2.astype(np.float64)\n",
    "\n",
    "# Añadido de una pequeña constante para evitar log(0)\n",
    "epsilon = 1e-6\n",
    "\n",
    "im_log_1 = 0.85 * np.log10(im_gray_1_float + epsilon)\n",
    "im_log_2 = 0.5 * np.log10(im_gray_2_float + epsilon)\n",
    "\n",
    "# Normalización de las imágenes logarítmicas\n",
    "im_log_1_norm = (im_log_1 - im_log_1.min()) / (im_log_1.max() - im_log_1.min())\n",
    "im_log_2_norm = (im_log_2 - im_log_2.min()) / (im_log_2.max() - im_log_2.min())"
   ]
  },
  {
   "cell_type": "code",
   "execution_count": null,
   "id": "3dd3a7dd-a802-4fd2-9722-192dc5c76b54",
   "metadata": {},
   "outputs": [],
   "source": [
    "# Visualización de las imágenes en negativo\n",
    "fig, axes = plt.subplots(1, 2, figsize=(7, 3))\n",
    "plt.subplot(1, 2, 1)\n",
    "plt.imshow(im_log_1_norm, cmap='gray')\n",
    "plt.title('Cameraman')\n",
    "plt.axis('off')\n",
    "\n",
    "plt.subplot(1, 2, 2)\n",
    "plt.imshow(im_log_2_norm, cmap='gray')\n",
    "plt.title('Circuit')\n",
    "plt.axis('off')\n",
    "\n",
    "plt.show()"
   ]
  },
  {
   "cell_type": "markdown",
   "id": "bf2b9645-1103-4018-a568-e0c8bd5e1b3a",
   "metadata": {},
   "source": [
    "## 3. Transformación Gamma (o corrección Gamma)\n",
    "\n",
    "Se realiza una corrección gamma a las imágenes, lo que permite ajustar la luminancia de manera no lineal. Los resultados obtenidos son visualizados de forma normalizada."
   ]
  },
  {
   "cell_type": "code",
   "execution_count": null,
   "id": "1102905d-2f85-495a-b479-bf2ca66581b5",
   "metadata": {},
   "outputs": [],
   "source": [
    "# Aplicación de la transformación gamma\n",
    "im_gamma_1 = 1.0 * (im_gray_1_float ** 5)\n",
    "im_gamma_2 = 1.0 * (im_gray_1_float ** 0.2)\n",
    "\n",
    "# Normalización de las imágenes gamma\n",
    "im_gamma_1_norm = (im_gamma_1 - im_gamma_1.min()) / (im_gamma_1.max() - im_gamma_1.min())\n",
    "im_gamma_2_norm = (im_gamma_2 - im_gamma_2.min()) / (im_gamma_2.max() - im_gamma_2.min())"
   ]
  },
  {
   "cell_type": "code",
   "execution_count": null,
   "id": "9da7041a-692f-4357-ba66-ff0cb258c4c8",
   "metadata": {},
   "outputs": [],
   "source": [
    "# Visualización de las imágenes en negativo\n",
    "fig, axes = plt.subplots(1, 2, figsize=(7, 3))\n",
    "plt.subplot(1, 2, 1)\n",
    "plt.imshow(im_gamma_1_norm, cmap='gray')\n",
    "plt.title('Cameraman')\n",
    "plt.axis('off')\n",
    "\n",
    "plt.subplot(1, 2, 2)\n",
    "plt.imshow(im_gamma_2_norm, cmap='gray')\n",
    "plt.title('Cameraman')\n",
    "plt.axis('off')\n",
    "\n",
    "plt.show()"
   ]
  },
  {
   "cell_type": "markdown",
   "id": "5696f904-d6fd-4944-8574-661874212e76",
   "metadata": {},
   "source": [
    "***\n",
    "\n",
    "## Actividad\n",
    "\n",
    "<b>Objetivos</b>\n",
    "\n",
    "- Comprender las transformaciones estudiadas (negativos, transformaciones logarítmicas y corrección gamma).\n",
    "- Aplicar estas transformaciones a una imagen específica (`tire.tif`) utilizando Python.\n",
    "- Analizar los efectos de cada transformación sobre las características visuales de la imagen."
   ]
  },
  {
   "cell_type": "code",
   "execution_count": null,
   "id": "ec15cfe3-e6cc-4289-82dc-e8be7b66e677",
   "metadata": {},
   "outputs": [],
   "source": [
    "# aquí su código"
   ]
  },
  {
   "cell_type": "markdown",
   "id": "78e26a91-b0dd-4d53-8fb8-97cbcac357d8",
   "metadata": {},
   "source": [
    "<div style=\"text-align: center; margin: 20px 0;\">\n",
    "  <hr style=\"border: none; height: 2px; background: linear-gradient(to right, #bbb, #333, #bbb); width: 50%; margin: 0 auto;\" />\n",
    "</div>"
   ]
  }
 ],
 "metadata": {
  "kernelspec": {
   "display_name": "cv2-kernel",
   "language": "python",
   "name": "cv2-kernel"
  },
  "language_info": {
   "codemirror_mode": {
    "name": "ipython",
    "version": 3
   },
   "file_extension": ".py",
   "mimetype": "text/x-python",
   "name": "python",
   "nbconvert_exporter": "python",
   "pygments_lexer": "ipython3",
   "version": "3.8.18"
  }
 },
 "nbformat": 4,
 "nbformat_minor": 5
}
