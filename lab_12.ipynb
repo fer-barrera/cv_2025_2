{
 "cells": [
  {
   "cell_type": "markdown",
   "id": "93a73a21-5e98-4419-bb40-f3fd7d80590f",
   "metadata": {},
   "source": [
    "# Práctica 12. Métodos de normalización de imágenes\n",
    "\n",
    "<div class=\"alert alert-block alert-success\">\n",
    "<b>Resumen:</b>  Esta práctica presenta una introducción a la normalización de píxeles en el ámbito de la visión por computadora. Utilizando las librerías OpenCV, numpy y Matplotlib.\n",
    "</div>\n",
    "\n",
    "***"
   ]
  },
  {
   "cell_type": "code",
   "execution_count": null,
   "id": "405f2682-0e4a-486a-9a3f-01a6aef4c83b",
   "metadata": {},
   "outputs": [],
   "source": [
    "# Preámbulo\n",
    "import cv2\n",
    "import numpy as np\n",
    "import matplotlib.pyplot as plt"
   ]
  },
  {
   "cell_type": "markdown",
   "id": "abb1a925-c0cc-4057-8777-020220c204ea",
   "metadata": {},
   "source": [
    "***\n",
    "\n",
    "### Lectura de imágenes\n",
    "\n",
    "Se procede a leer las imágenes en escala de grises y a visualizarlas. Además, se calcula el rango de intensidades para cada imagen."
   ]
  },
  {
   "cell_type": "code",
   "execution_count": null,
   "id": "603d3f02-1824-4b10-8935-60d066174723",
   "metadata": {},
   "outputs": [],
   "source": [
    "# Lectura de las imágenes en escala de grises\n",
    "im_gray_1 = cv2.imread('.\\images\\cameraman.tif')\n",
    "im_gray_2 = cv2.imread('.\\images\\circuit.tif')"
   ]
  },
  {
   "cell_type": "code",
   "execution_count": null,
   "id": "4ca44d93-9b52-43e7-905d-081b35b9c283",
   "metadata": {},
   "outputs": [],
   "source": [
    "def visulization(im_1, im_2):\n",
    "    # Visualización de las imágenes\n",
    "    fig, axes = plt.subplots(1, 2, figsize=(7, 3))\n",
    "    plt.subplot(1, 2, 1)\n",
    "    plt.imshow(im_1, cmap='gray')\n",
    "    plt.title('Imagen 1')\n",
    "    plt.axis('off')\n",
    "\n",
    "    plt.subplot(1, 2, 2)\n",
    "    plt.imshow(im_2, cmap='gray')\n",
    "    plt.title('Imagen 2')\n",
    "    plt.axis('off')\n",
    "\n",
    "    plt.show()"
   ]
  },
  {
   "cell_type": "code",
   "execution_count": null,
   "id": "b206ec53-edca-4f11-b011-fcce845adb59",
   "metadata": {},
   "outputs": [],
   "source": [
    "visulization(im_gray_1, im_gray_2)"
   ]
  },
  {
   "cell_type": "markdown",
   "id": "1decc38f-5b08-43f2-aa05-527f070abcc9",
   "metadata": {},
   "source": [
    "Rango de intensidades"
   ]
  },
  {
   "cell_type": "code",
   "execution_count": null,
   "id": "fdf3a2f2-1931-4bae-89a5-a71c30dc0d19",
   "metadata": {},
   "outputs": [],
   "source": [
    "# Cálculo del rango de intensidades\n",
    "def intensity_range(im_gray):\n",
    "    l_max = im_gray.max()\n",
    "    l_min = im_gray.min()\n",
    "\n",
    "    print(f\"Imagen: min = {l_min}, max = {l_max}\")"
   ]
  },
  {
   "cell_type": "code",
   "execution_count": null,
   "id": "b30283b7-2189-48b1-97a0-c915638b3679",
   "metadata": {},
   "outputs": [],
   "source": [
    "# intensidades máximas y mínimas\n",
    "intensity_range(im_gray_1)\n",
    "intensity_range(im_gray_2)"
   ]
  },
  {
   "cell_type": "markdown",
   "id": "f35283da-41da-4866-8d9e-a4062dae8357",
   "metadata": {},
   "source": [
    "***\n",
    "\n",
    "### 1. Normalización min-max\n",
    "\n",
    "Escala los valores de los píxeles a un rango específico, generalmente [0, 1] o [-1, 1]."
   ]
  },
  {
   "cell_type": "markdown",
   "id": "29a95f48-020a-4936-bf54-2998db02346c",
   "metadata": {},
   "source": [
    "$ X_{\\text{norm}} = \\dfrac{X - X_{\\text{min}}}{X_{\\text{max}} - X_{\\text{min}}} $"
   ]
  },
  {
   "cell_type": "code",
   "execution_count": null,
   "id": "3cfe28fa-7706-4cbe-be78-7dbf39481861",
   "metadata": {},
   "outputs": [],
   "source": [
    "def min_max_normalization(image, new_min=0, new_max=1):\n",
    "    # Convertir a float para evitar desbordamientos\n",
    "    image_float = image.astype(np.float32)\n",
    "    norm_image = (image_float - image_float.min()) / (image_float.max() - image_float.min())\n",
    "    norm_image = norm_image * (new_max - new_min) + new_min\n",
    "    return norm_image"
   ]
  },
  {
   "cell_type": "code",
   "execution_count": null,
   "id": "57c1dc86-620e-4eb6-a154-e6159fd8f086",
   "metadata": {},
   "outputs": [],
   "source": [
    "min_max_norm_1 = min_max_normalization(im_gray_1)\n",
    "min_max_norm_2 = min_max_normalization(im_gray_2)"
   ]
  },
  {
   "cell_type": "code",
   "execution_count": null,
   "id": "73f85788-e562-4ecb-a7d7-9ccc5ef64266",
   "metadata": {},
   "outputs": [],
   "source": [
    "# Mostrar la imagen original y normalizada\n",
    "visulization(im_gray_1, min_max_norm_1)\n",
    "visulization(im_gray_2, min_max_norm_2)"
   ]
  },
  {
   "cell_type": "markdown",
   "id": "60d9ccbe-a599-47b2-b69f-9d859e8f8c7f",
   "metadata": {},
   "source": [
    "***\n",
    "\n",
    "### 2. Estandarización (Normalización z-score)\n",
    "\n",
    "Ajusta los valores de los píxeles para que tengan una media de 0 y una desviación estándar de 1."
   ]
  },
  {
   "cell_type": "markdown",
   "id": "c2d28455-8cc5-47c8-818c-11c67f1a4fad",
   "metadata": {},
   "source": [
    "$X_{\\text{est}} = \\dfrac{X - \\mu}{\\sigma}$"
   ]
  },
  {
   "cell_type": "markdown",
   "id": "0d25e4a1-e3f8-4ce5-98a8-bc3020580880",
   "metadata": {},
   "source": [
    "donde:\n",
    "- $\\mu$ es la media de los valores de los píxeles.\n",
    "- $\\sigma$ es la desviación estándar de los valores de los píxeles."
   ]
  },
  {
   "cell_type": "code",
   "execution_count": null,
   "id": "c7a1d165-5104-4581-9468-57920702bbdc",
   "metadata": {},
   "outputs": [],
   "source": [
    "def z_score_normalization(image):\n",
    "    image_float = image.astype(np.float32)\n",
    "    mean = np.mean(image_float)\n",
    "    std = np.std(image_float)\n",
    "    norm_image = (image_float - mean) / std\n",
    "    # Para visualizar, escalar de nuevo al rango [0,1]\n",
    "    norm_image = (norm_image - norm_image.min()) / (norm_image.max() - norm_image.min())\n",
    "    return norm_image"
   ]
  },
  {
   "cell_type": "code",
   "execution_count": null,
   "id": "0ebb2205-ac9f-4c09-ba5b-fbac50d1dadf",
   "metadata": {},
   "outputs": [],
   "source": [
    "z_score_norm_1 = z_score_normalization(im_gray_1)\n",
    "z_score_norm_2 = z_score_normalization(im_gray_2)"
   ]
  },
  {
   "cell_type": "code",
   "execution_count": null,
   "id": "80ebb6b3-6dc6-43b9-8655-39a8d24b3061",
   "metadata": {},
   "outputs": [],
   "source": [
    "# Mostrar la imagen original y normalizada\n",
    "visulization(im_gray_1, z_score_norm_1)\n",
    "visulization(im_gray_2, z_score_norm_2)"
   ]
  },
  {
   "cell_type": "markdown",
   "id": "bb5b7e7f-a60d-40d2-b4d4-1ad4848af961",
   "metadata": {},
   "source": [
    "***\n",
    "\n",
    "### 3. Normalización por media (Mean normalization)\n",
    "\n",
    "Resta la media de los píxeles a cada valor de píxel."
   ]
  },
  {
   "cell_type": "markdown",
   "id": "ce01c7a2-3b85-4882-ac64-9ca49d695dd7",
   "metadata": {},
   "source": [
    "$X_{\\text{norm}} = X - \\mu$"
   ]
  },
  {
   "cell_type": "markdown",
   "id": "44076195-5fae-422f-94fe-68120c984461",
   "metadata": {},
   "source": [
    "donde:\n",
    "- $\\mu$ es la media de los valores de los píxeles."
   ]
  },
  {
   "cell_type": "code",
   "execution_count": null,
   "id": "05c61a0c-1a38-4034-90e1-317b342a6e1f",
   "metadata": {},
   "outputs": [],
   "source": [
    "def mean_normalization(image):\n",
    "    image_float = image.astype(np.float32)\n",
    "    mean = np.mean(image_float)\n",
    "    norm_image = image_float - mean\n",
    "    # Para visualizar, escalar de nuevo al rango [0,1]\n",
    "    norm_image = (norm_image - norm_image.min()) / (norm_image.max() - norm_image.min())\n",
    "    return norm_image"
   ]
  },
  {
   "cell_type": "code",
   "execution_count": null,
   "id": "04194b45-6e05-4424-8dce-169af446befe",
   "metadata": {},
   "outputs": [],
   "source": [
    "mean_norm_1 = mean_normalization(im_gray_1)\n",
    "mean_norm_2 = mean_normalization(im_gray_2)"
   ]
  },
  {
   "cell_type": "code",
   "execution_count": null,
   "id": "4e5fbc09-46c8-425c-9b65-043ff476bdd8",
   "metadata": {},
   "outputs": [],
   "source": [
    "# Mostrar la imagen original y normalizada\n",
    "visulization(im_gray_1, mean_norm_1)\n",
    "visulization(im_gray_2, mean_norm_2)"
   ]
  },
  {
   "cell_type": "markdown",
   "id": "39e8cd34-e66a-495c-8aba-1a7f75146683",
   "metadata": {},
   "source": [
    "***\n",
    "\n",
    "### 4. Normalización de unidad (Unit vector normalization)\n",
    "\n",
    "Escala los valores de los píxeles para que el vector de la imagen tenga una norma (longitud) de 1."
   ]
  },
  {
   "cell_type": "markdown",
   "id": "16fbc11d-d98a-4062-aa65-cecca3c48e50",
   "metadata": {},
   "source": [
    "$X_{\\text{unit}} = \\dfrac{X}{\\|X\\|}$"
   ]
  },
  {
   "cell_type": "markdown",
   "id": "7aa0b4e2-ec4c-423c-a3dd-903dab609c5d",
   "metadata": {},
   "source": [
    "donde:\n",
    "- $\\|X\\|$ es la norma del vector de la imagen.\n",
    "- $\\|X\\| = \\sqrt{\\sum_{i,j} abs(a_{i,j})^2}$"
   ]
  },
  {
   "cell_type": "code",
   "execution_count": null,
   "id": "fcfe3d56-a43d-49ba-bf3e-fa43c90d4616",
   "metadata": {},
   "outputs": [],
   "source": [
    "def unit_vector_normalization(image):\n",
    "    image_float = image.astype(np.float32)\n",
    "    norm = np.linalg.norm(image_float)\n",
    "    if norm == 0:\n",
    "        return image_float\n",
    "    norm_image = image_float / norm\n",
    "    # Para visualizar, escalar al rango [0,1]\n",
    "    norm_image = (norm_image - norm_image.min()) / (norm_image.max() - norm_image.min())\n",
    "    return norm_image"
   ]
  },
  {
   "cell_type": "code",
   "execution_count": null,
   "id": "798d6752-aa80-487f-ad90-75f9f8805592",
   "metadata": {},
   "outputs": [],
   "source": [
    "unit_norm_1 = unit_vector_normalization(im_gray_1)\n",
    "unit_norm_2 = unit_vector_normalization(im_gray_2)"
   ]
  },
  {
   "cell_type": "code",
   "execution_count": null,
   "id": "b3b9038d-9638-4870-a2b6-5828d895d8f3",
   "metadata": {},
   "outputs": [],
   "source": [
    "# Mostrar la imagen original y normalizada\n",
    "visulization(im_gray_1, unit_norm_1)\n",
    "visulization(im_gray_2, unit_norm_2)"
   ]
  },
  {
   "cell_type": "markdown",
   "id": "39c5922f-8f95-4381-ace7-e785065d6990",
   "metadata": {},
   "source": [
    "***\n",
    "\n",
    "### 5. División por 255\n",
    "\n",
    "Escala los valores de los píxeles de una imagen de 8 bits (0-255) al rango [0, 1]."
   ]
  },
  {
   "cell_type": "markdown",
   "id": "24a42797-fc05-4ae1-8c05-90ba0d0a91d2",
   "metadata": {},
   "source": [
    "$X_{\\text{scaled}} = \\dfrac{X}{255}$"
   ]
  },
  {
   "cell_type": "code",
   "execution_count": null,
   "id": "fff77bb1-2a16-47d6-96f4-edc8dc026f01",
   "metadata": {},
   "outputs": [],
   "source": [
    "def division_by_255(image):\n",
    "    image_float = image.astype(np.float32)\n",
    "    norm_image = image_float / 255.0\n",
    "    return norm_image"
   ]
  },
  {
   "cell_type": "code",
   "execution_count": null,
   "id": "ad5afeb2-26e3-4b0f-b53c-e55de4b6c03f",
   "metadata": {},
   "outputs": [],
   "source": [
    "div_255_1 = division_by_255(im_gray_1)\n",
    "div_255_2 = division_by_255(im_gray_2)"
   ]
  },
  {
   "cell_type": "code",
   "execution_count": null,
   "id": "5a05919a-b1d4-40d8-849e-7f54350f7c8c",
   "metadata": {},
   "outputs": [],
   "source": [
    "# Mostrar la imagen original y normalizada\n",
    "visulization(im_gray_1, div_255_1)\n",
    "visulization(im_gray_2, div_255_2)"
   ]
  },
  {
   "cell_type": "markdown",
   "id": "2693d9ec-1fe9-4288-898d-63d9e69d7c83",
   "metadata": {},
   "source": [
    "***\n",
    "\n",
    "### 6. Blanqueo (whitening)\n",
    "\n",
    "Transforma los datos para que tengan una matriz de covarianza identidad, eliminando la correlación entre píxeles."
   ]
  },
  {
   "cell_type": "markdown",
   "id": "ee0c7428-c11a-4407-bbbb-f85280d20775",
   "metadata": {},
   "source": [
    "$\\text{Whitened} = X \\cdot \\left( V \\cdot \\Lambda^{-\\dfrac{1}{2}} \\cdot V^T \\right)$"
   ]
  },
  {
   "cell_type": "markdown",
   "id": "0939a9db-5130-46ce-9b9f-13f326759fd2",
   "metadata": {},
   "source": [
    "Donde:\n",
    "\n",
    "- $X$ es la matriz de datos de entrada.\n",
    "- $V$ son los vectores propios de la matriz de covarianza (eigenvector).\n",
    "- $\\Lambda$ es la matriz diagonal de valores propios."
   ]
  },
  {
   "cell_type": "code",
   "execution_count": null,
   "id": "af7871ba-17cb-4517-b378-2024571a428c",
   "metadata": {},
   "outputs": [],
   "source": [
    "def zca_whitening(image, epsilon=1e-5):\n",
    "    # Convertir la imagen a formato (H*W, C)\n",
    "    h, w, c = image.shape\n",
    "    flat_image = image.reshape(-1, c).astype(np.float32)\n",
    "    \n",
    "    # Calcular la matriz de covarianza\n",
    "    covariance = np.cov(flat_image, rowvar=False)\n",
    "    \n",
    "    # Descomposición en valores y vectores propios\n",
    "    eig_vals, eig_vecs = np.linalg.eigh(covariance)\n",
    "    \n",
    "    # Filtrar valores pequeños\n",
    "    eig_vals = np.maximum(eig_vals, epsilon)\n",
    "    \n",
    "    # Matriz de whitening\n",
    "    whitening_matrix = eig_vecs @ np.diag(1.0 / np.sqrt(eig_vals)) @ eig_vecs.T\n",
    "    \n",
    "    # Aplicar whitening\n",
    "    whitened = flat_image @ whitening_matrix\n",
    "    \n",
    "    # Revertir a la forma original\n",
    "    whitened_image = whitened.reshape(h, w, c)\n",
    "    \n",
    "    # Normalizar para visualizar\n",
    "    whitened_image = (whitened_image - whitened_image.min()) / (whitened_image.max() - whitened_image.min())\n",
    "    \n",
    "    return whitened_image"
   ]
  },
  {
   "cell_type": "code",
   "execution_count": null,
   "id": "2d5c53e8-6a12-4188-ae95-ffe162cbd4ca",
   "metadata": {},
   "outputs": [],
   "source": [
    "zca_white_1 = zca_whitening(im_gray_1)\n",
    "zca_white_2 = zca_whitening(im_gray_2)"
   ]
  },
  {
   "cell_type": "code",
   "execution_count": null,
   "id": "53eb79e7-7e01-4302-a427-1d6f890e1d53",
   "metadata": {},
   "outputs": [],
   "source": [
    "# Mostrar la imagen original y normalizada\n",
    "visulization(im_gray_1, zca_white_1)\n",
    "visulization(im_gray_2, zca_white_2)"
   ]
  },
  {
   "cell_type": "markdown",
   "id": "bbc631cb-e108-4ef8-a15c-3e2075f9d6e5",
   "metadata": {},
   "source": [
    "***\n",
    "\n",
    "### 7. Normalización de contraste local (local contrast normalization)\n",
    "\n",
    "Normaliza cada píxel basándose en el contraste local alrededor de él."
   ]
  },
  {
   "cell_type": "markdown",
   "id": "c4b6e53b-1b8e-4766-b5ca-278400ebe303",
   "metadata": {},
   "source": [
    "$X_{\\text{norm}}(i,j) = \\dfrac{X(i,j) - \\mu_{\\text{local}}}{\\sigma_{\\text{local}} + \\epsilon}$"
   ]
  },
  {
   "cell_type": "markdown",
   "id": "e20c94d9-fcec-4a52-8c8d-0c312b858f82",
   "metadata": {},
   "source": [
    "Donde:\n",
    "\n",
    "- $\\mu_{\\text{local}}$ es la media local alrededor del píxel $(i,j)$.\n",
    "- $\\sigma_{\\text{local}}$ es la desviación estándar local alrededor del píxel $(i,j)$.\n",
    "- $\\epsilon$ es un pequeño valor para evitar divisiones por cero."
   ]
  },
  {
   "cell_type": "code",
   "execution_count": null,
   "id": "c340335a-7a57-4b9d-99e6-6b7867d14515",
   "metadata": {},
   "outputs": [],
   "source": [
    "def local_contrast_normalization(image, kernel_size=15, epsilon=1e-8):\n",
    "    image_float = image.astype(np.float32)\n",
    "    # Convertir a escala de grises para calcular local mean y std\n",
    "    gray = cv2.cvtColor(image_float, cv2.COLOR_RGB2GRAY)\n",
    "    \n",
    "    # Calcular media local\n",
    "    local_mean = cv2.blur(gray, (kernel_size, kernel_size))\n",
    "    \n",
    "    # Calcular media de cuadrados\n",
    "    local_mean_sq = cv2.blur(gray**2, (kernel_size, kernel_size))\n",
    "    \n",
    "    # Calcular varianza local\n",
    "    local_var = local_mean_sq - local_mean**2\n",
    "    local_std = np.sqrt(local_var + epsilon)\n",
    "    \n",
    "    # Expandir dimensiones para aplicar a los tres canales\n",
    "    local_mean = cv2.blur(image_float, (kernel_size, kernel_size))\n",
    "    local_std = cv2.blur(image_float**2, (kernel_size, kernel_size))\n",
    "    local_std = np.sqrt(local_std - (local_mean**2) + epsilon)\n",
    "    \n",
    "    # Normalizar\n",
    "    norm_image = (image_float - local_mean) / local_std\n",
    "    \n",
    "    # Normalizar para visualizar\n",
    "    norm_image = (norm_image - norm_image.min()) / (norm_image.max() - norm_image.min())\n",
    "    \n",
    "    return norm_image"
   ]
  },
  {
   "cell_type": "code",
   "execution_count": null,
   "id": "8cc09ef0-9282-41cf-87ae-fecfc367ccaf",
   "metadata": {},
   "outputs": [],
   "source": [
    "local_contrast_norm_1 = local_contrast_normalization(im_gray_1)\n",
    "local_contrast_norm_2 = local_contrast_normalization(im_gray_2)"
   ]
  },
  {
   "cell_type": "code",
   "execution_count": null,
   "id": "86fee3ef-0a70-48bd-aef5-072dfdeccd2f",
   "metadata": {},
   "outputs": [],
   "source": [
    "# Mostrar la imagen original y normalizada\n",
    "visulization(im_gray_1, local_contrast_norm_1)\n",
    "visulization(im_gray_2, local_contrast_norm_2)"
   ]
  },
  {
   "cell_type": "markdown",
   "id": "112321a2-92cf-42fd-9ae4-668a04e2640a",
   "metadata": {},
   "source": [
    "***\n",
    "\n",
    "### 8. Normalización robusta (Robust scaling)\n",
    "\n",
    "Escala los datos utilizando estadísticos robustos como la mediana y el rango intercuartílico (IQR)."
   ]
  },
  {
   "cell_type": "markdown",
   "id": "f519c508-fb5b-4ef8-b6d3-0ad1eff220ab",
   "metadata": {},
   "source": [
    "$X_{\\text{robust}} = \\dfrac{X - \\text{Mediana}}{\\text{IQR}}$"
   ]
  },
  {
   "cell_type": "markdown",
   "id": "46744773-a0b3-435a-97e5-7208a72406ff",
   "metadata": {},
   "source": [
    "donde:\n",
    "- Mediana es el valor central de los píxeles.\n",
    "- IQR es el rango intercuartílico $(Q3 - Q1)$."
   ]
  },
  {
   "cell_type": "code",
   "execution_count": null,
   "id": "be1e7266-59b8-488d-a2b6-1b7af0c5a244",
   "metadata": {},
   "outputs": [],
   "source": [
    "def robust_scaling(image):\n",
    "    image_float = image.astype(np.float32)\n",
    "    # Calcular mediana y percentiles\n",
    "    median = np.median(image_float, axis=(0,1), keepdims=True)\n",
    "    q75, q25 = np.percentile(image_float, [75 ,25], axis=(0,1), keepdims=True)\n",
    "    iqr = q75 - q25\n",
    "    # Evitar división por cero\n",
    "    iqr[iqr == 0] = 1\n",
    "    norm_image = (image_float - median) / iqr\n",
    "    # Normalizar para visualizar\n",
    "    norm_image = (norm_image - norm_image.min()) / (norm_image.max() - norm_image.min())\n",
    "    return norm_image"
   ]
  },
  {
   "cell_type": "code",
   "execution_count": null,
   "id": "443bc1a5-427e-465b-bec8-749050b76f3b",
   "metadata": {},
   "outputs": [],
   "source": [
    "robust_norm_1 = robust_scaling(im_gray_1)\n",
    "robust_norm_2 = robust_scaling(im_gray_2)"
   ]
  },
  {
   "cell_type": "code",
   "execution_count": null,
   "id": "fd92166f-ba69-43a6-95b7-ba324d9fafe9",
   "metadata": {},
   "outputs": [],
   "source": [
    "# Mostrar la imagen original y normalizada\n",
    "visulization(im_gray_1, robust_norm_1)\n",
    "visulization(im_gray_2, robust_norm_2)"
   ]
  },
  {
   "cell_type": "markdown",
   "id": "2ea12358-ca63-45d8-90ae-604c9e4b38ba",
   "metadata": {},
   "source": [
    "***\n",
    "\n",
    "### 9. Transformación logarítmica\n",
    "\n",
    "Aplica una función logarítmica a los valores de los píxeles para reducir la variabilidad y comprimir el rango dinámico."
   ]
  },
  {
   "cell_type": "markdown",
   "id": "8ff283be-7dc0-485e-b60d-d6b4b7ef4946",
   "metadata": {},
   "source": [
    "$X_{\\text{log}} = \\log(1 + X)$"
   ]
  },
  {
   "cell_type": "code",
   "execution_count": null,
   "id": "7a51c7f2-5886-4bc7-b75e-c97408fdb306",
   "metadata": {},
   "outputs": [],
   "source": [
    "def log_transformation(image):\n",
    "    image_float = image.astype(np.float32)\n",
    "    # Añadir 1 para evitar log(0)\n",
    "    log_image = np.log1p(image_float)\n",
    "    # Normalizar para visualizar\n",
    "    log_image = (log_image - log_image.min()) / (log_image.max() - log_image.min())\n",
    "    return log_image"
   ]
  },
  {
   "cell_type": "code",
   "execution_count": null,
   "id": "c44a061a-f30f-43c3-a7a0-5511ba598944",
   "metadata": {},
   "outputs": [],
   "source": [
    "log_norm_1 = log_transformation(im_gray_1)\n",
    "log_norm_2 = log_transformation(im_gray_2)"
   ]
  },
  {
   "cell_type": "code",
   "execution_count": null,
   "id": "d0583453-b807-4c4b-9e41-435adb4db898",
   "metadata": {},
   "outputs": [],
   "source": [
    "# Mostrar la imagen original y normalizada\n",
    "visulization(im_gray_1, robust_norm_1)\n",
    "visulization(im_gray_2, robust_norm_2)"
   ]
  },
  {
   "cell_type": "markdown",
   "id": "9c235d4b-6368-4355-83f4-4c236ac82e64",
   "metadata": {},
   "source": [
    "***\n",
    "\n",
    "### 10. Transformación de potencia (power transformation)\n",
    "\n",
    "Aplica funciones como la raíz cuadrada o cúbica para estabilizar la varianza y hacer que los datos se asemejen más a una distribución normal."
   ]
  },
  {
   "cell_type": "markdown",
   "id": "8e666996-6110-44f5-bcdb-3bc7f7578cdc",
   "metadata": {},
   "source": [
    "$X_{\\text{trans}} = X^{\\gamma}$"
   ]
  },
  {
   "cell_type": "markdown",
   "id": "1d413fd7-c091-4a70-b7dd-151f97214ed6",
   "metadata": {},
   "source": [
    "donde:\n",
    "\n",
    "- Raíz Cuadrada: $\\gamma = 0.5$\n",
    "- Raíz Cúbica: $\\gamma = 1/3$"
   ]
  },
  {
   "cell_type": "code",
   "execution_count": null,
   "id": "38b79ceb-b4cf-45ab-8e1b-ca944dea4142",
   "metadata": {},
   "outputs": [],
   "source": [
    "def power_transformation(image, power=0.5):\n",
    "    image_float = image.astype(np.float32)\n",
    "    # Aplicar la transformación de potencia\n",
    "    transformed = np.power(image_float, power)\n",
    "    # Normalizar para visualizar\n",
    "    transformed = (transformed - transformed.min()) / (transformed.max() - transformed.min())\n",
    "    return transformed"
   ]
  },
  {
   "cell_type": "code",
   "execution_count": null,
   "id": "00ea2c7b-3e65-4303-b86d-9464cd895875",
   "metadata": {},
   "outputs": [],
   "source": [
    "# Raíz Cuadrada\n",
    "sqrt_norm_1_05 = power_transformation(im_gray_1, power=0.5)\n",
    "\n",
    "# Raíz Cúbica\n",
    "cbrt_norm_1_3 = power_transformation(im_gray_1, power=1/3)"
   ]
  },
  {
   "cell_type": "code",
   "execution_count": null,
   "id": "f38bcb6c-91a6-45d0-9e21-a3d7cbc2b712",
   "metadata": {},
   "outputs": [],
   "source": [
    "# Mostrar la imagen original y normalizada\n",
    "visulization(im_gray_1, sqrt_norm_1_05)\n",
    "visulization(im_gray_1, cbrt_norm_1_3)"
   ]
  },
  {
   "cell_type": "markdown",
   "id": "24baacb3-fcd3-4dbc-b81c-1457a79a45fc",
   "metadata": {},
   "source": [
    "***\n",
    "\n",
    "Cada método tiene sus propias ventajas y se utiliza según las necesidades específicas del proyecto de visión por computadora. La normalización adecuada de los píxeles es fundamental para mejorar el rendimiento y la estabilidad de los modelos de aprendizaje automático."
   ]
  }
 ],
 "metadata": {
  "kernelspec": {
   "display_name": "cv2-kernel",
   "language": "python",
   "name": "cv2-kernel"
  },
  "language_info": {
   "codemirror_mode": {
    "name": "ipython",
    "version": 3
   },
   "file_extension": ".py",
   "mimetype": "text/x-python",
   "name": "python",
   "nbconvert_exporter": "python",
   "pygments_lexer": "ipython3",
   "version": "3.8.18"
  }
 },
 "nbformat": 4,
 "nbformat_minor": 5
}
