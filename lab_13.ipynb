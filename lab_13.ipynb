{
 "cells": [
  {
   "cell_type": "markdown",
   "id": "8a3bb361-b64e-4503-9536-43532ec3f4b0",
   "metadata": {},
   "source": [
    "# Práctica 13. Filtrado de imágenes (Convolución)\n",
    "\n",
    "<div class=\"alert alert-block alert-success\">\n",
    "<b>Resumen:</b> El código demuestra cómo aplicar filtros de convolución a una imagen en escala de grises utilizando Python y OpenCV, y cómo diferentes métodos de tratamiento de bordes afectan el resultado del filtrado.\n",
    "</div>\n",
    "\n",
    "***"
   ]
  },
  {
   "cell_type": "markdown",
   "id": "d90b2a87-7b40-4cbb-b521-dfebc378b935",
   "metadata": {},
   "source": [
    "### 1. Preámbulo"
   ]
  },
  {
   "cell_type": "code",
   "execution_count": null,
   "id": "8b025c97-81d7-4f14-be92-65c8f3c2faf5",
   "metadata": {},
   "outputs": [],
   "source": [
    "# Importar las bibliotecas\n",
    "import cv2\n",
    "import numpy as np\n",
    "import matplotlib.pyplot as plt"
   ]
  },
  {
   "cell_type": "markdown",
   "id": "010fd1cb-e8b9-4c66-acb5-1e6695de4725",
   "metadata": {},
   "source": [
    "### 2. Lectura de la imagen"
   ]
  },
  {
   "cell_type": "code",
   "execution_count": null,
   "id": "9d30491b-a599-4d74-8b5b-c5a1af27035b",
   "metadata": {},
   "outputs": [],
   "source": [
    "# Lectura y visualización de la imagen\n",
    "im_gray_1 = cv2.imread('.\\images\\chessboard_calibration_setup.tif', cv2.IMREAD_GRAYSCALE)\n",
    "\n",
    "# Mostrar la imagen original\n",
    "plt.figure()\n",
    "plt.imshow(im_gray_1, cmap='gray')\n",
    "plt.title('Imagen Original')\n",
    "plt.axis('off')\n",
    "plt.show()"
   ]
  },
  {
   "cell_type": "markdown",
   "id": "e48a8874-1ed1-4871-a585-210a1cc29eef",
   "metadata": {},
   "source": [
    "### 3. Función `imfilter`( ... )"
   ]
  },
  {
   "cell_type": "markdown",
   "id": "1f5abbf7-8a87-462d-b480-6a2e2b611089",
   "metadata": {},
   "source": [
    "Máscara del filtro"
   ]
  },
  {
   "cell_type": "code",
   "execution_count": null,
   "id": "c445d2e0-8bfc-4655-801c-26646bbd857c",
   "metadata": {},
   "outputs": [],
   "source": [
    "# Definir el tamaño de la máscara (filtro)\n",
    "w_size = 21\n",
    "w = np.ones((w_size, w_size), dtype=np.float32) / (w_size * w_size)"
   ]
  },
  {
   "cell_type": "markdown",
   "id": "ac843c28-6ef1-441d-a209-7a110d91becb",
   "metadata": {},
   "source": [
    "<b>Actividad.</b> Consulte la ayuda de la función `filter2D` y conteste las siguientes preguntas.\n",
    "- ¿Qué argumento controla la profundidad del resultado filtrado en la función `filter2D` y cuál es su propósito?\n",
    "- ¿Cómo se define el tipo de bordes que se utilizará al aplicar la convolución en la función `filter2D`? ¿Qué opciones existen para este parámetro?\n",
    "- ¿Qué sucede si el tamaño del núcleo (filtro) proporcionado a `filter2D` es par en alguna de sus dimensiones?"
   ]
  },
  {
   "cell_type": "code",
   "execution_count": null,
   "id": "d03815f8-d821-42c4-a342-8e4d241b2c75",
   "metadata": {},
   "outputs": [],
   "source": [
    "help(cv2.filter2D)"
   ]
  },
  {
   "cell_type": "code",
   "execution_count": null,
   "id": "802ceb43-9e24-4e7f-bbea-2f0b441eb96e",
   "metadata": {},
   "outputs": [],
   "source": [
    "# Filtrar la imagen con la máscara (filtro de convolución)\n",
    "g_1 = cv2.filter2D(im_gray_1, -1, w, borderType=cv2.BORDER_REPLICATE)\n",
    "g_2 = cv2.filter2D(im_gray_1, -1, np.rot90(w, 2), borderType=cv2.BORDER_REPLICATE)"
   ]
  },
  {
   "cell_type": "code",
   "execution_count": null,
   "id": "5ed153f0-8e21-48cd-822a-ecc9b51c79ca",
   "metadata": {},
   "outputs": [],
   "source": [
    "# Visualización de los resultados\n",
    "plt.figure()\n",
    "plt.subplot(1, 3, 1)\n",
    "plt.imshow(im_gray_1, cmap='gray')\n",
    "plt.title('Imagen Original')\n",
    "plt.axis('off')\n",
    "\n",
    "plt.subplot(1, 3, 2)\n",
    "plt.imshow(g_1, cmap='gray')\n",
    "plt.title('g_1 (Convolución)')\n",
    "plt.axis('off')\n",
    "\n",
    "plt.subplot(1, 3, 3)\n",
    "plt.imshow(g_2, cmap='gray')\n",
    "plt.title('g_2 (Convolución rotada)')\n",
    "plt.axis('off')\n",
    "plt.show()"
   ]
  },
  {
   "cell_type": "markdown",
   "id": "a7b59f35-0216-4739-ace6-40f22e07acd9",
   "metadata": {},
   "source": [
    "### 4. Más opciones de filtrado de imágenes"
   ]
  },
  {
   "cell_type": "code",
   "execution_count": null,
   "id": "52d21d29-f7f5-4500-b925-f7e1311d1f5a",
   "metadata": {},
   "outputs": [],
   "source": [
    "g_3 = cv2.filter2D(im_gray_1, -1, w, borderType=cv2.BORDER_REPLICATE)\n",
    "g_4 = cv2.filter2D(im_gray_1, -1, w, borderType=cv2.BORDER_REFLECT)"
   ]
  },
  {
   "cell_type": "code",
   "execution_count": null,
   "id": "b683b2d6-f952-4d8f-b3c3-f21eece63206",
   "metadata": {},
   "outputs": [],
   "source": [
    "# Visualización de los resultados\n",
    "plt.figure()\n",
    "plt.subplot(1, 3, 1)\n",
    "plt.imshow(im_gray_1, cmap='gray')\n",
    "plt.title('Imagen Original')\n",
    "plt.axis('off')\n",
    "\n",
    "plt.subplot(1, 3, 2)\n",
    "plt.imshow(g_3, cmap='gray')\n",
    "plt.title('g_3 (Replicate)')\n",
    "plt.axis('off')\n",
    "\n",
    "plt.subplot(1, 3, 3)\n",
    "plt.imshow(g_4, cmap='gray')\n",
    "plt.title('g_4 (Symmetric)')\n",
    "plt.axis('off')"
   ]
  },
  {
   "cell_type": "markdown",
   "id": "4336d54c-1af8-4152-90f9-6212606477c1",
   "metadata": {},
   "source": [
    "***\n",
    "\n",
    "<b>Actividad</b> Aplique un filtro promedio a la imagen `test_pattern_blurring_orig.tif`"
   ]
  },
  {
   "cell_type": "code",
   "execution_count": null,
   "id": "6f8447c0-c6a7-46ce-a9fb-c361d2de0ec0",
   "metadata": {},
   "outputs": [],
   "source": [
    "# aquí su código"
   ]
  }
 ],
 "metadata": {
  "kernelspec": {
   "display_name": "cv2-kernel",
   "language": "python",
   "name": "cv2-kernel"
  },
  "language_info": {
   "codemirror_mode": {
    "name": "ipython",
    "version": 3
   },
   "file_extension": ".py",
   "mimetype": "text/x-python",
   "name": "python",
   "nbconvert_exporter": "python",
   "pygments_lexer": "ipython3",
   "version": "3.8.18"
  }
 },
 "nbformat": 4,
 "nbformat_minor": 5
}
