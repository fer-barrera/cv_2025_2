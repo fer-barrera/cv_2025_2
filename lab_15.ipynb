{
 "cells": [
  {
   "cell_type": "markdown",
   "id": "ae7a6e19-6b5f-455d-b792-a87d3eba4b6a",
   "metadata": {},
   "source": [
    "# Filtros lineales espaciales - caso pasaalto\n",
    "\n",
    "<div class=\"alert alert-block alert-success\">\n",
    "<b>Resumen:</b> En este notebook exploraremos los filtros pasa altos en el dominio espacial, específicamente utilizando el filtro Laplaciano. Aplicaremos estos filtros para resaltar bordes en una imagen y realizaremos una actividad de sharpening para mejorar la nitidez de la imagen original.\n",
    "</div>\n",
    "\n",
    "***"
   ]
  },
  {
   "cell_type": "code",
   "execution_count": null,
   "id": "8c0f6a1c-9103-41bd-90bd-624b35c3ba76",
   "metadata": {},
   "outputs": [],
   "source": [
    "# Importar las bibliotecas necesarias\n",
    "import cv2\n",
    "import numpy as np\n",
    "import matplotlib.pyplot as plt"
   ]
  },
  {
   "cell_type": "markdown",
   "id": "21311bc7-03df-4962-988d-9d26e7988a43",
   "metadata": {},
   "source": [
    "## 1. Lectura de la imagen"
   ]
  },
  {
   "cell_type": "code",
   "execution_count": null,
   "id": "8f40f5db-d5f2-4b89-8b67-30174bbffc98",
   "metadata": {},
   "outputs": [],
   "source": [
    "# Leer la imagen en escala de grises\n",
    "# Asegúrate de que 'test_pattern_blurring_orig.tif' esté en el mismo directorio que el notebook\n",
    "im_gray_1 = cv2.imread('./images/test_pattern_blurring_orig.tif', cv2.IMREAD_GRAYSCALE)\n",
    "\n",
    "# Verificar si la imagen se ha leído correctamente\n",
    "if im_gray_1 is None:\n",
    "    raise FileNotFoundError(\"La imagen 'test_pattern_blurring_orig.tif' no se encontró en el directorio actual.\")\n",
    "\n",
    "# Mostrar la imagen original\n",
    "plt.figure(figsize=(5, 5))\n",
    "plt.imshow(im_gray_1, cmap='gray')\n",
    "plt.title('Imagen Original')\n",
    "plt.axis('off')\n",
    "plt.show()"
   ]
  },
  {
   "cell_type": "markdown",
   "id": "03b39771-07db-4616-82c7-0f4477ee2ea1",
   "metadata": {},
   "source": [
    "### 2. Filtro pasaaltas con un Laplacian kernel utilizando OpenCV\n",
    "\n",
    "El filtro Laplaciano es un operador que calcula la aproximación a la segunda derivada de la imagen, resaltando áreas donde la intensidad cambia rápidamente, es decir, los bordes."
   ]
  },
  {
   "cell_type": "markdown",
   "id": "beff62e6-89ba-4912-929b-a6b41229bdd0",
   "metadata": {},
   "source": [
    "### 2.1. Valores de escalado"
   ]
  },
  {
   "cell_type": "code",
   "execution_count": null,
   "id": "0a1b8a14-2c09-489d-9eed-d5c69194fc33",
   "metadata": {},
   "outputs": [],
   "source": [
    "# Definir diferentes valores de escala\n",
    "# En OpenCV, el parámetro 'scale' puede utilizarse para ajustar la intensidad del filtro\n",
    "scales = [0.2, 0.2, 0.2]\n",
    "mask_size = [3, 5, 7]"
   ]
  },
  {
   "cell_type": "markdown",
   "id": "a8ebe7eb-f42b-4581-b3ba-c410ee196fe8",
   "metadata": {},
   "source": [
    "### 2.2. Filtrado"
   ]
  },
  {
   "cell_type": "code",
   "execution_count": null,
   "id": "f252e479-4d42-4e2b-9d8b-73c96670614d",
   "metadata": {},
   "outputs": [],
   "source": [
    "# Aplicar el filtro Laplaciano con diferentes escalas\n",
    "laplacian_results = []\n",
    "for i,scale in enumerate(scales):\n",
    "    # cv2.CV_32F permite obtener resultados en punto flotante para evitar saturación\n",
    "    laplacian = cv2.Laplacian(im_gray_1, cv2.CV_32F, ksize=mask_size[i], scale=scale, borderType=cv2.BORDER_REPLICATE)\n",
    "    laplacian_results.append(laplacian)"
   ]
  },
  {
   "cell_type": "markdown",
   "id": "5f306c59-f62f-4529-85cc-8aba1fde9bd2",
   "metadata": {},
   "source": [
    "### 2.3. Visualización de resultados"
   ]
  },
  {
   "cell_type": "code",
   "execution_count": null,
   "id": "592dec15-1798-4131-ac77-dbe2e898ce69",
   "metadata": {},
   "outputs": [],
   "source": [
    "# Mostrar los resultados de los filtros Laplacianos\n",
    "fig, axes = plt.subplots(1, 3, figsize=(18, 6))\n",
    "\n",
    "for i, laplacian in enumerate(laplacian_results):\n",
    "    # Convertir a formato adecuado para visualización\n",
    "    laplacian_display = cv2.convertScaleAbs(laplacian)\n",
    "    axes[i].imshow(laplacian_display, cmap='gray')\n",
    "    axes[i].set_title(f'Filtro Laplaciano (scale={scale} y size={mask_size[i]})')\n",
    "    axes[i].axis('off')\n",
    "\n",
    "plt.show()"
   ]
  },
  {
   "cell_type": "markdown",
   "id": "2a5981f9-96f7-434e-a971-2051c75d4198",
   "metadata": {},
   "source": [
    "---\n",
    "\n",
    "## 3. Resaltado de bordes\n",
    "\n",
    "El objetivo del filtro de `sharpening` es ajustar la fusión entre la imagen original y el resultado del filtro Laplaciano para resaltar los bordes y mejorar la nitidez de la imagen."
   ]
  },
  {
   "cell_type": "markdown",
   "id": "4c4f83fc-813f-43cf-a5d1-eb00257980d8",
   "metadata": {},
   "source": [
    "### 3.1. Aplicar sharpening restando el Filtro Laplaciano\n",
    "\n",
    "Para realizar el sharpening, combinamos la imagen original con el filtro Laplaciano. Existen varias formas de hacerlo, pero una común es restar el Laplaciano de la imagen original."
   ]
  },
  {
   "cell_type": "code",
   "execution_count": null,
   "id": "7f38f908-a04c-4ca4-9bb2-c5996102ed8a",
   "metadata": {},
   "outputs": [],
   "source": [
    "# Convertir la imagen original a float para operaciones precisas\n",
    "im_gray_1_float = im_gray_1.astype(np.float32)\n",
    "alpha = 0.95\n",
    "\n",
    "# Aplicar sharpening restando el filtro Laplaciano\n",
    "sharpened_images = []\n",
    "for laplacian in laplacian_results:\n",
    "    sharpened = alpha*im_gray_1_float - (1-alpha)*laplacian\n",
    "\n",
    "    # Normalizar la imagen para visualizar correctamente\n",
    "    sharpened_norm = cv2.convertScaleAbs(sharpened)\n",
    "    sharpened_images.append(sharpened_norm.astype(np.uint8))"
   ]
  },
  {
   "cell_type": "markdown",
   "id": "dbaef5f3-886b-4e9b-81ab-c1b42995230e",
   "metadata": {},
   "source": [
    "### 3.2. Resultados"
   ]
  },
  {
   "cell_type": "code",
   "execution_count": null,
   "id": "4d89c347-422a-4be1-9901-336039660e2f",
   "metadata": {},
   "outputs": [],
   "source": [
    "# Mostrar los resultados de sharpening\n",
    "fig, axes = plt.subplots(1, 4, figsize=(18, 6))\n",
    "\n",
    "for i, scale in enumerate(scales):\n",
    "    axes[i].imshow(sharpened_images[i], cmap='gray')\n",
    "    axes[i].set_title(f'Sharpening (scale={scale})')\n",
    "    axes[i].axis('off')\n",
    "\n",
    "axes[3].imshow(im_gray_1, cmap='gray')\n",
    "axes[3].set_title(f'Original')\n",
    "axes[3].axis('off')\n",
    "\n",
    "plt.show()"
   ]
  },
  {
   "cell_type": "code",
   "execution_count": null,
   "id": "4ff55199-cda8-4150-bb23-b751b54212b3",
   "metadata": {},
   "outputs": [],
   "source": []
  }
 ],
 "metadata": {
  "kernelspec": {
   "display_name": "cv2-kernel",
   "language": "python",
   "name": "cv2-kernel"
  },
  "language_info": {
   "codemirror_mode": {
    "name": "ipython",
    "version": 3
   },
   "file_extension": ".py",
   "mimetype": "text/x-python",
   "name": "python",
   "nbconvert_exporter": "python",
   "pygments_lexer": "ipython3",
   "version": "3.8.18"
  }
 },
 "nbformat": 4,
 "nbformat_minor": 5
}
