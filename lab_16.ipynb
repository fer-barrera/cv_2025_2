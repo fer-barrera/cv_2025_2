{
 "cells": [
  {
   "cell_type": "markdown",
   "id": "da2effb4-343d-442a-bcb3-c7a5b2b586ad",
   "metadata": {},
   "source": [
    "# Filtros lineales espaciales - otros casos\n",
    "\n",
    "<div class=\"alert alert-block alert-success\">\n",
    "<b>Resumen:</b> En esta actividad se aplican diversos filtros lineales espaciales a una imagen en escala de grises. Se crean y visualizan máscaras de filtros como el Laplaciano, promedio, Gaussiano, Laplaciano del Gaussiano (LoG), desenfoque de movimiento, Prewitt, Sobel y Unsharp Mask. Estos filtros se aplican a la imagen original para resaltar diferentes características como bordes, texturas y detalles. Se identifican las imágenes que requieren normalización debido a valores de píxeles fuera del rango estándar, y se aplica la normalización min-max para escalar los valores entre 0 y 255, permitiendo una visualización adecuada. Finalmente, se analizan los resultados para comprender el impacto de cada filtro y la importancia de la normalización en el procesamiento y visualización de imágenes digitales.\n",
    "</div>\n",
    "\n",
    "***"
   ]
  },
  {
   "cell_type": "markdown",
   "id": "f1db8d49-e41e-4b95-b5b9-6f2acebc1f7b",
   "metadata": {},
   "source": [
    "### 1. Preámbulo"
   ]
  },
  {
   "cell_type": "code",
   "execution_count": null,
   "id": "7eb3dbdf-2a3f-4741-b202-b9df08568b96",
   "metadata": {},
   "outputs": [],
   "source": [
    "# Importar las bibliotecas necesarias\n",
    "import cv2\n",
    "import numpy as np\n",
    "import matplotlib.pyplot as plt"
   ]
  },
  {
   "cell_type": "markdown",
   "id": "aa0f8493-5be5-4575-9a1b-92ebb1f70f99",
   "metadata": {},
   "source": [
    "### 2. Lectura de la imagen"
   ]
  },
  {
   "cell_type": "code",
   "execution_count": null,
   "id": "b91c6ef5-596e-428f-b2db-aa65ef35f5fd",
   "metadata": {},
   "outputs": [],
   "source": [
    "# Lectura y visualización de la imagen\n",
    "im_gray_1 = cv2.imread('./images/moon.tif', cv2.IMREAD_GRAYSCALE)\n",
    "\n",
    "# Mostrar la imagen original\n",
    "plt.figure(figsize=(6,6))\n",
    "plt.imshow(im_gray_1, cmap='gray')\n",
    "plt.title('Imagen Original')\n",
    "plt.axis('off')\n",
    "plt.show()"
   ]
  },
  {
   "cell_type": "markdown",
   "id": "62487cef-3ca4-40d4-95c3-f8409172a058",
   "metadata": {},
   "source": [
    "### 3. Filtros"
   ]
  },
  {
   "cell_type": "markdown",
   "id": "a17a94d6-595b-4354-92b8-a8e36ed0e4af",
   "metadata": {},
   "source": [
    "Creación de máscaras"
   ]
  },
  {
   "cell_type": "code",
   "execution_count": null,
   "id": "3aac3b37-ed2a-45ca-8a92-46a5a15af60f",
   "metadata": {},
   "outputs": [],
   "source": [
    "sz = (21, 21)"
   ]
  },
  {
   "cell_type": "markdown",
   "id": "cf900d40-875d-47d0-951e-8d251dc7d991",
   "metadata": {},
   "source": [
    "#### 3.1 Filtro Laplaciano"
   ]
  },
  {
   "cell_type": "code",
   "execution_count": null,
   "id": "aa87b830-975c-4e57-9c2e-2820ab18a9af",
   "metadata": {},
   "outputs": [],
   "source": [
    "w_1 = np.array([[0, 1, 0],\n",
    "                [1, -4, 1],\n",
    "                [0, 1, 0]], dtype=np.float32)"
   ]
  },
  {
   "cell_type": "markdown",
   "id": "06b580c5-99fd-4a1d-b24c-3b6e4b35c570",
   "metadata": {},
   "source": [
    "#### 3.2 Filtro Promedio (average)"
   ]
  },
  {
   "cell_type": "code",
   "execution_count": null,
   "id": "f719225d-9c80-4a1d-9494-53afcd478ab2",
   "metadata": {},
   "outputs": [],
   "source": [
    "w_2 = np.ones(sz, dtype=np.float32) / (sz[0] * sz[1])"
   ]
  },
  {
   "cell_type": "markdown",
   "id": "98672063-2d26-4a57-89ef-4decafec28cc",
   "metadata": {},
   "source": [
    "#### 3.3 Filtro Gaussiano"
   ]
  },
  {
   "cell_type": "code",
   "execution_count": null,
   "id": "104d2193-b13a-468d-8f1f-f7a8e4e3ed55",
   "metadata": {},
   "outputs": [],
   "source": [
    "sigma_gauss = 2.5\n",
    "w_3 = cv2.getGaussianKernel(ksize=sz[0], sigma=sigma_gauss)\n",
    "w_3 = w_3 * w_3.T  # Convertir a 2D"
   ]
  },
  {
   "cell_type": "markdown",
   "id": "5f120202-e2ca-47b9-8b2b-83d5ff6c3b1e",
   "metadata": {},
   "source": [
    "#### 3.4 Filtro Laplaciano del Gaussiano (LoG)"
   ]
  },
  {
   "cell_type": "code",
   "execution_count": null,
   "id": "2514d2a0-2008-4045-bdfe-ce94b49bc4ed",
   "metadata": {},
   "outputs": [],
   "source": [
    "sigma_log = 5\n",
    "x, y = np.meshgrid(np.arange(-sz[0]//2+1, sz[1]//2+1), np.arange(-sz[0]//2+1, sz[1]//2+1))\n",
    "w_4 = -(1/(np.pi * sigma_log**4)) * (1 - ((x**2 + y**2) / (2 * sigma_log**2))) * np.exp(-(x**2 + y**2) / (2 * sigma_log**2))\n",
    "w_4 = w_4 / np.sum(np.abs(w_4))"
   ]
  },
  {
   "cell_type": "markdown",
   "id": "081d2c20-8445-4d7a-804f-e4e31f95578f",
   "metadata": {},
   "source": [
    "#### 3.5 Filtro de movimiento (Motion Blur)"
   ]
  },
  {
   "cell_type": "code",
   "execution_count": null,
   "id": "268e229e-45aa-4193-898f-f2053e8c2221",
   "metadata": {},
   "outputs": [],
   "source": [
    "size = 20\n",
    "angle = 45\n",
    "w_5 = np.zeros((size, size), dtype=np.float32)\n",
    "center = size // 2\n",
    "slope = np.tan(np.deg2rad(angle))\n",
    "for i in range(size):\n",
    "    offset = int(round(slope * (i - center) + center))\n",
    "    if 0 <= offset < size:\n",
    "        w_5[offset, i] = 1\n",
    "w_5 /= w_5.sum()"
   ]
  },
  {
   "cell_type": "markdown",
   "id": "026a319d-e328-43a4-98af-62e4791c61e6",
   "metadata": {},
   "source": [
    "#### 3.6 Filtro Prewitt"
   ]
  },
  {
   "cell_type": "code",
   "execution_count": null,
   "id": "f293c0f8-bab7-4313-8f1a-5fe98945fc53",
   "metadata": {},
   "outputs": [],
   "source": [
    "w_6 = np.array([[-1, 0, 1],\n",
    "                [-1, 0, 1],\n",
    "                [-1, 0, 1]], dtype=np.float32)"
   ]
  },
  {
   "cell_type": "markdown",
   "id": "5b613ad9-5876-436d-b293-c68d1de7b501",
   "metadata": {},
   "source": [
    "#### 3.7 Filtro Sobel"
   ]
  },
  {
   "cell_type": "code",
   "execution_count": null,
   "id": "3a25848f-13ee-49cc-aef4-ab96bdb765fd",
   "metadata": {},
   "outputs": [],
   "source": [
    "w_7 = np.array([[-1, 0, 1],\n",
    "                [-2, 0, 2],\n",
    "                [-1, 0, 1]], dtype=np.float32)"
   ]
  },
  {
   "cell_type": "markdown",
   "id": "65d3d7d9-916a-4ccb-a37b-4e4b6c8db60b",
   "metadata": {},
   "source": [
    "#### 3.8 Filtro Unsharp mask"
   ]
  },
  {
   "cell_type": "code",
   "execution_count": null,
   "id": "28050c99-8140-4934-8430-2ad4d91b478e",
   "metadata": {},
   "outputs": [],
   "source": [
    "alpha = 0.2\n",
    "kernel_size = 5\n",
    "gaussian = cv2.getGaussianKernel(kernel_size, 0)\n",
    "gaussian = gaussian * gaussian.T\n",
    "delta = np.zeros_like(gaussian)\n",
    "delta[kernel_size//2, kernel_size//2] = 1\n",
    "w_8 = delta + alpha * (delta - gaussian)"
   ]
  },
  {
   "cell_type": "markdown",
   "id": "e60204a6-647c-4518-8619-1dd777f9047a",
   "metadata": {},
   "source": [
    "#### 3.9 Visualización de la máscaras"
   ]
  },
  {
   "cell_type": "code",
   "execution_count": null,
   "id": "533cc653-2f42-404f-a233-423244240410",
   "metadata": {},
   "outputs": [],
   "source": [
    "# Visualización de todas las máscaras en 2D\n",
    "\n",
    "# Lista de máscaras y títulos\n",
    "mascaras = [\n",
    "    (w_1, 'Máscara Laplaciana (w_1)'),\n",
    "    (w_2, 'Máscara Promedio (w_2)'),\n",
    "    (w_3, 'Máscara Gaussiana (w_3)'),\n",
    "    (w_4, 'Máscara LoG (w_4)'),\n",
    "    (w_5, 'Máscara Motion Blur (w_5)'),\n",
    "    (w_6, 'Máscara Prewitt (w_6)'),\n",
    "    (w_7, 'Máscara Sobel (w_7)'),\n",
    "    (w_8, 'Máscara Unsharp Mask (w_8)')\n",
    "]\n",
    "\n",
    "# Visualizar cada máscara\n",
    "for mask, title in mascaras:\n",
    "    plt.figure(figsize=(3,3))\n",
    "    plt.imshow(mask, cmap='gray')\n",
    "    plt.title(title)\n",
    "    plt.axis('off')\n",
    "    plt.colorbar()\n",
    "    plt.show()"
   ]
  },
  {
   "cell_type": "markdown",
   "id": "82b6d79a-e78d-4eea-9239-90a95cd36506",
   "metadata": {},
   "source": [
    "#### 4. Filtrado"
   ]
  },
  {
   "cell_type": "code",
   "execution_count": null,
   "id": "051eee62-7c46-47c1-9fa0-f8d0d4bdfdfb",
   "metadata": {},
   "outputs": [],
   "source": [
    "def min_max_normalization(image, new_min=0, new_max=1):\n",
    "    # Convertir a float para evitar desbordamientos\n",
    "    image_float = image.astype(np.float32)\n",
    "    norm_image = (image_float - image_float.min()) / (image_float.max() - image_float.min())\n",
    "    norm_image = norm_image * (new_max - new_min) + new_min\n",
    "    return norm_image"
   ]
  },
  {
   "cell_type": "code",
   "execution_count": null,
   "id": "a171fb5a-4b27-4e45-b412-8f37251ec475",
   "metadata": {},
   "outputs": [],
   "source": [
    "# Convertir la imagen a tipo float32 para evitar problemas en operaciones\n",
    "im_float = im_gray_1.astype(np.float32)\n",
    "\n",
    "# Aplicar los filtros con replicación en los bordes\n",
    "g_1 = cv2.filter2D(im_float, -1, w_1, borderType=cv2.BORDER_REPLICATE)    # Laplacian\n",
    "g_2 = cv2.filter2D(im_float, -1, w_2, borderType=cv2.BORDER_REPLICATE)    # Average\n",
    "g_3 = cv2.filter2D(im_float, -1, w_3, borderType=cv2.BORDER_REPLICATE)    # Gaussian\n",
    "g_4 = cv2.filter2D(im_float, -1, w_4, borderType=cv2.BORDER_REPLICATE)    # LoG\n",
    "g_5 = cv2.filter2D(im_float, -1, w_5, borderType=cv2.BORDER_REPLICATE)    # Motion Blur\n",
    "g_6 = cv2.filter2D(im_float, -1, w_6, borderType=cv2.BORDER_REPLICATE)    # Prewitt\n",
    "g_7 = cv2.filter2D(im_float, -1, w_7, borderType=cv2.BORDER_REPLICATE)    # Sobel\n",
    "g_8 = cv2.filter2D(im_float, -1, w_8, borderType=cv2.BORDER_REPLICATE)    # Unsharp Mask"
   ]
  },
  {
   "cell_type": "markdown",
   "id": "f9ce6ae0-3610-4908-a5ed-d41302978705",
   "metadata": {},
   "source": [
    "<b>Actividad</b>\n",
    "- Identifique las imágenes que requieren normalización.\n",
    "- Aplique la normalización min-max."
   ]
  },
  {
   "cell_type": "markdown",
   "id": "7b0dc69a-fb70-43a4-bb5e-541df9373a3e",
   "metadata": {},
   "source": [
    "#### 5. Visualización de resultados"
   ]
  },
  {
   "cell_type": "code",
   "execution_count": null,
   "id": "b24e1124-2e20-465c-8821-08b3e2d5221e",
   "metadata": {},
   "outputs": [],
   "source": [
    "# Lista de resultados y títulos\n",
    "resultados = [\n",
    "    (im_gray_1, 'Imagen Original'),\n",
    "    (g_1, 'g_1 (Laplacian)'),\n",
    "    (g_2, 'g_2 (Average)'),\n",
    "    (g_3, 'g_3 (Gaussian)'),\n",
    "    (g_4, 'g_4 (LoG)'),\n",
    "    (g_5, 'g_5 (Motion Blur)'),\n",
    "    (g_6, 'g_6 (Prewitt)'),\n",
    "    (g_7, 'g_7 (Sobel)'),\n",
    "    (g_8, 'g_8 (Unsharp Mask)')\n",
    "]\n",
    "\n",
    "# Visualizar cada resultado\n",
    "for img, title in resultados:\n",
    "    plt.figure(figsize=(6,6))\n",
    "    plt.imshow(img, cmap='gray')\n",
    "    plt.title(title)\n",
    "    plt.axis('off')\n",
    "    plt.show()"
   ]
  },
  {
   "cell_type": "markdown",
   "id": "e73bb1c9-59a2-4278-a084-38c05959ca77",
   "metadata": {},
   "source": [
    "#### 6. Bonus track"
   ]
  },
  {
   "cell_type": "code",
   "execution_count": null,
   "id": "a3a82cf9-e403-405a-b948-ced84e67f9c8",
   "metadata": {},
   "outputs": [],
   "source": [
    "# Restar el filtro Laplaciano de la imagen original\n",
    "g_9 = min_max_normalization(im_float - g_1)\n",
    "\n",
    "plt.figure(figsize=(6,6))\n",
    "plt.imshow(g_9, cmap='gray')\n",
    "plt.title('g_9 (Imagen original - Laplacian)')\n",
    "plt.axis('off')\n",
    "plt.show()"
   ]
  },
  {
   "cell_type": "markdown",
   "id": "b7162476-431d-486f-8fb1-f7b459d2579c",
   "metadata": {},
   "source": [
    "***\n",
    "\n",
    "<b> Actividad </b>\n",
    "Implementar el LoG siguiendo https://docs.opencv.org/3.4/d5/db5/tutorial_laplace_operator.html"
   ]
  },
  {
   "cell_type": "code",
   "execution_count": null,
   "id": "120933cb-431d-4e68-a840-a99fa005a011",
   "metadata": {},
   "outputs": [],
   "source": [
    "# aquí su código"
   ]
  }
 ],
 "metadata": {
  "kernelspec": {
   "display_name": "cv2-kernel",
   "language": "python",
   "name": "cv2-kernel"
  },
  "language_info": {
   "codemirror_mode": {
    "name": "ipython",
    "version": 3
   },
   "file_extension": ".py",
   "mimetype": "text/x-python",
   "name": "python",
   "nbconvert_exporter": "python",
   "pygments_lexer": "ipython3",
   "version": "3.8.18"
  }
 },
 "nbformat": 4,
 "nbformat_minor": 5
}
