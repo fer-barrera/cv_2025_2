{
 "cells": [
  {
   "cell_type": "markdown",
   "id": "714254ac-4b4d-4471-b4f2-a7cfdfa0408c",
   "metadata": {},
   "source": [
    "# Filtrado en el dominio de la frecuencia - Filtrado Pasa-altas\n",
    "\n",
    "<div class=\"alert alert-block alert-success\">\n",
    "<b>Resumen:</b> Este notebook implementa un filtro pasaaltas en el dominio de la frecuencia utilizando la Transformada de Fourier. El filtro permite preservar las altas frecuencias de una imagen, eliminando las bajas frecuencias que suelen corresponder a regiones homogeneas.\n",
    "</div>\n",
    "\n",
    "***"
   ]
  },
  {
   "cell_type": "markdown",
   "id": "1dfd400b-5bb4-4725-9ed8-17afc87149f2",
   "metadata": {},
   "source": [
    "Importación de librerias necesarias"
   ]
  },
  {
   "cell_type": "code",
   "execution_count": null,
   "id": "480bc6f4-75b2-4cb5-ae8f-9f3479500e55",
   "metadata": {},
   "outputs": [],
   "source": [
    "import cv2\n",
    "import numpy as np\n",
    "import matplotlib.pyplot as plt"
   ]
  },
  {
   "cell_type": "markdown",
   "id": "e08b7ad5-c359-45f0-8cdb-55755eb9c345",
   "metadata": {},
   "source": [
    "## 2. Definición de Funciones Auxiliares\n",
    "### 2.1. Creación de una máscara Gaussiana\n",
    "Esta función crea una máscara circular binaria que se utilizará para filtrar las frecuencias en el espectro de Fourier"
   ]
  },
  {
   "cell_type": "code",
   "execution_count": null,
   "id": "1b914073-61d0-4b2d-94ae-4c1fd89861e6",
   "metadata": {},
   "outputs": [],
   "source": [
    "def create_hpf_mask(dft_shift, sigma):\n",
    "    \"\"\"\n",
    "    Genera una máscara de filtro pasa altas gaussiana.\n",
    "\n",
    "    Parámetros:\n",
    "    -----------\n",
    "    dft_shift : ndarray\n",
    "        Transformada de Fourier desplazada (2D).\n",
    "    \n",
    "    sigma : float\n",
    "        Desviación estándar del filtro gaussiano.\n",
    "\n",
    "    Retorna:\n",
    "    --------\n",
    "    H : ndarray\n",
    "        Máscara de filtro pasa altas de las mismas dimensiones que dft_shift.\n",
    "    \"\"\"\n",
    "    # tamaño de la mascara del filtro\n",
    "    rows, cols = dft_shift.shape[:2]\n",
    "\n",
    "    # Crear el filtro gaussiano\n",
    "    x = np.linspace(-cols//2, cols//2, cols)\n",
    "    y = np.linspace(-rows//2, rows//2, rows)\n",
    "    X, Y = np.meshgrid(x, y)\n",
    "    D = np.sqrt(X**2 + Y**2)\n",
    "\n",
    "    # Filtro pasa altas usando el filtro gaussiano\n",
    "    mask =  1.0 - ( np.exp(-(D**2 / (2 * (sigma ** 2)))) )\n",
    "\n",
    "    return mask.astype(np.float32)"
   ]
  },
  {
   "cell_type": "markdown",
   "id": "191718dc-d54e-4c78-a742-38efefcb2b99",
   "metadata": {},
   "source": [
    "### 2.2. Reconstrucción de la imagen filtrada\n",
    "Esta función reconstruye la imagen filtrada a partir del espectro de Fourier filtrado."
   ]
  },
  {
   "cell_type": "code",
   "execution_count": null,
   "id": "49a570db-15c1-44ce-930d-d8d2476fcd04",
   "metadata": {},
   "outputs": [],
   "source": [
    "def reconstruct_image(dft_shift_filtered):\n",
    "    \"\"\"\n",
    "    Reconstruye la imagen filtrada a partir del espectro de Fourier filtrado.\n",
    "\n",
    "    Args:\n",
    "        dft_shift_filtered (np.ndarray): Espectro de Fourier filtrado.\n",
    "\n",
    "    Returns:\n",
    "        np.ndarray: Imagen filtrada en escala de grises.\n",
    "    \"\"\"\n",
    "    # Desplazar el espectro de vuelta\n",
    "    dft_inverse_shift = np.fft.ifftshift(dft_shift_filtered)\n",
    "    \n",
    "    # Aplicar la transformada inversa de Fourier\n",
    "    img_back = cv2.idft(dft_inverse_shift)\n",
    "  \n",
    "    # Calcula la magnitud\n",
    "    img_back = cv2.magnitude(img_back[:,:,0],img_back[:,:,1])\n",
    "     \n",
    "    # Normalizar para visualización\n",
    "    img_back = cv2.normalize(img_back, None, 0, 255, cv2.NORM_MINMAX).astype(np.uint8)\n",
    "    \n",
    "    return img_back"
   ]
  },
  {
   "cell_type": "markdown",
   "id": "fffb2d65-a08d-4d2c-975f-838bc9fa79ba",
   "metadata": {},
   "source": [
    "## 3. Carga y Verificación de la Imagen\n",
    "\n",
    "Cargamos la imagen en escala de grises y verificamos que sea correcta."
   ]
  },
  {
   "cell_type": "code",
   "execution_count": null,
   "id": "6eccc332-ffc0-4e3c-8924-ddf2e3c9b6c2",
   "metadata": {},
   "outputs": [],
   "source": [
    "# Se utiliza cv2.IMREAD_GRAYSCALE para simplificar el análisis de frecuencia\n",
    "im_1 = cv2.imread('./images/lena_gray.tif', cv2.IMREAD_GRAYSCALE)\n",
    "\n",
    "# Verificación de que la imagen se haya cargado correctamente\n",
    "if im_1 is None:\n",
    "    raise FileNotFoundError(\"La imagen no se encontró en la ruta especificada.\")"
   ]
  },
  {
   "cell_type": "markdown",
   "id": "1743e97d-08e4-4522-a1fb-eea46d22132d",
   "metadata": {},
   "source": [
    "## 4. Transformada de Fourier\n",
    "\n",
    "Convertimos la imagen al dominio de la frecuencia utilizando la Transformada Discreta de Fourier (DFT) y centramos el espectro."
   ]
  },
  {
   "cell_type": "code",
   "execution_count": null,
   "id": "624dc30a-116d-45b6-88ac-08aebe2237b3",
   "metadata": {},
   "outputs": [],
   "source": [
    "# Convertir la imagen a float y usando DFT\n",
    "dft = cv2.dft(np.float32(im_1), flags=cv2.DFT_COMPLEX_OUTPUT)\n",
    "\n",
    "# Desplazar el espectro de Fourier para centrar las bajas frecuencias\n",
    "dft_shift = np.fft.fftshift(dft)\n",
    "print(f\"Transformada de Fourier aplicada y desplazada (size={dft_shift.shape}).\")"
   ]
  },
  {
   "cell_type": "markdown",
   "id": "7b867ca6-3259-4448-8400-a5a13d11109a",
   "metadata": {},
   "source": [
    "## 5. Aplicación del Filtro Pasaaltas\n",
    "\n",
    "Creamos y aplicamos la máscara circular para filtrar las altas frecuencias."
   ]
  },
  {
   "cell_type": "code",
   "execution_count": null,
   "id": "19a1f262-96ca-41ec-8375-f4e3d438c0d9",
   "metadata": {},
   "outputs": [],
   "source": [
    "# Crear máscara circular basada en el tamaño de dft_shift\n",
    "sigma = 100\n",
    "mask = create_hpf_mask(dft_shift, sigma)\n",
    "print(\"Máscara creada basada en dft_shift.\")\n",
    "\n",
    "# Aplicar filtro pasabajas\n",
    "# Expandir las dimensiones de la máscara para que coincida con el espectro de Fourier\n",
    "dft_shift_filtered = dft_shift * mask[:,:,np.newaxis]\n",
    "print(\"Filtro pasabajas aplicado al espectro de Fourier.\")"
   ]
  },
  {
   "cell_type": "markdown",
   "id": "d3174aa7-4d37-432e-934a-10e5bef1bb5d",
   "metadata": {},
   "source": [
    "## 6. Reconstrucción de la imagen filtrada\n",
    "\n",
    "Utilizamos la función definida anteriormente para reconstruir la imagen filtrada a partir del espectro de Fourier filtrado."
   ]
  },
  {
   "cell_type": "code",
   "execution_count": null,
   "id": "c5fa2191-ceb7-4038-bea1-a338c97f441d",
   "metadata": {},
   "outputs": [],
   "source": [
    "# Reconstrucción la imagen filtrada\n",
    "im_filtered = reconstruct_image(dft_shift_filtered)"
   ]
  },
  {
   "cell_type": "markdown",
   "id": "1e0c0da7-363a-49b8-b104-a5a1daac927c",
   "metadata": {},
   "source": [
    "## 7. Visualización de la imagen original y filtrada\n",
    "\n",
    "Comparamos la imagen original con la imagen filtrada para observar el efecto del filtro pasabajas."
   ]
  },
  {
   "cell_type": "code",
   "execution_count": null,
   "id": "dfbbc1fc-0825-466c-9ef9-c3f3314bb067",
   "metadata": {},
   "outputs": [],
   "source": [
    "# Visualizar la imagen filtrada\n",
    "plt.figure(figsize=(8,8))\n",
    "plt.subplot(121),plt.imshow(im_1, cmap = 'gray')\n",
    "plt.title('Imagen original'), plt.xticks([]), plt.yticks([])\n",
    "plt.subplot(122),plt.imshow(im_filtered, cmap = 'gray')\n",
    "plt.title('Imagen filtrada pasa-altas'), plt.xticks([]), plt.yticks([])\n",
    "plt.show()"
   ]
  },
  {
   "cell_type": "markdown",
   "id": "72642134-4565-4574-8a58-84e3020d45d8",
   "metadata": {},
   "source": [
    "### 7.1 Visualización de la máscara"
   ]
  },
  {
   "cell_type": "code",
   "execution_count": null,
   "id": "6e311de3-87db-4241-9c88-3c9357192903",
   "metadata": {},
   "outputs": [],
   "source": [
    "plt.figure(figsize=(2,2))\n",
    "plt.imshow(mask, cmap='gray')\n",
    "plt.title('Máscara')\n",
    "plt.axis('off')\n",
    "plt.show()"
   ]
  },
  {
   "cell_type": "markdown",
   "id": "a9df1f7a-77d1-42fd-b2da-14bde74340bb",
   "metadata": {},
   "source": [
    "## 8. Análisis adicional: comparación de detalles\n",
    "\n",
    "Para apreciar mejor el efecto del filtro pasabajas, podemos observar la diferencia entre la imagen original y la filtrada."
   ]
  },
  {
   "cell_type": "code",
   "execution_count": null,
   "id": "7c0b2d63-8715-40d2-a7cd-b587b71c45aa",
   "metadata": {},
   "outputs": [],
   "source": [
    "# Calcular la diferencia entre la imagen original y la filtrada\n",
    "difference = cv2.absdiff(im_1, im_filtered)\n",
    "\n",
    "plt.figure(figsize=(4,4))\n",
    "plt.imshow(difference, cmap='gray')\n",
    "plt.title('Diferencia entre original y filtrada')\n",
    "plt.axis('off')\n",
    "plt.show()"
   ]
  },
  {
   "cell_type": "code",
   "execution_count": null,
   "id": "ba3ea576-76d2-47bd-9b04-58ea8a9ca950",
   "metadata": {},
   "outputs": [],
   "source": []
  }
 ],
 "metadata": {
  "kernelspec": {
   "display_name": "cv2-kernel",
   "language": "python",
   "name": "cv2-kernel"
  },
  "language_info": {
   "codemirror_mode": {
    "name": "ipython",
    "version": 3
   },
   "file_extension": ".py",
   "mimetype": "text/x-python",
   "name": "python",
   "nbconvert_exporter": "python",
   "pygments_lexer": "ipython3",
   "version": "3.8.18"
  }
 },
 "nbformat": 4,
 "nbformat_minor": 5
}
