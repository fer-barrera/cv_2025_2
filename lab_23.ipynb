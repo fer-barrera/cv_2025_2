{
 "cells": [
  {
   "cell_type": "markdown",
   "id": "ebcd1d28-5921-4541-841f-2db810fb2ae6",
   "metadata": {},
   "source": [
    "# Filtros clasicos de visión por computadora parte 2\n",
    "## Bordes\n",
    "\n",
    "<div class=\"alert alert-block alert-success\">\n",
    "<b>Resumen:</b> Este notebook presenta el análisis de algunos filtros clásicos de visión por computadora, como por ejemplo: Canny, Otsu, y la magnitud del gradiente. \n",
    "</div>\n",
    "\n",
    "***"
   ]
  },
  {
   "cell_type": "markdown",
   "id": "0a7e583f-7da7-47ad-b2f4-3ab6b572256c",
   "metadata": {},
   "source": [
    "Importación de librerias"
   ]
  },
  {
   "cell_type": "code",
   "execution_count": null,
   "id": "9b6dd0df-32b5-4def-9cca-a9037d076b4c",
   "metadata": {},
   "outputs": [],
   "source": [
    "import cv2\n",
    "import numpy as np\n",
    "import matplotlib.pyplot as plt"
   ]
  },
  {
   "cell_type": "markdown",
   "id": "8cfc5770-9b84-468b-8332-d6a8a4887d4a",
   "metadata": {},
   "source": [
    "## 1. Lectura imagen de prueba"
   ]
  },
  {
   "cell_type": "code",
   "execution_count": null,
   "id": "d27903d7-bce1-4697-8e6b-b815492bc673",
   "metadata": {},
   "outputs": [],
   "source": [
    "# Cargar en escala de grises\n",
    "image = cv2.imread('./images/lena_gray.tif')\n",
    "\n",
    "# Verificación de que la imagen se haya cargado correctamente\n",
    "if image is None:\n",
    "    raise FileNotFoundError(\"La imagen no se encontró en la ruta especificada.\")\n",
    "\n",
    "# Convertir a RGB para mostrar con Matplotlib\n",
    "image_gray = cv2.cvtColor(image, cv2.COLOR_BGR2GRAY)\n",
    "\n",
    "# Revisar dimensiones\n",
    "print(\"Shape:\", image_gray.shape)"
   ]
  },
  {
   "cell_type": "markdown",
   "id": "d4817170-1bfb-4b0c-9f87-49bcf0892205",
   "metadata": {},
   "source": [
    "## 2. Otros filtros"
   ]
  },
  {
   "cell_type": "code",
   "execution_count": null,
   "id": "a433c29e-1f09-4f90-b6d6-49f26d89fa25",
   "metadata": {},
   "outputs": [],
   "source": [
    "# 1. Filtro Gaussiano para suavizar la imagen (reduce el ruido)\n",
    "image_gaussian = cv2.GaussianBlur(image_gray, (5, 5), 0)\n",
    "\n",
    "# 2. Detección de bordes usando Canny\n",
    "image_canny = cv2.Canny(image, 70, 210)\n",
    "\n",
    "# 3. Binarización por Otsu\n",
    "_, image_otsu = cv2.threshold(image_gaussian, 0, 255, cv2.THRESH_BINARY + cv2.THRESH_OTSU)\n",
    "\n",
    "# 4. Filtro Laplaciano (detección de bordes por diferencias de segundo orden)\n",
    "image_laplacian = cv2.Laplacian(image_gaussian, cv2.CV_64F)\n",
    "image_laplacian = cv2.convertScaleAbs(image_laplacian)  # Escalar al rango 0-255\n",
    "\n",
    "# 5. Filtro de Sobel (detección de bordes en x e y)\n",
    "sobelx = cv2.Sobel(image_gaussian, cv2.CV_64F, 1, 0, ksize=5)\n",
    "sobely = cv2.Sobel(image_gaussian, cv2.CV_64F, 0, 1, ksize=5)\n",
    "sobel_combined = cv2.convertScaleAbs(sobelx + sobely)  # Combinamos x e y"
   ]
  },
  {
   "cell_type": "markdown",
   "id": "6623cbc9-d0a2-4425-aacd-a6b3f264875f",
   "metadata": {},
   "source": [
    "## 3. Resultados"
   ]
  },
  {
   "cell_type": "code",
   "execution_count": null,
   "id": "205813cf-19c2-4d56-9032-bf57bad76fce",
   "metadata": {},
   "outputs": [],
   "source": [
    "# Mostrar las imágenes\n",
    "images = [image_gray, image_gaussian, image_canny, image_otsu, image_laplacian, sobel_combined]\n",
    "titles = ['Original', 'Filtro Gaussiano', 'Canny', 'Otsu', 'Laplaciano', 'Sobel']\n",
    "\n",
    "plt.figure(figsize=(15, 10))\n",
    "for i in range(len(images)):\n",
    "    plt.subplot(2, 4, i+1)\n",
    "    plt.imshow(images[i], cmap='gray')\n",
    "    plt.title(titles[i])\n",
    "    plt.axis('off')\n",
    "\n",
    "plt.tight_layout()\n",
    "plt.show()"
   ]
  },
  {
   "cell_type": "markdown",
   "id": "8f746500-ad05-4e60-b4ba-d2188188ecc1",
   "metadata": {},
   "source": [
    "---\n",
    "<b>¿Qué hace cada filtro?</b>\n",
    "\n",
    "- <b>Gaussiano:</b> Suaviza la imagen eliminando ruido.\n",
    "- <b>Canny:</b> Detecta los bordes más nítidos de la imagen.\n",
    "- <b>Otsu:</b> Binariza la imagen, separando el fondo del primer plano.\n",
    "- <b>Laplaciano:</b> Detecta bordes a través de la segunda derivada.\n",
    "- <b>Sobel:</b> Detecta bordes en direcciones específicas (horizontal y vertical)."
   ]
  },
  {
   "cell_type": "markdown",
   "id": "19ed317a-5b85-474c-980e-c98f66b780ae",
   "metadata": {},
   "source": [
    "---\n",
    "El <b>filtro Canny</b> es un algoritmo de detección de bordes robusto y eficiente, ampliamente utilizado en el procesamiento de imágenes. A alto nivel, este filtro realiza las siguientes operaciones fundamentales:\n",
    "\n",
    "<b>1. Suavizado de la imagen</b> (Filtro Gaussiano)\n",
    "- Objetivo: Reducir el ruido en la imagen para evitar que pequeños detalles generen falsos bordes.\n",
    "- Cómo lo hace: Aplica un filtro Gaussiano, que suaviza la imagen mediante la convolución con una matriz gaussiana. Esto ayuda a suavizar las variaciones rápidas de intensidad.\n",
    "\n",
    "<b>2. Cálculo del gradiente</b>\n",
    "- Objetivo: Identificar las regiones de cambio brusco de intensidad en la imagen, que indican la presencia de bordes.\n",
    "- Cómo lo hace: Usa los operadores de ´Sobel´ para calcular las derivadas en las direcciones horizontal (x) y vertical (y). A partir de estas derivadas, calcula la magnitud del gradiente y su dirección en cada píxel.\n",
    "\n",
    "<b>3. Supresión no máxima</b>\n",
    "- Objetivo: Afinar los bordes, eliminando gradientes innecesarios.\n",
    "- Cómo lo hace: Para cada píxel, verifica si su magnitud es un máximo local en la dirección del gradiente. Si no lo es, el píxel se suprime, lo que afina el borde al mantener solo los puntos más fuertes.\n",
    "\n",
    "<b>4. Umbral con histéresis</b>\n",
    "- Objetivo: Determinar los bordes reales, separando los píxeles de bordes fuertes de los débiles.\n",
    "- Cómo lo hace: Utiliza dos umbrales, uno alto y otro bajo:\n",
    "  - Los píxeles con gradiente mayor que el umbral alto son considerados bordes fuertes.\n",
    "  - Los píxeles con gradiente entre el umbral alto y bajo son considerados bordes débiles y se conservan solo si están conectados a bordes fuertes.\n",
    "   - Los píxeles con gradiente menor que el umbral bajo se eliminan.\n",
    "\n",
    "<b>Resultado:</b>\n",
    "\n",
    "Al final del proceso, el filtro Canny produce una imagen binaria en la que los bordes están claramente marcados y refinados, eliminando el ruido y destacando las estructuras importantes de la imagen."
   ]
  },
  {
   "cell_type": "markdown",
   "id": "5dc2bc6c-ac55-4cef-a7f0-12dd3003cf6c",
   "metadata": {},
   "source": [
    "---\n",
    "El <b>filtro Otsu</b> es un método de binarización automática que se utiliza para separar el primer plano del fondo en una imagen. A un nivel alto de abstracción, realiza las siguientes operaciones:\n",
    "\n",
    "<b>1. Histograma de intensidades</b>\n",
    "- Objetivo: Analizar la distribución de los niveles de intensidad de los píxeles de la imagen (en escala de grises).\n",
    "- Cómo lo hace: Calcula el histograma, que muestra la frecuencia de cada valor de intensidad en la imagen (generalmente de 0 a 255).\n",
    "\n",
    "<b>2. Selección del umbral óptimo</b>\n",
    "- Objetivo: Encontrar el mejor umbral de intensidad que divida la imagen en dos grupos: fondo (píxeles oscuros) y primer plano (píxeles brillantes).\n",
    "- Cómo lo hace: Evalúa todos los posibles umbrales y selecciona el que minimiza la varianza intra-clase y maximiza la varianza inter-clase:\n",
    "  - Varianza intra-clase: Cuánto varían las intensidades dentro de cada grupo.\n",
    "  - Varianza inter-clase: Diferencia entre las medias de los dos grupos.\n",
    "- El umbral óptimo es aquel que logra la máxima separación entre los dos grupos.\n",
    "\n",
    "<b>3. Aplicación del umbral</b>\n",
    "- Objetivo: Convertir la imagen de escala de grises a una imagen binaria (blanco y negro).\n",
    "- Cómo lo hace: Todos los píxeles con un valor de intensidad por debajo del umbral óptimo se asignan a negro (fondo), y los píxeles por encima del umbral se asignan a blanco (primer plano).\n",
    "\n",
    "<b>Resultado:</b>\n",
    "\n",
    "El <b>filtro Otsu</b> genera una imagen binarizada donde el umbral ha sido seleccionado de manera automática y óptima, separando eficazmente el fondo y el objeto de interés sin necesidad de intervención manual."
   ]
  }
 ],
 "metadata": {
  "kernelspec": {
   "display_name": "cv2-kernel",
   "language": "python",
   "name": "cv2-kernel"
  },
  "language_info": {
   "codemirror_mode": {
    "name": "ipython",
    "version": 3
   },
   "file_extension": ".py",
   "mimetype": "text/x-python",
   "name": "python",
   "nbconvert_exporter": "python",
   "pygments_lexer": "ipython3",
   "version": "3.8.18"
  }
 },
 "nbformat": 4,
 "nbformat_minor": 5
}
