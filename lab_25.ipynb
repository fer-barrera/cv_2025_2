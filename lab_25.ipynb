{
 "cells": [
  {
   "cell_type": "markdown",
   "id": "5c36afad-ee0f-493b-9614-659d25abd7c7",
   "metadata": {},
   "source": [
    "# Procesamiento de imágenes a través de morfología matemática\n",
    "\n",
    "<div class=\"alert alert-block alert-success\">\n",
    "<b>Resumen:</b> Este notebook presenta algunas de las operaciones con morfología matemática. \n",
    "</div>\n",
    "\n",
    "***"
   ]
  },
  {
   "cell_type": "markdown",
   "id": "97a20732-4aa1-45d7-ae08-8cbf81ba0473",
   "metadata": {},
   "source": [
    "## Preámbulo"
   ]
  },
  {
   "cell_type": "code",
   "execution_count": null,
   "id": "c16cf0b3-4b1d-4918-8a8c-752f70283f2a",
   "metadata": {},
   "outputs": [],
   "source": [
    "import cv2\n",
    "import numpy as np\n",
    "import matplotlib.pyplot as plt"
   ]
  },
  {
   "cell_type": "markdown",
   "id": "95a1e1ce-8743-4dd4-b30b-4b24da091dd8",
   "metadata": {},
   "source": [
    "## 1. Hit-or-miss transform"
   ]
  },
  {
   "cell_type": "code",
   "execution_count": null,
   "id": "6c2b4be0-86a9-4021-8488-cd703477ae1e",
   "metadata": {},
   "outputs": [],
   "source": [
    "# Definición de imagen binaria\n",
    "BW1 = cv2.imread('./images/squares.tif', cv2.IMREAD_GRAYSCALE)\n",
    "_, BW1 = cv2.threshold(BW1, 128, 255, cv2.THRESH_BINARY)"
   ]
  },
  {
   "cell_type": "code",
   "execution_count": null,
   "id": "c1b7d8b1-ff8b-47e4-a36d-4825e7f59528",
   "metadata": {},
   "outputs": [],
   "source": [
    "# Mostrar imagen original\n",
    "plt.imshow(BW1, cmap='gray')\n",
    "plt.title('Original Image')\n",
    "plt.axis('off')\n",
    "plt.show()"
   ]
  },
  {
   "cell_type": "code",
   "execution_count": null,
   "id": "29d07746-86d6-4e7e-abd3-31453199a22f",
   "metadata": {},
   "outputs": [],
   "source": [
    "# Definir los elementos estructurantes para hit-or-miss\n",
    "B1 = np.array([[0, 0, 0], [0, 1, 1], [0, 1, 0]], dtype=np.uint8)  # hit\n",
    "B2 = np.array([[1, 1, 1], [1, 0, 0], [1, 0, 0]], dtype=np.uint8)  # miss"
   ]
  },
  {
   "cell_type": "code",
   "execution_count": null,
   "id": "95718317-fe54-4042-ae46-a8b36ec2e503",
   "metadata": {},
   "outputs": [],
   "source": [
    "# Visualización de los resultados\n",
    "plt.figure(figsize=(6, 3))\n",
    "\n",
    "plt.subplot(1, 2, 1)\n",
    "plt.imshow(B1, cmap='gray')\n",
    "plt.title('B1 (Hit)')\n",
    "\n",
    "plt.subplot(1, 2, 2)\n",
    "plt.imshow(B2, cmap='gray')\n",
    "plt.title('B2 (Miss)')\n",
    "\n",
    "plt.tight_layout()\n",
    "plt.show()"
   ]
  },
  {
   "cell_type": "markdown",
   "id": "8edc08f6-0049-4c00-a0f5-236260570ede",
   "metadata": {},
   "source": [
    "Operacion de Hit-or-miss transform"
   ]
  },
  {
   "cell_type": "code",
   "execution_count": null,
   "id": "335996af-76c0-4cba-ae6e-b27272b09130",
   "metadata": {},
   "outputs": [],
   "source": [
    "# Realizar la erosión de la imagen original con el elemento estructurante B1 (hit)\n",
    "hit = cv2.erode(BW1, B1)\n",
    "\n",
    "# Crear el complemento de la imagen binaria\n",
    "BW1_complement = cv2.bitwise_not(BW1)\n",
    "\n",
    "# Realizar la erosión en el complemento de la imagen con el elemento estructurante B2 (miss)\n",
    "miss = cv2.erode(BW1_complement, B2)\n",
    "\n",
    "# Realizar la operación de hit-or-miss\n",
    "hit_miss = cv2.bitwise_and(hit, miss)"
   ]
  },
  {
   "cell_type": "code",
   "execution_count": null,
   "id": "b734acaf-5091-44a1-baf3-186d954aa105",
   "metadata": {},
   "outputs": [],
   "source": [
    "# Visualización de los resultados\n",
    "plt.figure(figsize=(10, 5))\n",
    "\n",
    "plt.subplot(1, 2, 1)\n",
    "plt.imshow(BW1, cmap='gray')\n",
    "plt.title('Im original')\n",
    "\n",
    "plt.subplot(1, 2, 2)\n",
    "plt.imshow(hit_miss, cmap='gray')\n",
    "plt.title('Resultado')\n",
    "\n",
    "plt.tight_layout()\n",
    "plt.show()"
   ]
  },
  {
   "cell_type": "markdown",
   "id": "4a35c4e5-e9cf-4ba7-b8ca-33f3127da39e",
   "metadata": {},
   "source": [
    "## 2. Función morphologyEx"
   ]
  },
  {
   "cell_type": "code",
   "execution_count": null,
   "id": "9748d52d-c64e-4ac4-82b5-b627652c2ae2",
   "metadata": {},
   "outputs": [],
   "source": [
    "# Imagen binaria\n",
    "BW2 = cv2.imread('./images/noisy_fingerprint.tif', cv2.IMREAD_GRAYSCALE)\n",
    "_, BW2 = cv2.threshold(BW2, 128, 255, cv2.THRESH_BINARY)"
   ]
  },
  {
   "cell_type": "code",
   "execution_count": null,
   "id": "6bc0c8e5-bb9c-43b0-ad39-e490befb9b71",
   "metadata": {},
   "outputs": [],
   "source": [
    "# Crear un elemento estructurante cuadrado\n",
    "se_1 = cv2.getStructuringElement(cv2.MORPH_RECT, (3, 3))"
   ]
  },
  {
   "cell_type": "code",
   "execution_count": null,
   "id": "6d979134-a21d-446d-8e40-99bc7b89a986",
   "metadata": {},
   "outputs": [],
   "source": [
    "# Aplicar operaciones de apertura y cierre\n",
    "BW2_opening_1 = cv2.morphologyEx(BW2, cv2.MORPH_OPEN, se_1)\n",
    "BW2_closing_1 = cv2.morphologyEx(BW2_opening_1, cv2.MORPH_CLOSE, se_1)"
   ]
  },
  {
   "cell_type": "code",
   "execution_count": null,
   "id": "faa385e6-be27-4a5c-b128-40732855586f",
   "metadata": {},
   "outputs": [],
   "source": [
    "# Visualización de los resultados\n",
    "plt.figure(figsize=(10, 5))\n",
    "\n",
    "plt.subplot(1, 3, 1)\n",
    "plt.imshow(BW2, cmap='gray')\n",
    "plt.title('Im. original')\n",
    "\n",
    "plt.subplot(1, 3, 2)\n",
    "plt.imshow(BW2_opening_1, cmap='gray')\n",
    "plt.title('Opening')\n",
    "\n",
    "plt.subplot(1, 3, 3)\n",
    "plt.imshow(BW2_closing_1, cmap='gray')\n",
    "plt.title('Closing')\n",
    "\n",
    "plt.tight_layout()\n",
    "plt.show()"
   ]
  },
  {
   "cell_type": "markdown",
   "id": "161fe48c-10bc-4421-8184-e3a90f1424c5",
   "metadata": {},
   "source": [
    "## 3. Operación de thinning"
   ]
  },
  {
   "cell_type": "code",
   "execution_count": null,
   "id": "72f5088a-57c7-4f40-8314-ef31659585a6",
   "metadata": {},
   "outputs": [],
   "source": [
    "# Operador de thinning (solo esqueleto en OpenCV)\n",
    "BW2_thin_1 = cv2.ximgproc.thinning(BW2_closing_1, thinningType=cv2.ximgproc.THINNING_ZHANGSUEN)\n",
    "BW2_thin_2 = cv2.ximgproc.thinning(BW2_closing_1, thinningType=cv2.ximgproc.THINNING_GUOHALL)"
   ]
  },
  {
   "cell_type": "code",
   "execution_count": null,
   "id": "a76f3004-ce75-4582-bbfc-d194f166ed76",
   "metadata": {},
   "outputs": [],
   "source": [
    "# Visualización de los resultados\n",
    "plt.figure(figsize=(6, 5))\n",
    "\n",
    "plt.subplot(1, 2, 1)\n",
    "plt.imshow(BW2_thin_1, cmap='gray')\n",
    "plt.title('Thinning (Zhang-Suen)')\n",
    "\n",
    "plt.subplot(1, 2, 2)\n",
    "plt.imshow(BW2_thin_2, cmap='gray')\n",
    "plt.title('Thinning (Guo-Hall)')\n",
    "\n",
    "plt.tight_layout()\n",
    "plt.show()"
   ]
  },
  {
   "cell_type": "markdown",
   "id": "c565425d-245b-414e-b60d-f7fcaf4ed4a4",
   "metadata": {},
   "source": [
    "## 4. Skeletonization"
   ]
  },
  {
   "cell_type": "code",
   "execution_count": null,
   "id": "f7a54169-583e-41ca-8e8f-0af362787697",
   "metadata": {},
   "outputs": [],
   "source": [
    "# Cargar nueva imagen\n",
    "BW3 = cv2.imread('./images/region.tif', cv2.IMREAD_GRAYSCALE)\n",
    "_, BW3 = cv2.threshold(BW3, 128, 255, cv2.THRESH_BINARY)"
   ]
  },
  {
   "cell_type": "code",
   "execution_count": null,
   "id": "3122ffda-6495-49fc-8258-62958e9261dd",
   "metadata": {},
   "outputs": [],
   "source": [
    "# Operador de skeletonization\n",
    "BW3_skeleton = cv2.ximgproc.thinning(BW3)"
   ]
  },
  {
   "cell_type": "code",
   "execution_count": null,
   "id": "5ebde02f-4f91-4071-9248-f99575162a3f",
   "metadata": {},
   "outputs": [],
   "source": [
    "# Visualización de los resultados\n",
    "plt.figure(figsize=(6, 5))\n",
    "\n",
    "plt.subplot(1, 2, 1)\n",
    "plt.imshow(BW3, cmap='gray')\n",
    "plt.title('Original Image')\n",
    "\n",
    "plt.subplot(1, 2, 2)\n",
    "plt.imshow(BW3_skeleton, cmap='gray')\n",
    "plt.title('Skeleton')\n",
    "\n",
    "plt.tight_layout()\n",
    "plt.show()"
   ]
  }
 ],
 "metadata": {
  "kernelspec": {
   "display_name": "cv2-kernel",
   "language": "python",
   "name": "cv2-kernel"
  },
  "language_info": {
   "codemirror_mode": {
    "name": "ipython",
    "version": 3
   },
   "file_extension": ".py",
   "mimetype": "text/x-python",
   "name": "python",
   "nbconvert_exporter": "python",
   "pygments_lexer": "ipython3",
   "version": "3.8.18"
  }
 },
 "nbformat": 4,
 "nbformat_minor": 5
}
