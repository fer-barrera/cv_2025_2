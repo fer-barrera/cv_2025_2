{
 "cells": [
  {
   "cell_type": "markdown",
   "id": "c6766583-dfb1-41b9-8fd4-97c381377fd8",
   "metadata": {},
   "source": [
    "# Propiedades de una región\n",
    "\n",
    "<div class=\"alert alert-block alert-success\">\n",
    "<b>Resumen:</b> Este notebook presenta como obtener las propiedades de una región. \n",
    "</div>\n",
    "\n",
    "***"
   ]
  },
  {
   "cell_type": "markdown",
   "id": "c5cb0e99-89cc-4c57-8703-50f2d1c14320",
   "metadata": {},
   "source": [
    "## Preámbulo\n",
    "\n",
    "Para instalar la libreria scikit-image\n",
    "- En el menu principal `Anaconda3 > Anaconda Powershell Prompt`.\n",
    "- Active el entorno de trabajo para visión por computadora( `conda activate cv2` ).\n",
    "- Instale la libreria skimage ( `pip install scikit-image` ).\n",
    "\n",
    "Para instalar la libreria pandas\n",
    "- En el menu principal `Anaconda3 > Anaconda Powershell Prompt`.\n",
    "- Active el entorno de trabajo para visión por computadora( `conda activate cv2` ).\n",
    "- Instale la libreria skimage ( `pip install pandas` )."
   ]
  },
  {
   "cell_type": "code",
   "execution_count": null,
   "id": "13af6001-0699-456d-b5ee-0b5c54dc6a11",
   "metadata": {},
   "outputs": [],
   "source": [
    "# Importar las librerías necesarias\n",
    "import cv2\n",
    "import numpy as np\n",
    "import matplotlib.pyplot as plt\n",
    "import skimage as ski\n",
    "import pandas as pd"
   ]
  },
  {
   "cell_type": "markdown",
   "id": "f63165ce-5b98-4ffb-adda-f7894722b0d3",
   "metadata": {},
   "source": [
    "## 1. Lectura y visualización de la imagen de prueba"
   ]
  },
  {
   "cell_type": "code",
   "execution_count": null,
   "id": "e01ac2dd-d88b-4ff8-bd7a-c28d3cc9b66f",
   "metadata": {},
   "outputs": [],
   "source": [
    "im_1 = cv2.imread('./images/dark_blobs_on_light_background.tif', cv2.IMREAD_GRAYSCALE)"
   ]
  },
  {
   "cell_type": "code",
   "execution_count": null,
   "id": "a0faee29-ab44-4645-959c-12354afb1e09",
   "metadata": {},
   "outputs": [],
   "source": [
    "# Imagen 1\n",
    "plt.figure()\n",
    "plt.title(\"Imagen 1\")\n",
    "plt.imshow(im_1, cmap='gray')\n",
    "plt.show()"
   ]
  },
  {
   "cell_type": "markdown",
   "id": "c3c335e4-fb95-45fb-a485-a7f0997fc7c8",
   "metadata": {},
   "source": [
    "## 2. Segmentación\n",
    "Definir un umbral para segmentar"
   ]
  },
  {
   "cell_type": "code",
   "execution_count": null,
   "id": "c65913f2-4a7d-4263-89cd-88f34abe927f",
   "metadata": {},
   "outputs": [],
   "source": [
    "bw_1 = im_1 < 100"
   ]
  },
  {
   "cell_type": "code",
   "execution_count": null,
   "id": "440ec745-e886-41d0-9af5-80f8ae971142",
   "metadata": {},
   "outputs": [],
   "source": [
    "plt.figure()\n",
    "plt.title(\"Segmentación de Imagen 1\")\n",
    "plt.imshow(bw_1, cmap='gray')\n",
    "plt.show()"
   ]
  },
  {
   "cell_type": "markdown",
   "id": "f186615c-1eda-404e-9bb6-65a1702b2300",
   "metadata": {},
   "source": [
    "## 3. Etiquetado de componentes conectados"
   ]
  },
  {
   "cell_type": "code",
   "execution_count": null,
   "id": "c212e03e-075e-4773-be99-c4e447a5907c",
   "metadata": {},
   "outputs": [],
   "source": [
    "# 3.1 Etiquetas\n",
    "L, n = ski.measure.label(bw_1, connectivity=2, return_num=True)\n",
    "print(f\"Número de regiones: {n}\")"
   ]
  },
  {
   "cell_type": "markdown",
   "id": "04781b2a-cd71-456a-b8bf-f808d6c607b2",
   "metadata": {},
   "source": [
    "Visualización de regiones"
   ]
  },
  {
   "cell_type": "code",
   "execution_count": null,
   "id": "fb773a1f-fafa-4a29-a5c9-d56826a9f7b0",
   "metadata": {},
   "outputs": [],
   "source": [
    "# Visualización de regiones usando un mapa de colores\n",
    "plt.figure()\n",
    "plt.title(\"Etiquetas de regiones\")\n",
    "plt.imshow(L, cmap='nipy_spectral')\n",
    "plt.colorbar()\n",
    "plt.show()"
   ]
  },
  {
   "cell_type": "markdown",
   "id": "354147e2-90c0-4e3a-b5ce-dd4d1988345c",
   "metadata": {},
   "source": [
    "### 3.1 Selección de una región"
   ]
  },
  {
   "cell_type": "code",
   "execution_count": null,
   "id": "60538c4a-6c9f-410a-802e-a3f622a9fca3",
   "metadata": {},
   "outputs": [],
   "source": [
    "# Selección de regiones individuales por su etiqueta\n",
    "reg_1 = (L == 1)\n",
    "reg_20 = (L == 32)\n",
    "reg_56 = (L == 45)\n",
    "\n",
    "# Visualización de las regiones seleccionadas\n",
    "fig, ax = plt.subplots(1, 3, figsize=(15, 5))\n",
    "ax[0].imshow(reg_1, cmap='gray')\n",
    "ax[0].set_title(\"Región 1\")\n",
    "ax[1].imshow(reg_20, cmap='gray')\n",
    "ax[1].set_title(\"Región 32\")\n",
    "ax[2].imshow(reg_56, cmap='gray')\n",
    "ax[2].set_title(\"Región 45\")\n",
    "plt.show()"
   ]
  },
  {
   "cell_type": "markdown",
   "id": "c4957d7f-d078-45f6-86b9-3af9c083a4a8",
   "metadata": {},
   "source": [
    "## 4. Propiedades de una región\n",
    "### 4.1 Extracción de propiedades de las regiones"
   ]
  },
  {
   "cell_type": "code",
   "execution_count": null,
   "id": "1d1cfde5-2c52-4a56-b740-4d2da83c1ec0",
   "metadata": {},
   "outputs": [],
   "source": [
    "stats = ski.measure.regionprops_table(L, properties=['centroid', 'major_axis_length', 'minor_axis_length'])"
   ]
  },
  {
   "cell_type": "code",
   "execution_count": null,
   "id": "e162a779-2775-4343-944b-c6b0f9b9dd9b",
   "metadata": {},
   "outputs": [],
   "source": [
    "print(stats)"
   ]
  },
  {
   "cell_type": "code",
   "execution_count": null,
   "id": "c8753a3a-7a61-4128-8508-56895b64742a",
   "metadata": {},
   "outputs": [],
   "source": [
    "# Convertir las propiedades a un DataFrame para facilitar la visualización\n",
    "stats_df = pd.DataFrame(stats)\n",
    "print(\"Propiedades de las regiones:\")\n",
    "print(stats_df)"
   ]
  },
  {
   "cell_type": "markdown",
   "id": "97ba3cb9-c011-4dc4-8132-d612242527fd",
   "metadata": {},
   "source": [
    "### 4.2 Otras propiedades"
   ]
  },
  {
   "cell_type": "code",
   "execution_count": null,
   "id": "a6e747ed-dfe2-4e0b-bb51-eb9020d2a359",
   "metadata": {},
   "outputs": [],
   "source": [
    "centers = np.column_stack((stats['centroid-0'], stats['centroid-1']))\n",
    "diameters = (np.array(stats['major_axis_length']) + np.array(stats['minor_axis_length'])) / 2\n",
    "radii = diameters / 2"
   ]
  },
  {
   "cell_type": "code",
   "execution_count": null,
   "id": "d68b6145-3028-4710-b1e0-e67abcc134e5",
   "metadata": {},
   "outputs": [],
   "source": [
    "# Visualización de los contornos y círculos\n",
    "plt.figure()\n",
    "plt.title(\"Contornos y círculos en la Imagen 1\")\n",
    "plt.imshow(im_1, cmap='gray')\n",
    "plt.axis('off')\n",
    "\n",
    "# Visualizar círculos en los centros de las regiones\n",
    "for center, radius in zip(centers, radii):\n",
    "    circle = plt.Circle((center[1], center[0]), radius, color='r', fill=False)\n",
    "    plt.gca().add_patch(circle)\n",
    "\n",
    "plt.show()"
   ]
  },
  {
   "cell_type": "markdown",
   "id": "5678a449-1a3f-40b7-86cc-3f2d2255f411",
   "metadata": {},
   "source": [
    "## 5. Cálculo de contornos"
   ]
  },
  {
   "cell_type": "code",
   "execution_count": null,
   "id": "63a88fc9-f247-4f7e-8a18-2652e463bbec",
   "metadata": {},
   "outputs": [],
   "source": [
    "# Encontrar contornos usando el algoritmo de límites\n",
    "B = ski.measure.find_contours(bw_1, level=0.5)"
   ]
  },
  {
   "cell_type": "code",
   "execution_count": null,
   "id": "e8fd881b-7c5e-452b-b428-148d9adb5254",
   "metadata": {},
   "outputs": [],
   "source": [
    "# Visualizar imagen y trazar los contornos\n",
    "plt.figure()\n",
    "plt.title(\"Contornos en la Imagen 1\")\n",
    "plt.imshow(im_1, cmap='gray')\n",
    "for boundary in B:\n",
    "    plt.plot(boundary[:, 1], boundary[:, 0], 'r', linewidth=2)\n",
    "plt.show()"
   ]
  },
  {
   "cell_type": "markdown",
   "id": "a4f42ace-a18f-4c3e-8178-d318bbc80900",
   "metadata": {},
   "source": [
    "<b>Actividad</b>\n",
    "\n",
    "- Investiga otras propiedades en la libreria scikit-image.\n",
    "- Adecue el notebook a las 'rice_image_with_intensity_gradient.tif' y 'wood_dowels.tif'"
   ]
  }
 ],
 "metadata": {
  "kernelspec": {
   "display_name": "cv2-kernel",
   "language": "python",
   "name": "cv2-kernel"
  },
  "language_info": {
   "codemirror_mode": {
    "name": "ipython",
    "version": 3
   },
   "file_extension": ".py",
   "mimetype": "text/x-python",
   "name": "python",
   "nbconvert_exporter": "python",
   "pygments_lexer": "ipython3",
   "version": "3.8.18"
  }
 },
 "nbformat": 4,
 "nbformat_minor": 5
}
