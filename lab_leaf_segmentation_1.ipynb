{
 "cells": [
  {
   "cell_type": "markdown",
   "id": "30ae7250-de83-418e-bf64-27f6c6996433",
   "metadata": {},
   "source": [
    "# Práctica. Segmentación de imagenes (caso binario)\n",
    "Grape leaf project\n",
    "\n",
    "<div class=\"alert alert-block alert-success\">\n",
    "<b>Resumen:</b> Ejercicio de segmentación.\n",
    "</div>"
   ]
  },
  {
   "cell_type": "markdown",
   "id": "b99de109-1ee6-446d-a7c8-314136a7d597",
   "metadata": {},
   "source": [
    "---"
   ]
  },
  {
   "cell_type": "code",
   "execution_count": null,
   "id": "9f5ec85a-22f6-4c4a-94ee-1698850ee2e9",
   "metadata": {},
   "outputs": [],
   "source": [
    "import cv2\n",
    "import numpy as np\n",
    "import matplotlib.pyplot as plt"
   ]
  },
  {
   "cell_type": "markdown",
   "id": "690c010b-3851-4f54-9ae8-7c29f31263db",
   "metadata": {},
   "source": [
    "## 1. Dataset\n",
    "\n",
    "Repositorio de imágenes"
   ]
  },
  {
   "cell_type": "code",
   "execution_count": null,
   "id": "6bf6f3e5-bf8b-42c6-be05-f706da6d7a50",
   "metadata": {},
   "outputs": [],
   "source": [
    "im_list = [\"leaf_1.JPG\", \"leaf_2.JPG\", \"leaf_3.JPG\"]"
   ]
  },
  {
   "cell_type": "markdown",
   "id": "36233f16-b846-4256-9f08-be6b29366b1d",
   "metadata": {},
   "source": [
    "Temas a considerar:\n",
    "\n",
    "- Politica de nombrado de archivos.\n",
    "- Formatos de imagen.\n",
    "- Estructura y organización de los datos (imagenes, resultados, y etc)."
   ]
  },
  {
   "cell_type": "markdown",
   "id": "3f325087-784c-42e3-a563-13dc33944e61",
   "metadata": {},
   "source": [
    "## 3. Diseño del algoritmo"
   ]
  },
  {
   "cell_type": "markdown",
   "id": "548cffe5-5606-47f2-8968-16f2b6511b83",
   "metadata": {},
   "source": [
    "### 3.1. Visualización del dataset"
   ]
  },
  {
   "cell_type": "code",
   "execution_count": null,
   "id": "f20c6ab1-81f3-48b3-9870-033f443b57a2",
   "metadata": {},
   "outputs": [],
   "source": [
    "plt.figure(figsize=(6,6))\n",
    "\n",
    "for i,im_name in enumerate(im_list, start=1):   \n",
    "    im_bgr = cv2.imread(im_name)\n",
    "    im_rgb = cv2.cvtColor(im_bgr, cv2.COLOR_BGR2RGB)\n",
    "\n",
    "    # párametros de los subplots\n",
    "    plt.subplot(1,3,i) #hardcoded\n",
    "    plt.imshow(im_rgb)\n",
    "    plt.title(f\"Imagen {i}\")\n",
    "    plt.axis('off')"
   ]
  },
  {
   "cell_type": "markdown",
   "id": "0bf34958-ef46-4652-81e4-b32fc9f9829d",
   "metadata": {},
   "source": [
    "### 3.2. Definir el objetivo\n",
    "¿Cuál es el objetivo del algoritmo?\n",
    "- Escriba aquí su objetivo"
   ]
  },
  {
   "cell_type": "markdown",
   "id": "252aff36-ef0e-4829-a048-ade6ed4c8f10",
   "metadata": {},
   "source": [
    "### 3.3. Restricciones\n",
    "\n",
    "- [ ] Problema binario (2 clases).\n",
    "- [ ] Problema ternario (3 clase).\n",
    "- [ ] Problema cuaternario (4 clases).\n",
    "- [ ] Problema n-ario (n clases)."
   ]
  },
  {
   "cell_type": "markdown",
   "id": "bdcd8acc-5e2a-4a45-bb71-7ddfcb8512bf",
   "metadata": {},
   "source": [
    "### 3.4. Base de conocimiento\n",
    "* Histogramas.\n",
    "* Segmentación por doble umbral.\n",
    "* Operaciones lógicas entre canales.\n",
    "* Espacio de color.\n",
    "\n",
    "### 3.5. Análisis del histograma de las imágenes"
   ]
  },
  {
   "cell_type": "code",
   "execution_count": null,
   "id": "c66b6c03-47fc-47ff-b9a5-44c39456cf4d",
   "metadata": {},
   "outputs": [],
   "source": [
    "# Grafica de los histogramas de las imágenes\n",
    "colors = ('r', 'g', 'b')\n",
    "plt.figure(figsize=(6,6))\n",
    "f = 0\n",
    "for i, im_name in enumerate(im_list):\n",
    "    im_bgr = cv2.imread(im_name)\n",
    "    im_rgb = cv2.cvtColor(im_bgr, cv2.COLOR_BGR2RGB)  # <= actualice su código si utiliza otro espacio de color\n",
    "    for u, color in enumerate(colors):\n",
    "        f += 1\n",
    "        plt.subplot(3, 3, f)\n",
    "        hist = cv2.calcHist([im_rgb], [u], None, [256], [0, 256])\n",
    "        plt.plot(hist, color=color)\n",
    "        plt.title(f'Histograma - Canal {color.upper()} {f}')\n",
    "        plt.xlabel('Intensidad de los píxeles')\n",
    "        plt.ylabel('Frecuencia')\n",
    "plt.show()"
   ]
  },
  {
   "cell_type": "markdown",
   "id": "738f5799-0134-4ae6-a0d9-856237e9c7e4",
   "metadata": {},
   "source": [
    "### 3.6. Deducción de la regla de fusíón de los canales"
   ]
  },
  {
   "cell_type": "markdown",
   "id": "448b19f5-2534-424a-bcf8-3926c0f75c53",
   "metadata": {},
   "source": [
    "Escriba su regla de fusión aquí"
   ]
  },
  {
   "cell_type": "markdown",
   "id": "2cb93629-2342-4e34-97e3-5c1339ce6208",
   "metadata": {},
   "source": [
    "### 3.7. Selección preliminar de umbral(es)"
   ]
  },
  {
   "cell_type": "markdown",
   "id": "cc4ffaf6-07f2-4fb0-b2b7-e62bafb5b62b",
   "metadata": {},
   "source": [
    "* Canal 0 (red) = [  , ]\n",
    "* Canal 1 (green) = [  , ]\n",
    "* Canal 2 (blue) = [  , ]"
   ]
  },
  {
   "cell_type": "markdown",
   "id": "f162f85a-d809-4311-9983-da0b3e6f7e02",
   "metadata": {},
   "source": [
    "### 3.8. Implementación del algoritmo de segmentación"
   ]
  },
  {
   "cell_type": "code",
   "execution_count": null,
   "id": "ad83a4fa-aced-4c7f-a3a0-a86b8e56728d",
   "metadata": {},
   "outputs": [],
   "source": [
    "def bilateral_segmentation(im_rgb, lower_bound=[0, 0, 0], upper_bound=[1, 1, 1]):\n",
    "    # aquí su código\n",
    "    return im_rgb #sustituya por im_bw"
   ]
  },
  {
   "cell_type": "markdown",
   "id": "64f1be44-72b3-4c34-abc0-d63a2f807c18",
   "metadata": {},
   "source": [
    "### 4. Evaluación del algoritmo\n",
    "\n",
    "Se debería realizar contra datos anotados."
   ]
  },
  {
   "cell_type": "code",
   "execution_count": null,
   "id": "f4352909-344f-498a-a717-b96452dd6c3d",
   "metadata": {},
   "outputs": [],
   "source": [
    "plt.figure(figsize=(6,6))\n",
    "\n",
    "for i,im_name in enumerate(im_list, start=1):   \n",
    "    im_bgr = cv2.imread(im_name)\n",
    "    im_rgb = cv2.cvtColor(im_bgr, cv2.COLOR_BGR2RGB)   # <= actualice su código si utiliza otro espacio de color\n",
    "\n",
    "    # algoritmo de segmentación bilateral\n",
    "    im_seg = bilateral_segmentation_3(im_rgb) # recuerde actualizar los argumentos\n",
    "    \n",
    "    plt.subplot(2,3,i) #hardcoded\n",
    "    plt.imshow(im_rgb)\n",
    "    plt.title(f\"Imagen {i}\")\n",
    "    plt.axis('off')\n",
    "\n",
    "    plt.subplot(2,3,i+3) #hardcoded\n",
    "    plt.imshow(im_seg, cmap=\"gray\")\n",
    "    plt.title(f\"Seg {i}\")\n",
    "    plt.axis('off')"
   ]
  },
  {
   "cell_type": "markdown",
   "id": "86c30475-1dad-4366-82a9-e270a6e7bf00",
   "metadata": {},
   "source": [
    "## 5. Ajuste de parámetros"
   ]
  },
  {
   "cell_type": "markdown",
   "id": "6fb89ef5-f350-4843-a287-ff30d1bf8568",
   "metadata": {},
   "source": [
    "Observe los resultados y ajuste los umbrales (parámetros) del algoritmo."
   ]
  },
  {
   "cell_type": "markdown",
   "id": "a644da43-c73a-4482-893e-f210a2a8dd16",
   "metadata": {},
   "source": [
    "## 6. Resultados del algoritmo\n",
    "\n",
    "Almacene los resultados de su algoritmo."
   ]
  },
  {
   "cell_type": "code",
   "execution_count": null,
   "id": "4cad8b62-1d23-4d6a-8e64-8a86eb4a92cc",
   "metadata": {},
   "outputs": [],
   "source": [
    "seg_list = [im.replace('.JPG', '_seg.png') for im in im_list]\n",
    "\n",
    "for i,im_name in enumerate(im_list):\n",
    "    im_bgr = cv2.imread(im_name)\n",
    "    im_rgb = cv2.cvtColor(im_bgr, cv2.COLOR_BGR2RGB)   # <= actualice su código si utiliza otro espacio de color\n",
    "\n",
    "    # algoritmo de segmentación bilateral\n",
    "    im_seg = bilateral_segmentation(im_rgb) # recuerde actualizar los argumentos\n",
    "\n",
    "    cv2.imwrite(seg_list[i], im_seg)\n",
    "    print(seg_list[i])"
   ]
  },
  {
   "cell_type": "markdown",
   "id": "e7348899-e292-465c-af99-adc3215df115",
   "metadata": {},
   "source": [
    "---\n",
    "<div class=\"alert alert-block alert-danger\">\n",
    "<b>Atención</b> con las linea de código hardcoded, las cuales fueron incluidas para reducir la complejidad del notebook.\n",
    "</div>"
   ]
  }
 ],
 "metadata": {
  "kernelspec": {
   "display_name": "cv2-kernel",
   "language": "python",
   "name": "cv2-kernel"
  },
  "language_info": {
   "codemirror_mode": {
    "name": "ipython",
    "version": 3
   },
   "file_extension": ".py",
   "mimetype": "text/x-python",
   "name": "python",
   "nbconvert_exporter": "python",
   "pygments_lexer": "ipython3",
   "version": "3.8.18"
  }
 },
 "nbformat": 4,
 "nbformat_minor": 5
}
