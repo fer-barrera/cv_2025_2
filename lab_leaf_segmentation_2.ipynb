{
 "cells": [
  {
   "cell_type": "markdown",
   "id": "ccd0a495-206e-47a9-855a-61f317e37953",
   "metadata": {},
   "source": [
    "# Práctica. Segmentación de imagenes (caso binario)\n",
    "Grape leaf project\n",
    "\n",
    "<div class=\"alert alert-block alert-success\">\n",
    "<b>Resumen:</b> Este notebook tiene como objetivo explicar de manera técnica el Índice de Jaccard y el Coeficiente de Dice, dos métricas ampliamente utilizadas para evaluar la efectividad de algoritmos de segmentación de imágenes.\n",
    "</div>"
   ]
  },
  {
   "cell_type": "markdown",
   "id": "8034c31e-8c7d-4076-be0f-2d7b625aa96d",
   "metadata": {},
   "source": [
    "***"
   ]
  },
  {
   "cell_type": "code",
   "execution_count": null,
   "id": "9761a4cf-28f5-4126-9214-f449066107b8",
   "metadata": {},
   "outputs": [],
   "source": [
    "import cv2\n",
    "import numpy as np\n",
    "import matplotlib.pyplot as plt"
   ]
  },
  {
   "cell_type": "markdown",
   "id": "8ec762c1-22c1-438a-a699-78d8548e4722",
   "metadata": {},
   "source": [
    "***\n",
    "\n",
    "## Imagenes de prueba"
   ]
  },
  {
   "cell_type": "code",
   "execution_count": null,
   "id": "48461478-3bd7-40a2-9f6f-30e74c252753",
   "metadata": {},
   "outputs": [],
   "source": [
    "# Prueba con datos binarios de ejemplo\n",
    "y_true = np.array([[1, 1, 0, 0],\n",
    "                   [0, 1, 1, 0],\n",
    "                   [0, 0, 1, 0],\n",
    "                   [0, 0, 0, 0]], dtype=np.uint8)\n",
    "\n",
    "y_pred = np.array([[1, 1, 1, 0],\n",
    "                   [0, 1, 1, 0],\n",
    "                   [0, 0, 1, 0],\n",
    "                   [0, 0, 0, 0]], dtype=np.uint8)"
   ]
  },
  {
   "cell_type": "code",
   "execution_count": null,
   "id": "3b8607cb-fbcd-4c9a-94dd-f96fc9b0b519",
   "metadata": {},
   "outputs": [],
   "source": [
    "plt.figure(figsize=(6,6))\n",
    "plt.subplot(1,2,1)\n",
    "plt.imshow(y_true, cmap=\"gray\")\n",
    "plt.title(\"Imagen de referencia\")\n",
    "plt.axis('off')\n",
    "\n",
    "plt.subplot(1,2,2)\n",
    "plt.imshow(y_pred, cmap=\"gray\")\n",
    "plt.title(\"Imagen segmentada\")\n",
    "plt.axis('off')"
   ]
  },
  {
   "cell_type": "markdown",
   "id": "83788296-2eb5-4e93-8261-fa807f5142bc",
   "metadata": {},
   "source": [
    "***\n",
    "\n",
    "## 1. Índice de Jaccard (IoU - Intersection over Union)\n",
    "\n",
    "El Índice de Jaccard, también conocido como Intersection over Union (IoU), mide la superposición entre el área segmentada por el algoritmo y el área de referencia, conocida como \"ground truth\". Es una métrica que indica cuán similar es la segmentación automática con respecto a la referencia.\n",
    "\n",
    "La fórmula del Índice de Jaccard es la siguiente:\n",
    "\n",
    "$IoU = |A ∩ B| / |A ∪ B|$\n",
    "\n",
    "Donde:\n",
    "- A es el conjunto de píxeles en la segmentación automática.\n",
    "- B es el conjunto de píxeles en la segmentación de referencia.\n",
    "- ∩ indica la intersección entre ambos conjuntos.\n",
    "- ∪ indica la unión de ambos conjuntos.\n",
    "\n",
    "Un valor de IoU cercano a 1 indica una mejor precisión en la segmentación."
   ]
  },
  {
   "cell_type": "markdown",
   "id": "f099c167-889a-4884-bca6-0f5e5679e270",
   "metadata": {},
   "source": [
    "### 1.1. Función índice de Jaccard"
   ]
  },
  {
   "cell_type": "code",
   "execution_count": null,
   "id": "bd3aa4c2-3954-4a0d-8a29-054798bb43b7",
   "metadata": {},
   "outputs": [],
   "source": [
    "def jaccard_index(y_true, y_pred):\n",
    "    intersection = cv2.bitwise_and(y_true, y_pred)\n",
    "    union = cv2.bitwise_or(y_true, y_pred)\n",
    "    iou = np.sum(intersection) / np.sum(union)\n",
    "    return iou"
   ]
  },
  {
   "cell_type": "markdown",
   "id": "66906af9-e155-4cc5-81c1-e2696122a8f7",
   "metadata": {},
   "source": [
    "### 1.2. Calculo IoJ"
   ]
  },
  {
   "cell_type": "code",
   "execution_count": null,
   "id": "66a34b67-f16f-4b44-b849-c1f991bc2634",
   "metadata": {},
   "outputs": [],
   "source": [
    "iou = jaccard_index(y_true, y_pred)\n",
    "print(f\"Índice de Jaccard (IoU): {iou:.2f}\")"
   ]
  },
  {
   "cell_type": "markdown",
   "id": "d1da2b44-716a-4b07-bfb0-47ae5f81237f",
   "metadata": {},
   "source": [
    "***\n",
    "\n",
    "## 2. Coeficiente de Dice (DSC - Dice Similarity Coefficient)\n",
    "\n",
    "El Coeficiente de Dice es una métrica similar al Índice de Jaccard, pero con mayor énfasis en la coincidencia entre la segmentación automática y la de referencia. Es especialmente útil en casos donde se busca maximizar la detección de coincidencias verdaderas.\n",
    "\n",
    "La fórmula del Coeficiente de Dice es la siguiente:\n",
    "\n",
    "$DSC = 2|A ∩ B| / (|A| + |B|)$\n",
    "\n",
    "Donde:\n",
    "- A es el conjunto de píxeles en la segmentación automática.\n",
    "- B es el conjunto de píxeles en la segmentación de referencia.\n",
    "- ∩ indica la intersección entre ambos conjuntos.\n",
    "\n",
    "Un valor de DSC cercano a 1 indica una mejor coincidencia entre las segmentaciones."
   ]
  },
  {
   "cell_type": "markdown",
   "id": "d6296652-72c2-4496-b578-73684e0a0fe5",
   "metadata": {},
   "source": [
    "### 2.1. Función coeficiente de Dice"
   ]
  },
  {
   "cell_type": "code",
   "execution_count": null,
   "id": "0aea60cc-f888-4e94-a4ef-097844cc6fbd",
   "metadata": {},
   "outputs": [],
   "source": [
    "def dice_coefficient(y_true, y_pred):\n",
    "    intersection = cv2.bitwise_and(y_true, y_pred)\n",
    "    dice = 2 * np.sum(intersection) / (np.sum(y_true) + np.sum(y_pred))\n",
    "    return dice"
   ]
  },
  {
   "cell_type": "markdown",
   "id": "130e7cd9-c73d-49da-9c16-c5aae9f83ef1",
   "metadata": {},
   "source": [
    "### 2.2. Calculo coeficiente Dice"
   ]
  },
  {
   "cell_type": "code",
   "execution_count": null,
   "id": "2cb4602c-f68f-4f30-b07f-00afd98b296f",
   "metadata": {},
   "outputs": [],
   "source": [
    "# Prueba con los mismos datos binarios de ejemplo\n",
    "dsc = dice_coefficient(y_true, y_pred)\n",
    "print(f\"Coeficiente de Dice (DSC): {dsc:.2f}\")"
   ]
  },
  {
   "cell_type": "markdown",
   "id": "3cf95994-700e-4152-820c-5327dfc5822d",
   "metadata": {},
   "source": [
    "***\n",
    "## 3. Actividad\n",
    "### 3.1 Validación del algoritmo de segmentación\n",
    "\n",
    "\n",
    "Cada grupo debe tomar el resultado de su algoritmo de segmentación de hojas de uva, y validarlo utilizando las métricas estudiadas (Jaccard y DICE). Primero, almacene los resultados de su algoritmo utilizando el conjunto de imágenes proporcionadas, luego calcule los índices frente a las imágenes referencia. Finalmente, analicen sus resultados."
   ]
  },
  {
   "cell_type": "markdown",
   "id": "e8963328-e84c-489e-a3c7-987fb11c1ee3",
   "metadata": {},
   "source": [
    "Lista de imagenes de referencia para la etiqueta grape_leave"
   ]
  },
  {
   "cell_type": "code",
   "execution_count": null,
   "id": "0c9707f1-a8c1-4321-967e-386b0d47f47c",
   "metadata": {},
   "outputs": [],
   "source": [
    "im_list = [\"leaf_1.JPG\", \"leaf_2.JPG\", \"leaf_3.JPG\"]\n",
    "gt_grape_leave_list = [\"leaf_1-tag-grape_leave-0.png\", \"leaf_2-tag-grape_leave-0.png\", \"leaf_3-tag-grape_leave-0.png\"]\n",
    "pred_seg_list = [\"leaf_1_seg.png\", \"leaf_2_seg.png\", \"leaf_3_seg.png\"] # <-- mis resultados\n",
    "#pred_seg_list = gt_grape_leave_list # comente esta linea para evaluar sus resultados"
   ]
  },
  {
   "cell_type": "code",
   "execution_count": null,
   "id": "8a6e039d-07eb-4beb-83ad-d7c8d32c1158",
   "metadata": {},
   "outputs": [],
   "source": [
    "plt.figure(figsize=(6,6))\n",
    "\n",
    "for i, (im_gt_name, im_pred_seg) in enumerate(zip(gt_grape_leave_list, pred_seg_list), start=1):   \n",
    "    gt_bool = cv2.imread(im_gt_name)\n",
    "    seg_bool = cv2.imread(im_pred_seg)\n",
    "    \n",
    "    plt.subplot(2,3,i) #hardcoded\n",
    "    plt.imshow(gt_bool)\n",
    "    plt.title(f\"GT {i}\")\n",
    "    plt.axis('off')\n",
    "\n",
    "    plt.subplot(2,3,i+3) #hardcoded\n",
    "    plt.imshow(seg_bool)\n",
    "    plt.title(f\"Seg {i}\")\n",
    "    plt.axis('off')\n",
    "\n",
    "    print(\"---------------\")\n",
    "    print(f\"Imagen {i}\")\n",
    "    \n",
    "    iou = jaccard_index(gt_bool, seg_bool)\n",
    "    print(f\"Índice de Jaccard (IoU): {iou:.2f}\")\n",
    "\n",
    "    dsc = dice_coefficient(gt_bool, seg_bool)\n",
    "    print(f\"Coeficiente de Dice (DSC): {dsc:.2f}\")"
   ]
  },
  {
   "cell_type": "code",
   "execution_count": null,
   "id": "e4ed9eaa-9239-43e9-a760-5ff405d0f9db",
   "metadata": {},
   "outputs": [],
   "source": []
  }
 ],
 "metadata": {
  "kernelspec": {
   "display_name": "cv2-kernel",
   "language": "python",
   "name": "cv2-kernel"
  },
  "language_info": {
   "codemirror_mode": {
    "name": "ipython",
    "version": 3
   },
   "file_extension": ".py",
   "mimetype": "text/x-python",
   "name": "python",
   "nbconvert_exporter": "python",
   "pygments_lexer": "ipython3",
   "version": "3.8.18"
  }
 },
 "nbformat": 4,
 "nbformat_minor": 5
}
